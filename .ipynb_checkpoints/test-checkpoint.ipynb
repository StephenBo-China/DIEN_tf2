{
 "cells": [
  {
   "cell_type": "code",
   "execution_count": 1,
   "metadata": {},
   "outputs": [],
   "source": [
    "import tensorflow as tf\n",
    "from tensorflow import keras\n",
    "import numpy\n",
    "from tensorflow.keras import layers\n",
    "from pyspark.sql import SQLContext\n",
    "from pyspark import SparkContext\n",
    "from pyspark.sql import SparkSession\n",
    "import pyspark.sql.functions as f\n",
    "import pandas as pd\n",
    "import numpy as np\n",
    "import time"
   ]
  },
  {
   "cell_type": "code",
   "execution_count": 2,
   "metadata": {
    "tags": []
   },
   "outputs": [
    {
     "name": "stdout",
     "output_type": "stream",
     "text": [
      "2.0.0\n"
     ]
    },
    {
     "ename": "InternalError",
     "evalue": "CUDA runtime implicit initialization on GPU:0 failed. Status: out of memory",
     "output_type": "error",
     "traceback": [
      "\u001b[0;31m---------------------------------------------------------------------------\u001b[0m",
      "\u001b[0;31mInternalError\u001b[0m                             Traceback (most recent call last)",
      "\u001b[0;32m<ipython-input-2-6555ca19308c>\u001b[0m in \u001b[0;36m<module>\u001b[0;34m\u001b[0m\n\u001b[1;32m      1\u001b[0m \u001b[0mprint\u001b[0m\u001b[0;34m(\u001b[0m\u001b[0mtf\u001b[0m\u001b[0;34m.\u001b[0m\u001b[0m__version__\u001b[0m\u001b[0;34m)\u001b[0m\u001b[0;34m\u001b[0m\u001b[0;34m\u001b[0m\u001b[0m\n\u001b[0;32m----> 2\u001b[0;31m \u001b[0mprint\u001b[0m\u001b[0;34m(\u001b[0m\u001b[0;34m\"GPU Available: \"\u001b[0m\u001b[0;34m,\u001b[0m \u001b[0mtf\u001b[0m\u001b[0;34m.\u001b[0m\u001b[0mtest\u001b[0m\u001b[0;34m.\u001b[0m\u001b[0mis_gpu_available\u001b[0m\u001b[0;34m(\u001b[0m\u001b[0;34m)\u001b[0m\u001b[0;34m)\u001b[0m\u001b[0;34m\u001b[0m\u001b[0;34m\u001b[0m\u001b[0m\n\u001b[0m",
      "\u001b[0;32m~/lihao/anaconda3/envs/tensorflow_gpuenv/lib/python3.7/site-packages/tensorflow_core/python/framework/test_util.py\u001b[0m in \u001b[0;36mis_gpu_available\u001b[0;34m(cuda_only, min_cuda_compute_capability)\u001b[0m\n\u001b[1;32m   1430\u001b[0m \u001b[0;34m\u001b[0m\u001b[0m\n\u001b[1;32m   1431\u001b[0m   \u001b[0;32mtry\u001b[0m\u001b[0;34m:\u001b[0m\u001b[0;34m\u001b[0m\u001b[0;34m\u001b[0m\u001b[0m\n\u001b[0;32m-> 1432\u001b[0;31m     \u001b[0;32mfor\u001b[0m \u001b[0mlocal_device\u001b[0m \u001b[0;32min\u001b[0m \u001b[0mdevice_lib\u001b[0m\u001b[0;34m.\u001b[0m\u001b[0mlist_local_devices\u001b[0m\u001b[0;34m(\u001b[0m\u001b[0;34m)\u001b[0m\u001b[0;34m:\u001b[0m\u001b[0;34m\u001b[0m\u001b[0;34m\u001b[0m\u001b[0m\n\u001b[0m\u001b[1;32m   1433\u001b[0m       \u001b[0;32mif\u001b[0m \u001b[0mlocal_device\u001b[0m\u001b[0;34m.\u001b[0m\u001b[0mdevice_type\u001b[0m \u001b[0;34m==\u001b[0m \u001b[0;34m\"GPU\"\u001b[0m\u001b[0;34m:\u001b[0m\u001b[0;34m\u001b[0m\u001b[0;34m\u001b[0m\u001b[0m\n\u001b[1;32m   1434\u001b[0m         if (min_cuda_compute_capability is None or\n",
      "\u001b[0;32m~/lihao/anaconda3/envs/tensorflow_gpuenv/lib/python3.7/site-packages/tensorflow_core/python/client/device_lib.py\u001b[0m in \u001b[0;36mlist_local_devices\u001b[0;34m(session_config)\u001b[0m\n\u001b[1;32m     39\u001b[0m   return [\n\u001b[1;32m     40\u001b[0m       \u001b[0m_convert\u001b[0m\u001b[0;34m(\u001b[0m\u001b[0ms\u001b[0m\u001b[0;34m)\u001b[0m\u001b[0;34m\u001b[0m\u001b[0;34m\u001b[0m\u001b[0m\n\u001b[0;32m---> 41\u001b[0;31m       \u001b[0;32mfor\u001b[0m \u001b[0ms\u001b[0m \u001b[0;32min\u001b[0m \u001b[0mpywrap_tensorflow\u001b[0m\u001b[0;34m.\u001b[0m\u001b[0mlist_devices\u001b[0m\u001b[0;34m(\u001b[0m\u001b[0msession_config\u001b[0m\u001b[0;34m=\u001b[0m\u001b[0msession_config\u001b[0m\u001b[0;34m)\u001b[0m\u001b[0;34m\u001b[0m\u001b[0;34m\u001b[0m\u001b[0m\n\u001b[0m\u001b[1;32m     42\u001b[0m   ]\n",
      "\u001b[0;32m~/lihao/anaconda3/envs/tensorflow_gpuenv/lib/python3.7/site-packages/tensorflow_core/python/pywrap_tensorflow_internal.py\u001b[0m in \u001b[0;36mlist_devices\u001b[0;34m(session_config)\u001b[0m\n\u001b[1;32m   2247\u001b[0m     \u001b[0;32mreturn\u001b[0m \u001b[0mListDevicesWithSessionConfig\u001b[0m\u001b[0;34m(\u001b[0m\u001b[0msession_config\u001b[0m\u001b[0;34m.\u001b[0m\u001b[0mSerializeToString\u001b[0m\u001b[0;34m(\u001b[0m\u001b[0;34m)\u001b[0m\u001b[0;34m)\u001b[0m\u001b[0;34m\u001b[0m\u001b[0;34m\u001b[0m\u001b[0m\n\u001b[1;32m   2248\u001b[0m   \u001b[0;32melse\u001b[0m\u001b[0;34m:\u001b[0m\u001b[0;34m\u001b[0m\u001b[0;34m\u001b[0m\u001b[0m\n\u001b[0;32m-> 2249\u001b[0;31m     \u001b[0;32mreturn\u001b[0m \u001b[0mListDevices\u001b[0m\u001b[0;34m(\u001b[0m\u001b[0;34m)\u001b[0m\u001b[0;34m\u001b[0m\u001b[0;34m\u001b[0m\u001b[0m\n\u001b[0m\u001b[1;32m   2250\u001b[0m \u001b[0;34m\u001b[0m\u001b[0m\n\u001b[1;32m   2251\u001b[0m \u001b[0;34m\u001b[0m\u001b[0m\n",
      "\u001b[0;31mInternalError\u001b[0m: CUDA runtime implicit initialization on GPU:0 failed. Status: out of memory"
     ]
    }
   ],
   "source": [
    "print(tf.__version__)\n",
    "print(\"GPU Available: \", tf.test.is_gpu_available())\n"
   ]
  },
  {
   "cell_type": "code",
   "execution_count": null,
   "metadata": {},
   "outputs": [],
   "source": [
    "a = tf.convert_to_tensor([0.1, 0.2, 0.7])\n",
    "b = tf.convert_to_tensor([[1.,2.,3.], [2.,3.,4.], [3., 5., 4.]])\n",
    "a * b"
   ]
  },
  {
   "cell_type": "code",
   "execution_count": null,
   "metadata": {},
   "outputs": [],
   "source": []
  },
  {
   "cell_type": "markdown",
   "metadata": {},
   "source": [
    "# 1. Model\n",
    "## (1) AUGRU:\n",
    "\n",
    "$$\n",
    "u_t = \\sigma (W^{\\mu}i_{t} + U^{\\mu}h_{t-1}+b^{\\mu})\n",
    "$$\n",
    "\n",
    "\n",
    "$$\n",
    "\\tilde{u_{t}'} = a_{t} \\ast u_{t}'\n",
    "$$\n",
    "\n",
    "$$\n",
    "r_{t} = \\sigma (W^{r}i_{t} + U^{r}h_{t-1}+b^{r})\n",
    "$$\n",
    "\n",
    "\n",
    "$$\n",
    "\\tilde{h_t} = tanh(W^{h}i_{t} + r_{t} \\circ U^{h}h_{t-1}+b^{h})\n",
    "$$\n",
    "\n",
    "\n",
    "$$\n",
    "h_{t}' = (1-\\tilde{u_{t}'}) \\circ h_{t-1}' + \\tilde{u_{t}'} \\circ \\tilde{h_t'}\n",
    "$$"
   ]
  },
  {
   "cell_type": "code",
   "execution_count": null,
   "metadata": {},
   "outputs": [],
   "source": [
    "class GRU_GATES(tf.keras.layers.Layer):\n",
    "    def __init__(self, units):\n",
    "        super(GRU_GATES, self).__init__()\n",
    "        self.linear_act = layers.Dense(units, activation=None, use_bias=True)\n",
    "        self.linear_noact = layers.Dense(units, activation=None, use_bias=False)\n",
    "\n",
    "    def call(self, a, b, gate_b=None):\n",
    "        if gate_b is None:\n",
    "            return tf.keras.activations.sigmoid(self.linear_act(a) + self.linear_noact(b))\n",
    "        else:\n",
    "            return tf.keras.activations.tanh(self.linear_act(a) + tf.math.multiply(gate_b, self.linear_noact(b)))"
   ]
  },
  {
   "cell_type": "code",
   "execution_count": null,
   "metadata": {},
   "outputs": [],
   "source": [
    "class AUGRU(layers.Layer):\n",
    "    def __init__(self, units):\n",
    "        super(AUGRU, self).__init__()\n",
    "        self.u_gate = GRU_GATES(units)\n",
    "        self.r_gate = GRU_GATES(units)\n",
    "        self.c_memo = GRU_GATES(units)\n",
    "\n",
    "    def call(self, inputs, state, att_score):\n",
    "        u = self.u_gate(inputs, state) #u_t\n",
    "        r = self.r_gate(inputs, state) #r_t\n",
    "        c = self.c_memo(inputs, state, r) #\\tilde{h_t}\n",
    "        u_= att_score * u #\\tilde{u_{t}'} [AUGRU Add]\n",
    "        state_next = (1 - u_) * state + u_ * c #h_t [AUGRU change u_t on output]\n",
    "        return state_next"
   ]
  },
  {
   "cell_type": "markdown",
   "metadata": {},
   "source": [
    "## (2) GRU Self_Defination"
   ]
  },
  {
   "cell_type": "code",
   "execution_count": null,
   "metadata": {},
   "outputs": [],
   "source": [
    "class GRU(layers.Layer):\n",
    "    def __init__(self, units):\n",
    "        super(GRU, self).__init__()\n",
    "        self.u_gate = GRU_GATES(units)\n",
    "        self.r_gate = GRU_GATES(units)\n",
    "        self.c_memo = GRU_GATES(units)\n",
    "    \n",
    "    def call(self, inputs, state):\n",
    "        u = self.u_gate(inputs, state)\n",
    "        r = self.r_gate(inputs, state)\n",
    "        c = self.c_memo(inputs, state, r)\n",
    "        state_next = (1 - u) * state + u * c\n",
    "        return state_next "
   ]
  },
  {
   "cell_type": "markdown",
   "metadata": {},
   "source": [
    "## (3) Dice Activation Function"
   ]
  },
  {
   "cell_type": "code",
   "execution_count": null,
   "metadata": {},
   "outputs": [],
   "source": [
    "class Dice(tf.keras.layers.Layer):\n",
    "    def __init__(self):\n",
    "        super(Dice, self).__init__()\n",
    "        self.bn = tf.keras.layers.BatchNormalization(center=False, scale=False)\n",
    "        self.alpha = self.add_weight(shape=(), dtype=tf.float32, name='alpha')\n",
    "\n",
    "    def call(self, x):\n",
    "        x_normed = self.bn(x)\n",
    "        x_p = tf.sigmoid(x_normed)\n",
    "        return self.alpha * (1.0 - x_p) * x + x_p * x"
   ]
  },
  {
   "cell_type": "markdown",
   "metadata": {},
   "source": []
  },
  {
   "cell_type": "markdown",
   "metadata": {},
   "source": [
    "## (4) Attention Layer"
   ]
  },
  {
   "cell_type": "code",
   "execution_count": null,
   "metadata": {},
   "outputs": [],
   "source": [
    "class AttentionLayer(layers.Layer):\n",
    "    def __init__(self, attention_size, drop_rate):\n",
    "        super().__init__()\n",
    "        self.attention_size = attention_size\n",
    "        self.dropout = Dropout(drop_rate, name = \"rnn_attention_dropout\")\n",
    "\n",
    "    def build(self, input_shape):\n",
    "        self.attention_w = self.add_weight(name = \"atten_w\", shape = (input_shape[-1], self.attention_size), initializer = tf.random_uniform_initializer(), dtype = \"float32\", trainable = True)\n",
    "        self.attention_u = self.add_weight(name = \"atten_u\", shape = (self.attention_size,), initializer = tf.random_uniform_initializer(), dtype = \"float32\", trainable = True)\n",
    "        self.attention_b = self.add_weight(name = \"atten_b\", shape = (self.attention_size,), initializer = tf.constant_initializer(0.1), dtype = \"float32\", trainable = True)    \n",
    "        super().build(input_shape)\n",
    "\n",
    "    def call(self, inputs, training):\n",
    "        x = tf.tanh(tf.add(tf.tensordot(inputs, self.attention_w, axes = 1), self.attention_b))\n",
    "        x = tf.tensordot(x, self.attention_u, axes = 1)\n",
    "        x = tf.nn.softmax(x)\n",
    "        weight_out = tf.multiply(tf.expand_dims(x, -1), inputs)\n",
    "        final_out = tf.reduce_sum(weight_out, axis = 1) \n",
    "        drop_out = self.dropout(final_out, training = training)\n",
    "        return drop_out\n"
   ]
  },
  {
   "cell_type": "markdown",
   "metadata": {},
   "source": [
    "## (5) DIEN"
   ]
  },
  {
   "cell_type": "code",
   "execution_count": null,
   "metadata": {
    "tags": []
   },
   "outputs": [],
   "source": [
    "class DIEN(tf.keras.Model):\n",
    "    def __init__(self, cate_dim, cate_count, brand_dim, brand_count, cms_segid_dim, cms_segid_count, cms_group_dim, cms_group_count, gender_dim, gender_count, age_dim, age_count, pvalue_dim, pvalue_count, shopping_dim, shopping_count, occupation_dim, occupation_count, user_class_level_count, user_class_level_dim, bias_length, activation=\"Dice\"):\n",
    "        \"\"\"\n",
    "        Layers Init\n",
    "        \"\"\"\n",
    "        super(DIEN, self).__init__()\n",
    "        ####Init Embedding Layer Variables\n",
    "        #cate_id, brand_id\n",
    "        self.cate_dim = cate_dim #cate_id embedding output length\n",
    "        self.brand_dim = brand_dim #user_id embedding output lengthlength)\n",
    "        #user_profile embedding features\n",
    "        self.cms_segid_dim = cms_segid_dim\n",
    "        self.cms_group_dim = cms_group_dim\n",
    "        self.gender_dim = gender_dim\n",
    "        self.age_dim = age_dim\n",
    "        self.pvalue_dim = pvalue_dim\n",
    "        self.shopping_dim = shopping_dim\n",
    "        self.occupation_dim = occupation_dim\n",
    "        self.user_class_level_dim = user_class_level_dim\n",
    "        \n",
    "        ####Init Embedding layers\n",
    "        #(input dim:词长, output dim:输出节点数)\n",
    "        self.cate_emb = layers.Embedding(cate_count, cate_dim)\n",
    "        self.brand_emb = layers.Embedding(brand_count, brand_dim)\n",
    "        self.cms_segid_emb = layers.Embedding(cms_segid_count, cms_segid_dim)\n",
    "        self.cms_group_emb = layers.Embedding(cms_group_count, cms_group_dim)\n",
    "        self.gender_emb = layers.Embedding(gender_count, gender_dim)\n",
    "        self.age_emb = layers.Embedding(age_count, age_dim)\n",
    "        self.pvalue_emb = layers.Embedding(pvalue_count, pvalue_dim)\n",
    "        self.shopping_emb = layers.Embedding(shopping_count, shopping_dim)\n",
    "        self.occupation_emb = layers.Embedding(occupation_count, occupation_dim)\n",
    "        self.user_class_level_emb = layers.Embedding(user_class_level_count, user_class_level_dim)\n",
    "\n",
    "        ####Init GRU and AUGRU\n",
    "        self.hist_gru = layers.GRU(brand_dim + cate_dim, return_sequences=True)\n",
    "        self.hist_augru = AUGRU(brand_dim + cate_dim)\n",
    "\n",
    "        ####Init Attention Layer\n",
    "        #self.attention = AttentionLayer(10, 0.1)\n",
    "        #self.attention = layers.Attention()([self.hist_gru, self.hist_gru])\n",
    "        \n",
    "        ####build fully connection layer\n",
    "        self.item_bias= tf.Variable(tf.zeros([bias_length]), trainable=True)\n",
    "        self.fc = tf.keras.Sequential()\n",
    "        self.fc.add(layers.BatchNormalization())\n",
    "        self.fc.add(layers.Dense(200, activation=\"sigmoid\"))\n",
    "        if activation == \"Dice\":\n",
    "            self.fc.add(Dice())\n",
    "        elif activation == \"PReLU\":\n",
    "            self.fc.add(layers.PReLU(alpha_initializer='zeros', weights=None))\n",
    "        self.fc.add(layers.Dense(80, activation=\"sigmoid\"))\n",
    "        if activation == \"Dice\":\n",
    "            self.fc.add(Dice()) \n",
    "        elif activation == \"PReLU\":\n",
    "            self.fc.add(layers.PReLU(alpha_initializer='zeros', weights=None))\n",
    "        self.fc.add(layers.Dense(2, activation=None))\n",
    "\n",
    "    def get_emb(self, cate, brand, cate_hist_list, brand_hist_list, cms_segid, cms_group, gender, age, pvalue, shopping, occupation, user_class_level):\n",
    "        \"\"\"\n",
    "        Define Embedding Layer\n",
    "        \"\"\"\n",
    "        cate_emb = self.cate_emb(cate)\n",
    "        brand_emb = self.brand_emb(brand)\n",
    "        target_item_emb = tf.concat([cate_emb, brand_emb], -1)\n",
    "        cate_hist_list_emb = self.cate_emb(cate_hist_list)\n",
    "        brand_hist_list_emb = self.brand_emb(brand_hist_list)\n",
    "        history_list_emb = tf.concat([cate_hist_list_emb, brand_hist_list_emb], -1)\n",
    "        cms_segid_emb = self.cms_segid_emb(cms_segid)\n",
    "        cms_group_emb = self.cms_group_emb(cms_group)\n",
    "        gender_emb = self.gender_emb(gender)\n",
    "        age_emb = self.age_emb(age)\n",
    "        pvalue_emb = self.pvalue_emb(pvalue)\n",
    "        shopping_emb = self.shopping_emb(shopping)\n",
    "        occupation_emb = self.occupation_emb(occupation)\n",
    "        user_class_level_emb = self.user_class_level_emb(user_class_level)\n",
    "        item_bias= tf.gather(self.item_bias, cate)\n",
    "        return target_item_emb, history_list_emb, cms_segid_emb, cms_group_emb, gender_emb, age_emb, pvalue_emb, shopping_emb, occupation_emb, user_class_level_emb, item_bias\n",
    "\n",
    "    def auxiliary_loss(self, hidden_states, embedding_out):\n",
    "        \"\"\"\n",
    "        Auxiliary Loss Function\n",
    "        \"\"\"\n",
    "        x = tf.concat([hidden_states, embedding_out], -1)  \n",
    "        return tf.reduce_mean(tf.math.log(tf.math.sigmoid(x)) + tf.math.log(1.0 - tf.math.sigmoid(x)))\n",
    "\n",
    "    def call(self, cate, brand, cate_hist_list, brand_hist_list, cms_segid, cms_group, gender, age, pvalue, shopping, occupation, user_class_level):\n",
    "        \"\"\"\n",
    "        Init DIEN Structure\n",
    "        \"\"\"\n",
    "        ##########Embedding Layer########################\n",
    "        ## hist_join_emb: user behavior sequence  embedding in paper\n",
    "        ## user_emb: user profile embedding in paper\n",
    "        ## item_join_emb: target_item embedding in paper\n",
    "        #################################################\n",
    "        target_item_emb, history_list_emb, cms_segid_emb, cms_group_emb, gender_emb, age_emb, pvalue_emb, shopping_emb, occupation_emb, user_class_level_emb, item_bias = self.get_emb(cate, brand, cate_hist_list, brand_hist_list, cms_segid, cms_group, gender, age, pvalue, shopping, occupation, user_class_level)\n",
    "\n",
    "        ##########GRU Layer#########################\n",
    "        ## GRU\n",
    "        hist_gru_emb = self.hist_gru(history_list_emb)\n",
    "        ## Auxiliary Loss\n",
    "        aux_loss = self.auxiliary_loss(hist_gru_emb[:, :-1, :], history_list_emb[:, 1:, :])\n",
    "\n",
    "        #######Attention Layer#################\n",
    "        ## hist_mask = tf.sequence_mask(length, max(length), dtype = tf.bool)\n",
    "        ## hist_mask = tf.tile(tf.expand_dims(hist_mask, -1), (1, 1, self.item_dim + self.cate_dim))\n",
    "        #expand_target_item = tf.tile(tf.expand_dims(target_item_emb, axis=1), multiples=[1,hist_gru_emb.numpy().shape[1],1])\n",
    "        #hist_att_input = tf.concat([hist_gru_emb, expand_target_item], axis=-1)\n",
    "        hist_attn = layers.Attention()([hist_gru_emb, target_item_emb])\n",
    "\n",
    "        #######AUGRU Layer#####################\n",
    "        augru_hidden_state = tf.zeros_like(hist_gru_emb[:, 0, :])\n",
    "        for in_emb, in_att in zip(tf.transpose(hist_gru_emb, [1, 0, 2]), tf.transpose(hist_attn, [1, 0, 2])):\n",
    "            augru_hidden_state = self.hist_augru(in_emb, augru_hidden_state, in_att)\n",
    "        \n",
    "        ######Fully Connection Layer###########\n",
    "        join_emb = tf.concat([cms_segid_emb, cms_group_emb, gender_emb,  age_emb, pvalue_emb, shopping_emb, occupation_emb, user_class_level_emb, augru_hidden_state], -1) \n",
    "        #concat& flatten\n",
    "        #output = tf.squeeze(self.fc(join_emb)) + self.item_bias\n",
    "        output = self.fc(join_emb)\n",
    "        #print(\"output:\" + str(output))\n",
    "        \n",
    "        ######Softmax Get Finaly Result########\n",
    "        logit = tf.keras.activations.softmax(output)\n",
    "        return aux_loss, output, logit"
   ]
  },
  {
   "cell_type": "markdown",
   "metadata": {},
   "source": [
    "# 3. Model Train\n",
    "## (1) Data Process"
   ]
  },
  {
   "cell_type": "code",
   "execution_count": null,
   "metadata": {
    "tags": []
   },
   "outputs": [],
   "source": [
    "file_path = \"/nfs/project/boweihan_2/DIEN/dien_tf2/\"\n",
    "def load_sql_file(sql_file):\n",
    "    with open(sql_file, 'r') as isf:\n",
    "        sql_txt = isf.readlines()\n",
    "        return \"\".join(sql_txt)"
   ]
  },
  {
   "cell_type": "code",
   "execution_count": null,
   "metadata": {},
   "outputs": [],
   "source": [
    "def get_data(file_name):\n",
    "    sql = load_sql_file(file_path + file_name)\n",
    "    print(sql)\n",
    "    rst = spark.sql(sql)\n",
    "    return rst"
   ]
  },
  {
   "cell_type": "code",
   "execution_count": null,
   "metadata": {
    "tags": []
   },
   "outputs": [],
   "source": [
    "train_data = get_data(\"get_train_data.sql\")\n",
    "print(train_data.dtypes)\n",
    "train_data.show()"
   ]
  },
  {
   "cell_type": "code",
   "execution_count": null,
   "metadata": {
    "tags": []
   },
   "outputs": [],
   "source": [
    "behavior_data = get_data(\"get_behavior_data.sql\")\n",
    "print(behavior_data.dtypes)\n",
    "behavior_data.show()"
   ]
  },
  {
   "cell_type": "code",
   "execution_count": null,
   "metadata": {
    "tags": []
   },
   "outputs": [],
   "source": [
    "rst_1 = behavior_data.agg(f.countDistinct(behavior_data.brand).alias(\"brand\"), f.countDistinct(behavior_data.cate).alias(\"cate\"))\n",
    "rst_1.show()"
   ]
  },
  {
   "cell_type": "code",
   "execution_count": null,
   "metadata": {
    "tags": []
   },
   "outputs": [],
   "source": [
    "rst_2 = train_data.agg(\n",
    "    f.countDistinct(train_data.cms_segid).alias(\"cms_segid\"), \n",
    "    f.countDistinct(train_data.cms_group_id).alias(\"cms_group_id\"),\n",
    "    f.countDistinct(train_data.final_gender_code).alias(\"final_gender_code\"),\n",
    "    f.countDistinct(train_data.age_level).alias(\"age_level\"),\n",
    "    f.countDistinct(train_data.pvalue_level).alias(\"pvalue_level\"),\n",
    "    f.countDistinct(train_data.shopping_level).alias(\"shopping_level\"),\n",
    "    f.countDistinct(train_data.occupation).alias(\"occupation\"),\n",
    "    f.countDistinct(train_data.new_user_class_level).alias(\"new_user_class_level\")\n",
    ")\n",
    "rst_2.show()"
   ]
  },
  {
   "cell_type": "code",
   "execution_count": null,
   "metadata": {
    "tags": []
   },
   "outputs": [],
   "source": [
    "rst_1_pd = rst_1.toPandas()\n",
    "rst_2_pd = rst_2.toPandas()"
   ]
  },
  {
   "cell_type": "code",
   "execution_count": null,
   "metadata": {},
   "outputs": [],
   "source": [
    "result = pd.concat([rst_1_pd, rst_2_pd], axis=1)\n",
    "result"
   ]
  },
  {
   "cell_type": "code",
   "execution_count": null,
   "metadata": {},
   "outputs": [],
   "source": [
    "def get_embedding_count(feature):\n",
    "    return result[feature].values[0]\n",
    "get_embedding_count(\"brand\")"
   ]
  },
  {
   "cell_type": "markdown",
   "metadata": {},
   "source": [
    "## (2) Train Method"
   ]
  },
  {
   "cell_type": "markdown",
   "metadata": {},
   "source": [
    "## a.使用少量数据调模型"
   ]
  },
  {
   "cell_type": "code",
   "execution_count": null,
   "metadata": {},
   "outputs": [],
   "source": [
    "train_path = \"/nfs/project/boweihan_2/DIEN/dien_tf2/self_data/train.csv\"\n",
    "test_path = \"/nfs/project/boweihan_2/DIEN/dien_tf2/self_data/test.csv\"\n",
    "test_data = pd.read_csv(test_path, sep = \"\\t\")\n",
    "test_data = test_data.fillna(0)\n",
    "test_data"
   ]
  },
  {
   "cell_type": "code",
   "execution_count": null,
   "metadata": {
    "tags": []
   },
   "outputs": [],
   "source": [
    "train_data = pd.read_csv(train_path, sep = \"\\t\")\n",
    "train_data = train_data.fillna(0)\n",
    "train_data"
   ]
  },
  {
   "cell_type": "code",
   "execution_count": null,
   "metadata": {},
   "outputs": [],
   "source": [
    "from sklearn.preprocessing import LabelEncoder\n"
   ]
  },
  {
   "cell_type": "code",
   "execution_count": null,
   "metadata": {},
   "outputs": [],
   "source": [
    "len(set(train_data[\"guide_dien_final_train_data.shopping_level\"].values))"
   ]
  },
  {
   "cell_type": "code",
   "execution_count": null,
   "metadata": {},
   "outputs": [],
   "source": [
    "train_data.columns"
   ]
  },
  {
   "cell_type": "code",
   "execution_count": null,
   "metadata": {
    "tags": []
   },
   "outputs": [],
   "source": [
    "def parse_row(df, row_num):\n",
    "    row = df.loc[row_num]\n",
    "    label = row[\"guide_dien_final_train_data.clk\"]\n",
    "    target_cate = row[\"guide_dien_final_train_data.cate_id\"]\n",
    "    target_brand = row[\"guide_dien_final_train_data.brand\"]\n",
    "    hist_behavior_clk_cate = row[\"guide_dien_final_train_data.click_cate\"]\n",
    "    hist_behavior_clk_brand = row[\"guide_dien_final_train_data.click_brand\"]\n",
    "    hist_behavior_show_cate = row[\"guide_dien_final_train_data.show_cate\"]\n",
    "    hist_behavior_show_brand = row[\"guide_dien_final_train_data.show_brand\"]\n",
    "    return tf.convert_to_tensor(label), tf.convert_to_tensor(target_cate), tf.convert_to_tensor(target_brand), tf.convert_to_tensor(hist_behavior_clk_cate), tf.convert_to_tensor(hist_behavior_clk_brand), tf.convert_to_tensor(hist_behavior_show_cate), tf.convert_to_tensor(hist_behavior_show_brand)\n",
    "\n",
    "def data_generator():\n",
    "    df = pd.read_csv(\"/nfs/project/boweihan_2/DIEN/dien_tf2/self_data/train.csv\")\n",
    "    n = len(df)\n",
    "    for i in range(n):\n",
    "        yield parse_row(df, i)"
   ]
  },
  {
   "cell_type": "code",
   "execution_count": null,
   "metadata": {},
   "outputs": [],
   "source": [
    "def get_normal_data(data, col):\n",
    "    return data[col].values\n",
    "\n",
    "def get_sequence_data(data, col):\n",
    "    rst = []\n",
    "    max_length = 0\n",
    "    try:\n",
    "        for i in data[col].values:\n",
    "            temp = len(list(map(eval,i[1:-1].split(\",\"))))\n",
    "            if temp > max_length:\n",
    "                max_length = temp\n",
    "\n",
    "        for i in data[col].values:\n",
    "            temp = list(map(eval,i[1:-1].split(\",\")))\n",
    "            padding = np.zeros(max_length - len(temp))\n",
    "            rst.append(list(np.append(np.array(temp), padding)))\n",
    "    except:\n",
    "        return rst\n",
    "    return rst\n",
    "\n",
    "def convert_tensor(data):\n",
    "    return tf.convert_to_tensor(data)"
   ]
  },
  {
   "cell_type": "code",
   "execution_count": null,
   "metadata": {},
   "outputs": [],
   "source": [
    "def get_batch_data(data, min_batch, batch=100):\n",
    "    batch_data = None\n",
    "    if min_batch + batch <= len(train_data):\n",
    "        batch_data = data.loc[min_batch:min_batch + batch - 1]\n",
    "    else:\n",
    "        batch_data = data.loc[min_batch:]\n",
    "    min_batch += batch\n",
    "    click = get_normal_data(batch_data, \"guide_dien_final_train_data.clk\")\n",
    "    no_click = get_normal_data(batch_data, \"guide_dien_final_train_data.nonclk\")\n",
    "    label = [click, no_click]\n",
    "    target_cate = get_normal_data(batch_data, \"guide_dien_final_train_data.cate_id\")\n",
    "    target_brand = get_normal_data(batch_data, \"guide_dien_final_train_data.brand\")\n",
    "    cms_segid = get_normal_data(batch_data, \"guide_dien_final_train_data.cms_segid\")\n",
    "    cms_group = get_normal_data(batch_data, \"guide_dien_final_train_data.cms_group_id\")\n",
    "    gender = get_normal_data(batch_data, \"guide_dien_final_train_data.final_gender_code\")\n",
    "    age = get_normal_data(batch_data, \"guide_dien_final_train_data.age_level\")\n",
    "    pvalue = get_normal_data(batch_data, \"guide_dien_final_train_data.pvalue_level\")\n",
    "    shopping = get_normal_data(batch_data, \"guide_dien_final_train_data.shopping_level\")\n",
    "    occupation = get_normal_data(batch_data, \"guide_dien_final_train_data.occupation\")\n",
    "    user_class_level = get_normal_data(batch_data, \"guide_dien_final_train_data.new_user_class_level\")\n",
    "    hist_brand_behavior_clk = get_sequence_data(batch_data, \"guide_dien_final_train_data.click_brand\")\n",
    "    hist_cate_behavior_clk = get_sequence_data(batch_data, \"guide_dien_final_train_data.click_cate\")\n",
    "    hist_brand_behavior_show = get_sequence_data(batch_data, \"guide_dien_final_train_data.show_brand\")\n",
    "    hist_cate_behavior_show = get_sequence_data(batch_data, \"guide_dien_final_train_data.show_cate\")\n",
    "\n",
    "    return tf.reshape(convert_tensor(label), (batch, 2)), convert_tensor(target_cate), convert_tensor(target_brand), convert_tensor(cms_segid), convert_tensor(cms_group), convert_tensor(gender), convert_tensor(age), convert_tensor(pvalue), convert_tensor(shopping), convert_tensor(occupation), convert_tensor(user_class_level), convert_tensor(hist_brand_behavior_clk), convert_tensor(hist_cate_behavior_clk), convert_tensor(hist_brand_behavior_show), convert_tensor(hist_cate_behavior_show), min_batch + batch"
   ]
  },
  {
   "cell_type": "code",
   "execution_count": null,
   "metadata": {
    "tags": []
   },
   "outputs": [],
   "source": [
    "brand_count = 500000#get_embedding_count(\"brand\")\n",
    "cate_count = 15000#get_embedding_count(\"cate\")\n",
    "cms_segid_count = get_embedding_count(\"cms_segid\")\n",
    "cms_group_id_count = get_embedding_count(\"cms_group_id\")\n",
    "gender_count = 3#get_embedding_count(\"final_gender_code\")\n",
    "age_count = get_embedding_count(\"age_level\")\n",
    "pvalue_count = get_embedding_count(\"pvalue_level\")\n",
    "shopping_count = 4#get_embedding_count(\"shopping_level\")\n",
    "occupation_count = 5#get_embedding_count(\"occupation\")\n",
    "user_class_level_count = 5#get_embedding_count(\"new_user_class_level\")"
   ]
  },
  {
   "cell_type": "code",
   "execution_count": null,
   "metadata": {},
   "outputs": [],
   "source": [
    "cate_dim = 8\n",
    "brand_dim = 8\n",
    "cms_segid_dim = 8\n",
    "cms_group_dim = 8\n",
    "gender_dim = 8\n",
    "age_dim = 8\n",
    "pvalue_dim = 8\n",
    "shopping_dim = 8\n",
    "occupation_dim = 8\n",
    "user_class_level_dim = 8\n",
    "bias_length = 80\n",
    "alpha = 0.2\n",
    "epochs = 10"
   ]
  },
  {
   "cell_type": "code",
   "execution_count": null,
   "metadata": {
    "tags": []
   },
   "outputs": [],
   "source": [
    "model = DIEN(\n",
    "    cate_dim = cate_dim, \n",
    "    cate_count = cate_count, \n",
    "    brand_dim = brand_dim, \n",
    "    brand_count = brand_count, \n",
    "    cms_segid_dim = cms_segid_dim, \n",
    "    cms_segid_count = cms_segid_count, \n",
    "    cms_group_dim = cms_group_dim, \n",
    "    cms_group_count = cms_group_id_count, \n",
    "    gender_dim = gender_dim, \n",
    "    gender_count = gender_count,\n",
    "    age_dim = age_dim, \n",
    "    age_count = age_count, \n",
    "    pvalue_dim = pvalue_dim, \n",
    "    pvalue_count = pvalue_count, \n",
    "    shopping_dim = shopping_dim, \n",
    "    shopping_count = shopping_count, \n",
    "    occupation_dim = occupation_dim, \n",
    "    occupation_count = occupation_count, \n",
    "    user_class_level_count = user_class_level_count, \n",
    "    user_class_level_dim = user_class_level_dim, \n",
    "    bias_length = bias_length)"
   ]
  },
  {
   "cell_type": "code",
   "execution_count": null,
   "metadata": {},
   "outputs": [],
   "source": [
    "log_path = \"/nfs/project/boweihan_2/DIEN/dien_tf2/train_log/\"\n",
    "train_summary_writer = tf.summary.create_file_writer(log_path)"
   ]
  },
  {
   "cell_type": "code",
   "execution_count": null,
   "metadata": {
    "tags": []
   },
   "outputs": [],
   "source": [
    "optimizer = tf.keras.optimizers.SGD(learning_rate=0.5, momentum=0.0)\n",
    "loss_metric = tf.keras.metrics.Sum()\n",
    "auc_metric = tf.keras.metrics.AUC()"
   ]
  },
  {
   "cell_type": "code",
   "execution_count": null,
   "metadata": {},
   "outputs": [],
   "source": [
    "model.layers"
   ]
  },
  {
   "cell_type": "code",
   "execution_count": null,
   "metadata": {
    "tags": []
   },
   "outputs": [],
   "source": [
    "def train_one_step(target_cate, target_brand, hist_cate_behavior_clk, hist_brand_behavior_clk, cms_segid, cms_group, gender, age, pvalue, shopping, occupation, user_class_level, label):\n",
    "    try:\n",
    "        with tf.GradientTape() as tape:\n",
    "            aux_loss, output, logit = model(target_cate, target_brand, hist_cate_behavior_clk, hist_brand_behavior_clk, cms_segid, cms_group, gender, age, pvalue, shopping, occupation, user_class_level)\n",
    "            target_loss = tf.reduce_mean(tf.nn.sigmoid_cross_entropy_with_logits(logits=output,labels=tf.cast(label,dtype=tf.float32)))\n",
    "            final_loss = target_loss + alpha * aux_loss\n",
    "            print(\"final_loss=\" + str(final_loss))\n",
    "        gradient = tape.gradient(final_loss, model.trainable_variables)\n",
    "        clip_gradient, _ = tf.clip_by_global_norm(gradient, 5.0)\n",
    "        optimizer.apply_gradients(zip(clip_gradient, model.trainable_variables))\n",
    "        loss_metric(final_loss)\n",
    "    except:\n",
    "        print(\"data error\")\n"
   ]
  },
  {
   "cell_type": "code",
   "execution_count": null,
   "metadata": {
    "tags": []
   },
   "outputs": [],
   "source": [
    "for epoch in range(epochs):\n",
    "    min_batch = 0\n",
    "    for i in range(len(train_data)):\n",
    "        try:\n",
    "            label, target_cate, target_brand, cms_segid, cms_group, gender, age, pvalue, shopping, occupation, user_class_level, hist_brand_behavior_clk, hist_cate_behavior_clk, hist_brand_behavior_show, hist_cate_behavior_show, min_batch= get_batch_data(train_data, min_batch)\n",
    "            train_one_step(target_cate, target_brand, hist_cate_behavior_clk, hist_brand_behavior_clk, cms_segid, cms_group, gender, age, pvalue, shopping, occupation, user_class_level, label)\n",
    "        except:\n",
    "            print(\"read data error\")\n",
    "            continue"
   ]
  },
  {
   "cell_type": "code",
   "execution_count": null,
   "metadata": {},
   "outputs": [],
   "source": [
    "----------------"
   ]
  },
  {
   "cell_type": "code",
   "execution_count": null,
   "metadata": {},
   "outputs": [],
   "source": [
    "train_data"
   ]
  },
  {
   "cell_type": "code",
   "execution_count": null,
   "metadata": {},
   "outputs": [],
   "source": [
    "aux_loss"
   ]
  },
  {
   "cell_type": "code",
   "execution_count": null,
   "metadata": {},
   "outputs": [],
   "source": [
    "expand_target_item = tf.tile(tf.expand_dims(target_item_emb, axis=1), multiples=[1,hist_gru_emb.numpy().shape[1],1])\n",
    "tf.concat([hist_gru_emb, expand_target_item], axis=-1)\n"
   ]
  },
  {
   "cell_type": "code",
   "execution_count": null,
   "metadata": {},
   "outputs": [],
   "source": [
    "target_item_emb"
   ]
  },
  {
   "cell_type": "code",
   "execution_count": null,
   "metadata": {},
   "outputs": [],
   "source": [
    "a = tf.expand_dims(target_item_emb, axis=1)\n",
    "a"
   ]
  },
  {
   "cell_type": "code",
   "execution_count": null,
   "metadata": {},
   "outputs": [],
   "source": [
    "b = tf.tile(a, multiples=[1,190,1])\n",
    "b"
   ]
  },
  {
   "cell_type": "code",
   "execution_count": null,
   "metadata": {},
   "outputs": [],
   "source": [
    "tf.concat([hist_gru_emb, b], axis=-1)"
   ]
  },
  {
   "cell_type": "code",
   "execution_count": null,
   "metadata": {},
   "outputs": [],
   "source": [
    "hist_gru_emb.numpy().shape[1]"
   ]
  },
  {
   "cell_type": "code",
   "execution_count": null,
   "metadata": {},
   "outputs": [],
   "source": [
    "tf.keras.activations.softmax(tf.convert_to_tensor([1,2,3]), axis=-1)"
   ]
  },
  {
   "cell_type": "code",
   "execution_count": null,
   "metadata": {},
   "outputs": [],
   "source": []
  },
  {
   "cell_type": "code",
   "execution_count": null,
   "metadata": {},
   "outputs": [],
   "source": [
    "gender_dim"
   ]
  },
  {
   "cell_type": "code",
   "execution_count": null,
   "metadata": {},
   "outputs": [],
   "source": [
    "tf.concat([tf.convert_to_tensor([1,2,3]), tf.convert_to_tensor([[2,4],[1,3],[3,4]])], -1)"
   ]
  },
  {
   "cell_type": "code",
   "execution_count": null,
   "metadata": {},
   "outputs": [],
   "source": [
    "epochs = 10\n",
    "best_loss = 0.\n",
    "best_auc = 0.\n",
    "start_time = time.time()\n",
    "for epoch in range(epochs):\n",
    "    for "
   ]
  },
  {
   "cell_type": "code",
   "execution_count": null,
   "metadata": {},
   "outputs": [],
   "source": [
    "model.layers"
   ]
  },
  {
   "cell_type": "code",
   "execution_count": null,
   "metadata": {},
   "outputs": [],
   "source": [
    "filename = os.listdir(\"/nfs/project/boweihan_2/DIEN/dien_tf2/self_data/\")\n",
    "filelist = [os.path.join(\"/nfs/project/boweihan_2/DIEN/dien_tf2/self_data/\",file) for file in filename]\n",
    "example_batch,label_batch = csvread(filelist)"
   ]
  },
  {
   "cell_type": "code",
   "execution_count": null,
   "metadata": {},
   "outputs": [],
   "source": [
    "filename = os.listdir(\"/nfs/project/boweihan_2/DIEN/dien_tf2/self_data/\")\n",
    "[os.path.join('/nfs/project/boweihan_2/DIEN/dien_tf2/self_data/',file) for file in filename]"
   ]
  },
  {
   "cell_type": "code",
   "execution_count": null,
   "metadata": {
    "tags": []
   },
   "outputs": [],
   "source": [
    "for i in enumerate(train_data, start = 1):\n",
    "    print(i)"
   ]
  },
  {
   "cell_type": "code",
   "execution_count": null,
   "metadata": {},
   "outputs": [],
   "source": [
    "train_data.values"
   ]
  },
  {
   "cell_type": "code",
   "execution_count": null,
   "metadata": {},
   "outputs": [],
   "source": [
    "dataset.take(2)"
   ]
  },
  {
   "cell_type": "markdown",
   "metadata": {},
   "source": [
    "## b. 使用hdfs全量数据训练"
   ]
  },
  {
   "cell_type": "code",
   "execution_count": null,
   "metadata": {
    "tags": []
   },
   "outputs": [],
   "source": [
    "!head {\"/nfs/project/boweihan_2/DIEN/dien_tf2/taobao_data/raw_sample.csv\"}"
   ]
  },
  {
   "cell_type": "code",
   "execution_count": null,
   "metadata": {},
   "outputs": [],
   "source": [
    "LABEL_COLUMN = 'clk'\n",
    "LABELS = [0, 1]"
   ]
  },
  {
   "cell_type": "code",
   "execution_count": null,
   "metadata": {},
   "outputs": [],
   "source": [
    "def get_dataset(file_path):\n",
    "    dataset = tf.data.experimental.make_csv_dataset(\n",
    "    file_path,\n",
    "    batch_size=10, # 为了示例更容易展示，手动设置较小的值\n",
    "    label_name=LABEL_COLUMN,\n",
    "    na_value=\"\",\n",
    "    num_epochs=1,\n",
    "    ignore_errors=False)\n",
    "    return dataset"
   ]
  },
  {
   "cell_type": "code",
   "execution_count": null,
   "metadata": {
    "tags": []
   },
   "outputs": [],
   "source": [
    "train_data = get_dataset(\"/nfs/project/boweihan_2/DIEN/dien_tf2/taobao_data/raw_sample.csv\")\n",
    "train_data"
   ]
  },
  {
   "cell_type": "code",
   "execution_count": null,
   "metadata": {},
   "outputs": [],
   "source": [
    "dataset = tf.data.experimental.CsvDataset([\"/nfs/project/boweihan_2/DIEN/dien_tf2/taobao_data/raw_sample.csv\"])\n",
    "dataset"
   ]
  },
  {
   "cell_type": "code",
   "execution_count": null,
   "metadata": {},
   "outputs": [],
   "source": [
    "1"
   ]
  },
  {
   "cell_type": "code",
   "execution_count": null,
   "metadata": {},
   "outputs": [],
   "source": [
    "record_default = [[0.0]] * 12\n",
    "ds = tf.data.experimental.CsvDataset(\"/nfs/project/boweihan_2/DIEN/dien_tf2/taobao_data/raw_sample.csv\", record_default, header=True)\n",
    "ds = ds.map(lambda *items: tf.stack(items))\n",
    "for val in ds.take(1):\n",
    "    print(val)\n"
   ]
  },
  {
   "cell_type": "code",
   "execution_count": null,
   "metadata": {
    "tags": []
   },
   "outputs": [],
   "source": [
    "dataset = (tf.data.Dataset.from_tensor_slices(\"/nfs/project/boweihan_2/DIEN/dien_tf2/taobao_data/raw_sample.csv\").interleave(lambda x:TextLineDataset(x).map(parse_fn, num_parallel_calls=1),cycle_length=4, block_length=16))"
   ]
  },
  {
   "cell_type": "code",
   "execution_count": null,
   "metadata": {
    "tags": []
   },
   "outputs": [],
   "source": [
    "!pwd"
   ]
  },
  {
   "cell_type": "code",
   "execution_count": null,
   "metadata": {
    "tags": []
   },
   "outputs": [],
   "source": []
  },
  {
   "cell_type": "code",
   "execution_count": null,
   "metadata": {},
   "outputs": [],
   "source": [
    "dataset = dataset.flat_map(lambda x: tf.data.Dataset.from_tensor_slices(x))"
   ]
  },
  {
   "cell_type": "code",
   "execution_count": null,
   "metadata": {
    "tags": []
   },
   "outputs": [],
   "source": [
    "!pwd"
   ]
  },
  {
   "cell_type": "code",
   "execution_count": null,
   "metadata": {},
   "outputs": [],
   "source": [
    "tensor = tf.constant([[[1, 2, 3], [4, 5, 6], [2, 3, 5]]])\n",
    "tensor[:, :, 0]"
   ]
  },
  {
   "cell_type": "code",
   "execution_count": null,
   "metadata": {},
   "outputs": [],
   "source": [
    "x = tf.constant([[1, 2, 3], [4, 5, 6]])\n",
    "tf.transpose(x) "
   ]
  },
  {
   "cell_type": "code",
   "execution_count": null,
   "metadata": {},
   "outputs": [],
   "source": [
    "x"
   ]
  },
  {
   "cell_type": "code",
   "execution_count": null,
   "metadata": {},
   "outputs": [],
   "source": [
    "tf.transpose(x, perm=[1, 0])"
   ]
  },
  {
   "cell_type": "code",
   "execution_count": null,
   "metadata": {},
   "outputs": [],
   "source": [
    "x = tf.constant([])"
   ]
  },
  {
   "cell_type": "code",
   "execution_count": null,
   "metadata": {},
   "outputs": [],
   "source": [
    "layers.PReLU"
   ]
  },
  {
   "cell_type": "code",
   "execution_count": null,
   "metadata": {},
   "outputs": [],
   "source": [
    "tf.reduce_mean(tf.constant([1,2,3,4]))"
   ]
  },
  {
   "cell_type": "code",
   "execution_count": null,
   "metadata": {
    "tags": []
   },
   "outputs": [],
   "source": [
    "!pwd"
   ]
  },
  {
   "cell_type": "code",
   "execution_count": null,
   "metadata": {
    "tags": []
   },
   "outputs": [],
   "source": [
    "import tensorflow as tf\n",
    "import numpy as np\n",
    "model = tf.keras.Sequential()\n",
    "model.add(tf.keras.layers.Embedding(1000, 64, input_length=10))\n",
    "# The model will take as input an integer matrix of size (batch,\n",
    "# input_length), and the largest integer (i.e. word index) in the input\n",
    "# should be no larger than 999 (vocabulary size).\n",
    "# Now model.output_shape is (None, 10, 64), where `None` is the batch\n",
    "# dimension.\n",
    "input_array = np.random.randint(9, size=(32, 10))\n",
    "model.compile('rmsprop', 'mse')\n",
    "output_array = model.predict(input_array)\n",
    "print(output_array.shape)"
   ]
  },
  {
   "cell_type": "code",
   "execution_count": null,
   "metadata": {},
   "outputs": [],
   "source": [
    "input_array"
   ]
  },
  {
   "cell_type": "code",
   "execution_count": null,
   "metadata": {},
   "outputs": [],
   "source": [
    "output_array"
   ]
  },
  {
   "cell_type": "code",
   "execution_count": null,
   "metadata": {
    "tags": []
   },
   "outputs": [],
   "source": [
    "!ls"
   ]
  },
  {
   "cell_type": "code",
   "execution_count": null,
   "metadata": {},
   "outputs": [],
   "source": [
    "tensor = tf.constant([[[1, 2, 3], [4, 5, 6], [2, 3, 5]]])"
   ]
  },
  {
   "cell_type": "code",
   "execution_count": null,
   "metadata": {},
   "outputs": [],
   "source": [
    "tensor"
   ]
  },
  {
   "cell_type": "code",
   "execution_count": null,
   "metadata": {},
   "outputs": [],
   "source": [
    "tensor[:, 3]"
   ]
  },
  {
   "cell_type": "code",
   "execution_count": null,
   "metadata": {},
   "outputs": [],
   "source": []
  }
 ],
 "metadata": {
  "kernelspec": {
   "display_name": "Python 3.7.6 64-bit ('tensorflow_gpuenv': conda)",
   "language": "python",
   "name": "python37664bittensorflowgpuenvconda5d44b392e164457f964ae5cdabe5cb3a"
  },
  "language_info": {
   "codemirror_mode": {
    "name": "ipython",
    "version": 3
   },
   "file_extension": ".py",
   "mimetype": "text/x-python",
   "name": "python",
   "nbconvert_exporter": "python",
   "pygments_lexer": "ipython3",
   "version": "3.7.6"
  }
 },
 "nbformat": 4,
 "nbformat_minor": 2
}
