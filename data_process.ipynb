{
 "cells": [
  {
   "cell_type": "code",
   "execution_count": 1,
   "metadata": {
    "tags": []
   },
   "outputs": [],
   "source": [
    "import pandas as pd"
   ]
  },
  {
   "cell_type": "markdown",
   "metadata": {},
   "source": [
    "# Show Data"
   ]
  },
  {
   "cell_type": "code",
   "execution_count": 84,
   "metadata": {},
   "outputs": [],
   "source": [
    "file_path = \"/nfs/project/boweihan_2/DIEN/dien_tf2/taobao_data/\""
   ]
  },
  {
   "cell_type": "code",
   "execution_count": 4,
   "metadata": {},
   "outputs": [
    {
     "output_type": "execute_result",
     "data": {
      "text/plain": "       user  time_stamp btag   cate   brand\n0    558157  1493741625   pv   6250   91286\n1    558157  1493741626   pv   6250   91286\n2    558157  1493741627   pv   6250   91286\n3    728690  1493776998   pv  11800   62353\n4    332634  1493809895   pv   1101  365477\n..      ...         ...  ...    ...     ...\n95  1093365  1493824491   pv   6056  101331\n96  1093365  1493824549   pv   6056  101331\n97   885384  1493795275   pv   6056  101331\n98   796539  1493797778   pv   6056  101331\n99   451809  1493823093   pv   6056  101331\n\n[100 rows x 5 columns]",
      "text/html": "<div>\n<style scoped>\n    .dataframe tbody tr th:only-of-type {\n        vertical-align: middle;\n    }\n\n    .dataframe tbody tr th {\n        vertical-align: top;\n    }\n\n    .dataframe thead th {\n        text-align: right;\n    }\n</style>\n<table border=\"1\" class=\"dataframe\">\n  <thead>\n    <tr style=\"text-align: right;\">\n      <th></th>\n      <th>user</th>\n      <th>time_stamp</th>\n      <th>btag</th>\n      <th>cate</th>\n      <th>brand</th>\n    </tr>\n  </thead>\n  <tbody>\n    <tr>\n      <th>0</th>\n      <td>558157</td>\n      <td>1493741625</td>\n      <td>pv</td>\n      <td>6250</td>\n      <td>91286</td>\n    </tr>\n    <tr>\n      <th>1</th>\n      <td>558157</td>\n      <td>1493741626</td>\n      <td>pv</td>\n      <td>6250</td>\n      <td>91286</td>\n    </tr>\n    <tr>\n      <th>2</th>\n      <td>558157</td>\n      <td>1493741627</td>\n      <td>pv</td>\n      <td>6250</td>\n      <td>91286</td>\n    </tr>\n    <tr>\n      <th>3</th>\n      <td>728690</td>\n      <td>1493776998</td>\n      <td>pv</td>\n      <td>11800</td>\n      <td>62353</td>\n    </tr>\n    <tr>\n      <th>4</th>\n      <td>332634</td>\n      <td>1493809895</td>\n      <td>pv</td>\n      <td>1101</td>\n      <td>365477</td>\n    </tr>\n    <tr>\n      <th>...</th>\n      <td>...</td>\n      <td>...</td>\n      <td>...</td>\n      <td>...</td>\n      <td>...</td>\n    </tr>\n    <tr>\n      <th>95</th>\n      <td>1093365</td>\n      <td>1493824491</td>\n      <td>pv</td>\n      <td>6056</td>\n      <td>101331</td>\n    </tr>\n    <tr>\n      <th>96</th>\n      <td>1093365</td>\n      <td>1493824549</td>\n      <td>pv</td>\n      <td>6056</td>\n      <td>101331</td>\n    </tr>\n    <tr>\n      <th>97</th>\n      <td>885384</td>\n      <td>1493795275</td>\n      <td>pv</td>\n      <td>6056</td>\n      <td>101331</td>\n    </tr>\n    <tr>\n      <th>98</th>\n      <td>796539</td>\n      <td>1493797778</td>\n      <td>pv</td>\n      <td>6056</td>\n      <td>101331</td>\n    </tr>\n    <tr>\n      <th>99</th>\n      <td>451809</td>\n      <td>1493823093</td>\n      <td>pv</td>\n      <td>6056</td>\n      <td>101331</td>\n    </tr>\n  </tbody>\n</table>\n<p>100 rows × 5 columns</p>\n</div>"
     },
     "metadata": {},
     "execution_count": 4
    }
   ],
   "source": [
    "behavior_log = pd.read_csv(file_path + \"behavior_log.csv\", nrows=100)\n",
    "set(behavior_log[\"btag\"].values)\n",
    "behavior_log"
   ]
  },
  {
   "cell_type": "code",
   "execution_count": 5,
   "metadata": {},
   "outputs": [
    {
     "output_type": "execute_result",
     "data": {
      "text/plain": "    adgroup_id  cate_id  campaign_id  customer     brand   price\n0        63133     6406        83237         1   95471.0  170.00\n1       313401     6406        83237         1   87331.0  199.00\n2       248909      392        83237         1   32233.0   38.00\n3       208458      392        83237         1  174374.0  139.00\n4       110847     7211       135256         2  145952.0   32.99\n..         ...      ...          ...       ...       ...     ...\n95        8105     6814        13914        72       NaN  532.00\n96        8331    10885        13914        72  205431.0  138.00\n97       63603     6814        83371        72       NaN  532.00\n98      338430     6142       140936        74       NaN  130.00\n99      393006     4505       328771        74       NaN  130.00\n\n[100 rows x 6 columns]",
      "text/html": "<div>\n<style scoped>\n    .dataframe tbody tr th:only-of-type {\n        vertical-align: middle;\n    }\n\n    .dataframe tbody tr th {\n        vertical-align: top;\n    }\n\n    .dataframe thead th {\n        text-align: right;\n    }\n</style>\n<table border=\"1\" class=\"dataframe\">\n  <thead>\n    <tr style=\"text-align: right;\">\n      <th></th>\n      <th>adgroup_id</th>\n      <th>cate_id</th>\n      <th>campaign_id</th>\n      <th>customer</th>\n      <th>brand</th>\n      <th>price</th>\n    </tr>\n  </thead>\n  <tbody>\n    <tr>\n      <th>0</th>\n      <td>63133</td>\n      <td>6406</td>\n      <td>83237</td>\n      <td>1</td>\n      <td>95471.0</td>\n      <td>170.00</td>\n    </tr>\n    <tr>\n      <th>1</th>\n      <td>313401</td>\n      <td>6406</td>\n      <td>83237</td>\n      <td>1</td>\n      <td>87331.0</td>\n      <td>199.00</td>\n    </tr>\n    <tr>\n      <th>2</th>\n      <td>248909</td>\n      <td>392</td>\n      <td>83237</td>\n      <td>1</td>\n      <td>32233.0</td>\n      <td>38.00</td>\n    </tr>\n    <tr>\n      <th>3</th>\n      <td>208458</td>\n      <td>392</td>\n      <td>83237</td>\n      <td>1</td>\n      <td>174374.0</td>\n      <td>139.00</td>\n    </tr>\n    <tr>\n      <th>4</th>\n      <td>110847</td>\n      <td>7211</td>\n      <td>135256</td>\n      <td>2</td>\n      <td>145952.0</td>\n      <td>32.99</td>\n    </tr>\n    <tr>\n      <th>...</th>\n      <td>...</td>\n      <td>...</td>\n      <td>...</td>\n      <td>...</td>\n      <td>...</td>\n      <td>...</td>\n    </tr>\n    <tr>\n      <th>95</th>\n      <td>8105</td>\n      <td>6814</td>\n      <td>13914</td>\n      <td>72</td>\n      <td>NaN</td>\n      <td>532.00</td>\n    </tr>\n    <tr>\n      <th>96</th>\n      <td>8331</td>\n      <td>10885</td>\n      <td>13914</td>\n      <td>72</td>\n      <td>205431.0</td>\n      <td>138.00</td>\n    </tr>\n    <tr>\n      <th>97</th>\n      <td>63603</td>\n      <td>6814</td>\n      <td>83371</td>\n      <td>72</td>\n      <td>NaN</td>\n      <td>532.00</td>\n    </tr>\n    <tr>\n      <th>98</th>\n      <td>338430</td>\n      <td>6142</td>\n      <td>140936</td>\n      <td>74</td>\n      <td>NaN</td>\n      <td>130.00</td>\n    </tr>\n    <tr>\n      <th>99</th>\n      <td>393006</td>\n      <td>4505</td>\n      <td>328771</td>\n      <td>74</td>\n      <td>NaN</td>\n      <td>130.00</td>\n    </tr>\n  </tbody>\n</table>\n<p>100 rows × 6 columns</p>\n</div>"
     },
     "metadata": {},
     "execution_count": 5
    }
   ],
   "source": [
    "ad_feature = pd.read_csv(file_path + \"ad_feature.csv\", nrows=100)\n",
    "ad_feature\n"
   ]
  },
  {
   "cell_type": "code",
   "execution_count": 6,
   "metadata": {},
   "outputs": [
    {
     "output_type": "execute_result",
     "data": {
      "text/plain": "      user  time_stamp  adgroup_id          pid  nonclk  clk\n0   581738  1494137644           1  430548_1007       1    0\n1   449818  1494638778           3  430548_1007       1    0\n2   914836  1494650879           4  430548_1007       1    0\n3   914836  1494651029           5  430548_1007       1    0\n4   399907  1494302958           8  430548_1007       1    0\n..     ...         ...         ...          ...     ...  ...\n95  443793  1494496413         102  430539_1007       1    0\n96  872834  1494303087         102  430539_1007       1    0\n97  644063  1494632747         102  430548_1007       1    0\n98  618501  1494655235         102  430539_1007       1    0\n99  416214  1494389576         102  430539_1007       1    0\n\n[100 rows x 6 columns]",
      "text/html": "<div>\n<style scoped>\n    .dataframe tbody tr th:only-of-type {\n        vertical-align: middle;\n    }\n\n    .dataframe tbody tr th {\n        vertical-align: top;\n    }\n\n    .dataframe thead th {\n        text-align: right;\n    }\n</style>\n<table border=\"1\" class=\"dataframe\">\n  <thead>\n    <tr style=\"text-align: right;\">\n      <th></th>\n      <th>user</th>\n      <th>time_stamp</th>\n      <th>adgroup_id</th>\n      <th>pid</th>\n      <th>nonclk</th>\n      <th>clk</th>\n    </tr>\n  </thead>\n  <tbody>\n    <tr>\n      <th>0</th>\n      <td>581738</td>\n      <td>1494137644</td>\n      <td>1</td>\n      <td>430548_1007</td>\n      <td>1</td>\n      <td>0</td>\n    </tr>\n    <tr>\n      <th>1</th>\n      <td>449818</td>\n      <td>1494638778</td>\n      <td>3</td>\n      <td>430548_1007</td>\n      <td>1</td>\n      <td>0</td>\n    </tr>\n    <tr>\n      <th>2</th>\n      <td>914836</td>\n      <td>1494650879</td>\n      <td>4</td>\n      <td>430548_1007</td>\n      <td>1</td>\n      <td>0</td>\n    </tr>\n    <tr>\n      <th>3</th>\n      <td>914836</td>\n      <td>1494651029</td>\n      <td>5</td>\n      <td>430548_1007</td>\n      <td>1</td>\n      <td>0</td>\n    </tr>\n    <tr>\n      <th>4</th>\n      <td>399907</td>\n      <td>1494302958</td>\n      <td>8</td>\n      <td>430548_1007</td>\n      <td>1</td>\n      <td>0</td>\n    </tr>\n    <tr>\n      <th>...</th>\n      <td>...</td>\n      <td>...</td>\n      <td>...</td>\n      <td>...</td>\n      <td>...</td>\n      <td>...</td>\n    </tr>\n    <tr>\n      <th>95</th>\n      <td>443793</td>\n      <td>1494496413</td>\n      <td>102</td>\n      <td>430539_1007</td>\n      <td>1</td>\n      <td>0</td>\n    </tr>\n    <tr>\n      <th>96</th>\n      <td>872834</td>\n      <td>1494303087</td>\n      <td>102</td>\n      <td>430539_1007</td>\n      <td>1</td>\n      <td>0</td>\n    </tr>\n    <tr>\n      <th>97</th>\n      <td>644063</td>\n      <td>1494632747</td>\n      <td>102</td>\n      <td>430548_1007</td>\n      <td>1</td>\n      <td>0</td>\n    </tr>\n    <tr>\n      <th>98</th>\n      <td>618501</td>\n      <td>1494655235</td>\n      <td>102</td>\n      <td>430539_1007</td>\n      <td>1</td>\n      <td>0</td>\n    </tr>\n    <tr>\n      <th>99</th>\n      <td>416214</td>\n      <td>1494389576</td>\n      <td>102</td>\n      <td>430539_1007</td>\n      <td>1</td>\n      <td>0</td>\n    </tr>\n  </tbody>\n</table>\n<p>100 rows × 6 columns</p>\n</div>"
     },
     "metadata": {},
     "execution_count": 6
    }
   ],
   "source": [
    "raw_sample = pd.read_csv(file_path + \"raw_sample.csv\", nrows=100)\n",
    "raw_sample"
   ]
  },
  {
   "cell_type": "code",
   "execution_count": 7,
   "metadata": {},
   "outputs": [
    {
     "output_type": "execute_result",
     "data": {
      "text/plain": "    userid  cms_segid  cms_group_id  final_gender_code  age_level  \\\n0      234          0             5                  2          5   \n1      523          5             2                  2          2   \n2      612          0             8                  1          2   \n3     1670          0             4                  2          4   \n4     2545          0            10                  1          4   \n..     ...        ...           ...                ...        ...   \n95   41143          7             2                  2          2   \n96   41148          0             1                  2          1   \n97   42150          0             2                  2          2   \n98   42180          0             5                  2          5   \n99   42309          0             3                  2          3   \n\n    pvalue_level  shopping_level  occupation  new_user_class_level   \n0            NaN               3           0                    3.0  \n1            1.0               3           1                    2.0  \n2            2.0               3           0                    NaN  \n3            NaN               1           0                    NaN  \n4            NaN               3           0                    NaN  \n..           ...             ...         ...                    ...  \n95           1.0               3           0                    2.0  \n96           NaN               3           1                    3.0  \n97           NaN               1           0                    NaN  \n98           NaN               1           0                    NaN  \n99           NaN               3           0                    NaN  \n\n[100 rows x 9 columns]",
      "text/html": "<div>\n<style scoped>\n    .dataframe tbody tr th:only-of-type {\n        vertical-align: middle;\n    }\n\n    .dataframe tbody tr th {\n        vertical-align: top;\n    }\n\n    .dataframe thead th {\n        text-align: right;\n    }\n</style>\n<table border=\"1\" class=\"dataframe\">\n  <thead>\n    <tr style=\"text-align: right;\">\n      <th></th>\n      <th>userid</th>\n      <th>cms_segid</th>\n      <th>cms_group_id</th>\n      <th>final_gender_code</th>\n      <th>age_level</th>\n      <th>pvalue_level</th>\n      <th>shopping_level</th>\n      <th>occupation</th>\n      <th>new_user_class_level</th>\n    </tr>\n  </thead>\n  <tbody>\n    <tr>\n      <th>0</th>\n      <td>234</td>\n      <td>0</td>\n      <td>5</td>\n      <td>2</td>\n      <td>5</td>\n      <td>NaN</td>\n      <td>3</td>\n      <td>0</td>\n      <td>3.0</td>\n    </tr>\n    <tr>\n      <th>1</th>\n      <td>523</td>\n      <td>5</td>\n      <td>2</td>\n      <td>2</td>\n      <td>2</td>\n      <td>1.0</td>\n      <td>3</td>\n      <td>1</td>\n      <td>2.0</td>\n    </tr>\n    <tr>\n      <th>2</th>\n      <td>612</td>\n      <td>0</td>\n      <td>8</td>\n      <td>1</td>\n      <td>2</td>\n      <td>2.0</td>\n      <td>3</td>\n      <td>0</td>\n      <td>NaN</td>\n    </tr>\n    <tr>\n      <th>3</th>\n      <td>1670</td>\n      <td>0</td>\n      <td>4</td>\n      <td>2</td>\n      <td>4</td>\n      <td>NaN</td>\n      <td>1</td>\n      <td>0</td>\n      <td>NaN</td>\n    </tr>\n    <tr>\n      <th>4</th>\n      <td>2545</td>\n      <td>0</td>\n      <td>10</td>\n      <td>1</td>\n      <td>4</td>\n      <td>NaN</td>\n      <td>3</td>\n      <td>0</td>\n      <td>NaN</td>\n    </tr>\n    <tr>\n      <th>...</th>\n      <td>...</td>\n      <td>...</td>\n      <td>...</td>\n      <td>...</td>\n      <td>...</td>\n      <td>...</td>\n      <td>...</td>\n      <td>...</td>\n      <td>...</td>\n    </tr>\n    <tr>\n      <th>95</th>\n      <td>41143</td>\n      <td>7</td>\n      <td>2</td>\n      <td>2</td>\n      <td>2</td>\n      <td>1.0</td>\n      <td>3</td>\n      <td>0</td>\n      <td>2.0</td>\n    </tr>\n    <tr>\n      <th>96</th>\n      <td>41148</td>\n      <td>0</td>\n      <td>1</td>\n      <td>2</td>\n      <td>1</td>\n      <td>NaN</td>\n      <td>3</td>\n      <td>1</td>\n      <td>3.0</td>\n    </tr>\n    <tr>\n      <th>97</th>\n      <td>42150</td>\n      <td>0</td>\n      <td>2</td>\n      <td>2</td>\n      <td>2</td>\n      <td>NaN</td>\n      <td>1</td>\n      <td>0</td>\n      <td>NaN</td>\n    </tr>\n    <tr>\n      <th>98</th>\n      <td>42180</td>\n      <td>0</td>\n      <td>5</td>\n      <td>2</td>\n      <td>5</td>\n      <td>NaN</td>\n      <td>1</td>\n      <td>0</td>\n      <td>NaN</td>\n    </tr>\n    <tr>\n      <th>99</th>\n      <td>42309</td>\n      <td>0</td>\n      <td>3</td>\n      <td>2</td>\n      <td>3</td>\n      <td>NaN</td>\n      <td>3</td>\n      <td>0</td>\n      <td>NaN</td>\n    </tr>\n  </tbody>\n</table>\n<p>100 rows × 9 columns</p>\n</div>"
     },
     "metadata": {},
     "execution_count": 7
    }
   ],
   "source": [
    "user_profile = pd.read_csv(file_path + \"user_profile.csv\", nrows=100)\n",
    "user_profile"
   ]
  },
  {
   "cell_type": "markdown",
   "metadata": {},
   "source": [
    "# Process Data With Spark"
   ]
  },
  {
   "cell_type": "code",
   "execution_count": 36,
   "metadata": {},
   "outputs": [],
   "source": [
    "from pyspark.sql import SQLContext\n",
    "from pyspark import SparkContext\n",
    "from pyspark.sql import SparkSession"
   ]
  },
  {
   "cell_type": "code",
   "execution_count": 37,
   "metadata": {},
   "outputs": [],
   "source": [
    "hdfs_path = 'hdfs://DClusterNmg4/user/bigdata_stg_gs/boweihan/dien/data/'\n",
    "spark_format = 'com.databricks.spark.csv'"
   ]
  },
  {
   "cell_type": "code",
   "execution_count": 38,
   "metadata": {
    "tags": []
   },
   "outputs": [
    {
     "output_type": "stream",
     "name": "stdout",
     "text": "[('adgroup_id', 'int'), ('cate_id', 'int'), ('campaign_id', 'int'), ('customer', 'int'), ('brand', 'string'), ('price', 'double')]\n"
    }
   ],
   "source": [
    "ad_feature = spark.read.format(spark_format).options(header='true', inferschema='true').load(hdfs_path + 'ad_feature.csv')\n",
    "print(ad_feature.dtypes)"
   ]
  },
  {
   "cell_type": "code",
   "execution_count": 39,
   "metadata": {
    "tags": []
   },
   "outputs": [
    {
     "output_type": "stream",
     "name": "stdout",
     "text": "[('user', 'int'), ('time_stamp', 'int'), ('btag', 'string'), ('cate', 'int'), ('brand', 'int')]\n"
    }
   ],
   "source": [
    "behavior_log = spark.read.format(spark_format).options(header='true', inferschema='true').load(hdfs_path + 'behavior_log.csv')\n",
    "print(behavior_log.dtypes)"
   ]
  },
  {
   "cell_type": "code",
   "execution_count": 40,
   "metadata": {
    "tags": []
   },
   "outputs": [
    {
     "output_type": "stream",
     "name": "stdout",
     "text": "[('user', 'int'), ('time_stamp', 'int'), ('adgroup_id', 'int'), ('pid', 'string'), ('nonclk', 'int'), ('clk', 'int')]\n"
    }
   ],
   "source": [
    "raw_sample = spark.read.format(spark_format).options(header='true', inferschema='true').load(hdfs_path + 'raw_sample.csv')\n",
    "print(raw_sample.dtypes)"
   ]
  },
  {
   "cell_type": "code",
   "execution_count": 41,
   "metadata": {
    "tags": []
   },
   "outputs": [
    {
     "output_type": "stream",
     "name": "stdout",
     "text": "[('userid', 'int'), ('cms_segid', 'int'), ('cms_group_id', 'int'), ('final_gender_code', 'int'), ('age_level', 'int'), ('pvalue_level', 'int'), ('shopping_level', 'int'), ('occupation', 'int'), ('new_user_class_level ', 'int')]\n"
    }
   ],
   "source": [
    "user_profile = spark.read.format(spark_format).options(header='true', inferschema='true').load(hdfs_path + 'user_profile.csv')\n",
    "print(user_profile.dtypes)"
   ]
  },
  {
   "cell_type": "markdown",
   "metadata": {},
   "source": [
    "## (1) 将user_profile中的用户特征与训练数据raw_sample做关联,得到训练数据的用户画像特征"
   ]
  },
  {
   "cell_type": "code",
   "execution_count": 42,
   "metadata": {
    "tags": []
   },
   "outputs": [
    {
     "output_type": "stream",
     "name": "stdout",
     "text": "+------+----------+----------+-----------+------+---+\n|  user|time_stamp|adgroup_id|        pid|nonclk|clk|\n+------+----------+----------+-----------+------+---+\n|581738|1494137644|         1|430548_1007|     1|  0|\n|449818|1494638778|         3|430548_1007|     1|  0|\n|914836|1494650879|         4|430548_1007|     1|  0|\n|914836|1494651029|         5|430548_1007|     1|  0|\n|399907|1494302958|         8|430548_1007|     1|  0|\n|628137|1494524935|         9|430548_1007|     1|  0|\n|298139|1494462593|         9|430539_1007|     1|  0|\n|775475|1494561036|         9|430548_1007|     1|  0|\n|555266|1494307136|        11|430539_1007|     1|  0|\n|117840|1494036743|        11|430548_1007|     1|  0|\n|739815|1494115387|        11|430539_1007|     1|  0|\n|623911|1494625301|        11|430548_1007|     1|  0|\n|623911|1494451608|        11|430548_1007|     1|  0|\n|421590|1494034144|        11|430548_1007|     1|  0|\n|976358|1494156949|        13|430548_1007|     1|  0|\n|286630|1494218579|        13|430539_1007|     1|  0|\n|286630|1494289247|        13|430539_1007|     1|  0|\n|771431|1494153867|        13|430548_1007|     1|  0|\n|707120|1494220810|        13|430548_1007|     1|  0|\n|530454|1494293746|        13|430548_1007|     1|  0|\n+------+----------+----------+-----------+------+---+\nonly showing top 20 rows\n\n"
    }
   ],
   "source": [
    "raw_sample.show()"
   ]
  },
  {
   "cell_type": "code",
   "execution_count": 43,
   "metadata": {
    "tags": []
   },
   "outputs": [
    {
     "output_type": "stream",
     "name": "stdout",
     "text": "+------+---------+------------+-----------------+---------+------------+--------------+----------+---------------------+\n|userid|cms_segid|cms_group_id|final_gender_code|age_level|pvalue_level|shopping_level|occupation|new_user_class_level |\n+------+---------+------------+-----------------+---------+------------+--------------+----------+---------------------+\n|   234|        0|           5|                2|        5|        null|             3|         0|                    3|\n|   523|        5|           2|                2|        2|           1|             3|         1|                    2|\n|   612|        0|           8|                1|        2|           2|             3|         0|                 null|\n|  1670|        0|           4|                2|        4|        null|             1|         0|                 null|\n|  2545|        0|          10|                1|        4|        null|             3|         0|                 null|\n|  3644|       49|           6|                2|        6|           2|             3|         0|                    2|\n|  5777|       44|           5|                2|        5|           2|             3|         0|                    2|\n|  6211|        0|           9|                1|        3|        null|             3|         0|                    2|\n|  6355|        2|           1|                2|        1|           1|             3|         0|                    4|\n|  6823|       43|           5|                2|        5|           2|             3|         0|                    1|\n|  6972|        5|           2|                2|        2|           2|             3|         1|                    2|\n|  9293|        0|           5|                2|        5|        null|             3|         0|                    4|\n|  9510|       55|           8|                1|        2|           2|             2|         0|                    2|\n| 10122|       33|           4|                2|        4|           2|             3|         0|                    2|\n| 10549|        0|           4|                2|        4|           2|             3|         0|                 null|\n| 10812|        0|           4|                2|        4|        null|             2|         0|                 null|\n| 10912|        0|           4|                2|        4|           2|             3|         0|                 null|\n| 10996|        0|           5|                2|        5|        null|             3|         0|                    4|\n| 11256|        8|           2|                2|        2|           1|             3|         0|                    3|\n| 11310|       31|           4|                2|        4|           1|             3|         0|                    4|\n+------+---------+------------+-----------------+---------+------------+--------------+----------+---------------------+\nonly showing top 20 rows\n\n"
    }
   ],
   "source": [
    "user_profile.show()"
   ]
  },
  {
   "cell_type": "code",
   "execution_count": null,
   "metadata": {
    "tags": []
   },
   "outputs": [],
   "source": []
  },
  {
   "cell_type": "code",
   "execution_count": 44,
   "metadata": {
    "tags": []
   },
   "outputs": [
    {
     "output_type": "execute_result",
     "data": {
      "text/plain": "[('user', 'int'),\n ('time_stamp', 'int'),\n ('adgroup_id', 'int'),\n ('pid', 'string'),\n ('nonclk', 'int'),\n ('clk', 'int'),\n ('userid', 'int'),\n ('cms_segid', 'int'),\n ('cms_group_id', 'int'),\n ('final_gender_code', 'int'),\n ('age_level', 'int'),\n ('pvalue_level', 'int'),\n ('shopping_level', 'int'),\n ('occupation', 'int'),\n ('new_user_class_level ', 'int')]"
     },
     "metadata": {},
     "execution_count": 44
    }
   ],
   "source": [
    "rst = raw_sample.join(user_profile, raw_sample.user == user_profile.userid, how='left') \n",
    "rst.dtypes"
   ]
  },
  {
   "cell_type": "code",
   "execution_count": 45,
   "metadata": {
    "tags": []
   },
   "outputs": [
    {
     "output_type": "stream",
     "name": "stdout",
     "text": "+--------+\n|count(1)|\n+--------+\n|26557961|\n+--------+\n\n"
    }
   ],
   "source": [
    "rst.agg({\"*\": \"count\"}).show()"
   ]
  },
  {
   "cell_type": "code",
   "execution_count": 46,
   "metadata": {
    "tags": []
   },
   "outputs": [
    {
     "output_type": "stream",
     "name": "stdout",
     "text": "+--------+\n|count(1)|\n+--------+\n|26557961|\n+--------+\n\n"
    }
   ],
   "source": [
    "raw_sample.agg({\"*\": \"count\"}).show()"
   ]
  },
  {
   "cell_type": "code",
   "execution_count": 47,
   "metadata": {
    "tags": []
   },
   "outputs": [
    {
     "output_type": "stream",
     "name": "stdout",
     "text": "+----+----------+----------+-----------+------+---+------+---------+------------+-----------------+---------+------------+--------------+----------+---------------------+\n|user|time_stamp|adgroup_id|        pid|nonclk|clk|userid|cms_segid|cms_group_id|final_gender_code|age_level|pvalue_level|shopping_level|occupation|new_user_class_level |\n+----+----------+----------+-----------+------+---+------+---------+------------+-----------------+---------+------------+--------------+----------+---------------------+\n|   1|1494571525|    133190|430548_1007|     1|  0|     1|       92|          11|                1|        5|           2|             3|         0|                    3|\n|   1|1494478236|    752759|430548_1007|     1|  0|     1|       92|          11|                1|        5|           2|             3|         0|                    3|\n|   1|1494571525|    769066|430548_1007|     1|  0|     1|       92|          11|                1|        5|           2|             3|         0|                    3|\n|   1|1494571525|    142774|430548_1007|     1|  0|     1|       92|          11|                1|        5|           2|             3|         0|                    3|\n|   3|1494466003|    624097|430548_1007|     1|  0|     3|       61|           9|                1|        3|           2|             2|         0|                    4|\n|   3|1494198455|    107685|430548_1007|     1|  0|     3|       61|           9|                1|        3|           2|             2|         0|                    4|\n|   3|1494463444|    743414|430548_1007|     1|  0|     3|       61|           9|                1|        3|           2|             2|         0|                    4|\n|   3|1494200493|    771933|430548_1007|     1|  0|     3|       61|           9|                1|        3|           2|             2|         0|                    4|\n|   3|1494551005|    459694|430548_1007|     1|  0|     3|       61|           9|                1|        3|           2|             2|         0|                    4|\n|   3|1494466003|    744444|430548_1007|     1|  0|     3|       61|           9|                1|        3|           2|             2|         0|                    4|\n|   3|1494463444|    528849|430548_1007|     1|  0|     3|       61|           9|                1|        3|           2|             2|         0|                    4|\n|   3|1494198455|    528849|430548_1007|     0|  1|     3|       61|           9|                1|        3|           2|             2|         0|                    4|\n|   3|1494540226|    692942|430548_1007|     1|  0|     3|       61|           9|                1|        3|           2|             2|         0|                    4|\n|   3|1494200493|    675674|430548_1007|     1|  0|     3|       61|           9|                1|        3|           2|             2|         0|                    4|\n|   3|1494200493|    721291|430548_1007|     1|  0|     3|       61|           9|                1|        3|           2|             2|         0|                    4|\n|   3|1494463444|    725596|430548_1007|     1|  0|     3|       61|           9|                1|        3|           2|             2|         0|                    4|\n|   3|1494551005|    685827|430548_1007|     1|  0|     3|       61|           9|                1|        3|           2|             2|         0|                    4|\n|   3|1494551005|    799692|430548_1007|     1|  0|     3|       61|           9|                1|        3|           2|             2|         0|                    4|\n|   3|1494466003|    391524|430548_1007|     1|  0|     3|       61|           9|                1|        3|           2|             2|         0|                    4|\n|   4|1494124371|    111810|430548_1007|     1|  0|     4|        0|          11|                1|        5|        null|             2|         0|                 null|\n+----+----------+----------+-----------+------+---+------+---------+------------+-----------------+---------+------------+--------------+----------+---------------------+\nonly showing top 20 rows\n\n"
    }
   ],
   "source": [
    "rst.show()"
   ]
  },
  {
   "cell_type": "code",
   "execution_count": 48,
   "metadata": {},
   "outputs": [],
   "source": [
    "#rst.write.mode(\"overwrite\").options(header=\"true\").csv(hdfs_path + \"train_data_user_profile\")"
   ]
  },
  {
   "cell_type": "markdown",
   "metadata": {},
   "source": [
    "## (2) 将ad_feature与rst[raw_sample.csv与user_profile.csv的关联结果]做关联 "
   ]
  },
  {
   "cell_type": "code",
   "execution_count": 49,
   "metadata": {
    "tags": []
   },
   "outputs": [
    {
     "output_type": "stream",
     "name": "stdout",
     "text": "+----------+-------+-----------+--------+------+-----+\n|adgroup_id|cate_id|campaign_id|customer| brand|price|\n+----------+-------+-----------+--------+------+-----+\n|     63133|   6406|      83237|       1| 95471|170.0|\n|    313401|   6406|      83237|       1| 87331|199.0|\n|    248909|    392|      83237|       1| 32233| 38.0|\n|    208458|    392|      83237|       1|174374|139.0|\n|    110847|   7211|     135256|       2|145952|32.99|\n|    607788|   6261|     387991|       6|207800|199.0|\n|    375706|   4520|     387991|       6|  NULL| 99.0|\n|     11115|   7213|     139747|       9|186847| 33.0|\n|     24484|   7207|     139744|       9|186847| 19.0|\n|     28589|   5953|     395195|      13|  NULL|428.0|\n|     23236|   5953|     395195|      13|  NULL|368.0|\n|    300556|   5953|     395195|      13|  NULL|639.0|\n|     92560|   5953|     395195|      13|  NULL|368.0|\n|    590965|   4284|      28145|      14|454237|249.0|\n|    529913|   4284|      70206|      14|  NULL|249.0|\n|    546930|   4284|      28145|      14|  NULL|249.0|\n|    639794|   6261|      70206|      14| 37004| 89.9|\n|    335413|   4284|      28145|      14|  NULL|249.0|\n|    794890|   4284|      70206|      14|454237|249.0|\n|    684020|   6261|      70206|      14| 37004| 99.0|\n+----------+-------+-----------+--------+------+-----+\nonly showing top 20 rows\n\n"
    }
   ],
   "source": [
    "ad_feature.show()"
   ]
  },
  {
   "cell_type": "code",
   "execution_count": 50,
   "metadata": {
    "tags": []
   },
   "outputs": [
    {
     "output_type": "stream",
     "name": "stdout",
     "text": "+----+----------+----------+-----------+------+---+------+---------+------------+-----------------+---------+------------+--------------+----------+---------------------+\n|user|time_stamp|adgroup_id|        pid|nonclk|clk|userid|cms_segid|cms_group_id|final_gender_code|age_level|pvalue_level|shopping_level|occupation|new_user_class_level |\n+----+----------+----------+-----------+------+---+------+---------+------------+-----------------+---------+------------+--------------+----------+---------------------+\n|   1|1494571525|    133190|430548_1007|     1|  0|     1|       92|          11|                1|        5|           2|             3|         0|                    3|\n|   1|1494571525|    142774|430548_1007|     1|  0|     1|       92|          11|                1|        5|           2|             3|         0|                    3|\n|   1|1494571525|    769066|430548_1007|     1|  0|     1|       92|          11|                1|        5|           2|             3|         0|                    3|\n|   1|1494478236|    752759|430548_1007|     1|  0|     1|       92|          11|                1|        5|           2|             3|         0|                    3|\n|   3|1494463444|    528849|430548_1007|     1|  0|     3|       61|           9|                1|        3|           2|             2|         0|                    4|\n|   3|1494198455|    528849|430548_1007|     0|  1|     3|       61|           9|                1|        3|           2|             2|         0|                    4|\n|   3|1494540226|    692942|430548_1007|     1|  0|     3|       61|           9|                1|        3|           2|             2|         0|                    4|\n|   3|1494466003|    391524|430548_1007|     1|  0|     3|       61|           9|                1|        3|           2|             2|         0|                    4|\n|   3|1494466003|    744444|430548_1007|     1|  0|     3|       61|           9|                1|        3|           2|             2|         0|                    4|\n|   3|1494200493|    771933|430548_1007|     1|  0|     3|       61|           9|                1|        3|           2|             2|         0|                    4|\n|   3|1494198455|    107685|430548_1007|     1|  0|     3|       61|           9|                1|        3|           2|             2|         0|                    4|\n|   3|1494463444|    743414|430548_1007|     1|  0|     3|       61|           9|                1|        3|           2|             2|         0|                    4|\n|   3|1494200493|    675674|430548_1007|     1|  0|     3|       61|           9|                1|        3|           2|             2|         0|                    4|\n|   3|1494463444|    725596|430548_1007|     1|  0|     3|       61|           9|                1|        3|           2|             2|         0|                    4|\n|   3|1494551005|    685827|430548_1007|     1|  0|     3|       61|           9|                1|        3|           2|             2|         0|                    4|\n|   3|1494551005|    459694|430548_1007|     1|  0|     3|       61|           9|                1|        3|           2|             2|         0|                    4|\n|   3|1494200493|    721291|430548_1007|     1|  0|     3|       61|           9|                1|        3|           2|             2|         0|                    4|\n|   3|1494466003|    624097|430548_1007|     1|  0|     3|       61|           9|                1|        3|           2|             2|         0|                    4|\n|   3|1494551005|    799692|430548_1007|     1|  0|     3|       61|           9|                1|        3|           2|             2|         0|                    4|\n|   4|1494653875|    540304|430548_1007|     1|  0|     4|        0|          11|                1|        5|        null|             2|         0|                 null|\n+----+----------+----------+-----------+------+---+------+---------+------------+-----------------+---------+------------+--------------+----------+---------------------+\nonly showing top 20 rows\n\n"
    }
   ],
   "source": [
    "rst.show()"
   ]
  },
  {
   "cell_type": "code",
   "execution_count": 51,
   "metadata": {},
   "outputs": [
    {
     "output_type": "execute_result",
     "data": {
      "text/plain": "[('adgroup_id', 'int'),\n ('user', 'int'),\n ('time_stamp', 'int'),\n ('pid', 'string'),\n ('nonclk', 'int'),\n ('clk', 'int'),\n ('userid', 'int'),\n ('cms_segid', 'int'),\n ('cms_group_id', 'int'),\n ('final_gender_code', 'int'),\n ('age_level', 'int'),\n ('pvalue_level', 'int'),\n ('shopping_level', 'int'),\n ('occupation', 'int'),\n ('new_user_class_level ', 'int'),\n ('cate_id', 'int'),\n ('campaign_id', 'int'),\n ('customer', 'int'),\n ('brand', 'string'),\n ('price', 'double')]"
     },
     "metadata": {},
     "execution_count": 51
    }
   ],
   "source": [
    "rst = rst.join(ad_feature, \"adgroup_id\", how='left') \n",
    "rst.dtypes"
   ]
  },
  {
   "cell_type": "code",
   "execution_count": 52,
   "metadata": {
    "tags": []
   },
   "outputs": [
    {
     "output_type": "stream",
     "name": "stdout",
     "text": "'adgroup_id','user','time_stamp','pid','nonclk','clk','userid','cms_segid','cms_group_id','final_gender_code','age_level','pvalue_level','shopping_level','occupation','new_user_class_level ','cate_id','campaign_id','customer','brand','price',"
    }
   ],
   "source": [
    "for col in rst.columns:\n",
    "    print(\"'\" + col + \"',\", end = \"\")"
   ]
  },
  {
   "cell_type": "code",
   "execution_count": 65,
   "metadata": {
    "tags": []
   },
   "outputs": [
    {
     "output_type": "execute_result",
     "data": {
      "text/plain": "26557961"
     },
     "metadata": {},
     "execution_count": 65
    }
   ],
   "source": [
    "rst.where(rst[\"cate_id\"].isNotNull()).select(\"cate_id\").count()"
   ]
  },
  {
   "cell_type": "code",
   "execution_count": 66,
   "metadata": {},
   "outputs": [
    {
     "output_type": "execute_result",
     "data": {
      "text/plain": "26557961"
     },
     "metadata": {},
     "execution_count": 66
    }
   ],
   "source": [
    "rst.select(\"cate_id\").count()"
   ]
  },
  {
   "cell_type": "code",
   "execution_count": 55,
   "metadata": {},
   "outputs": [],
   "source": [
    "rst.write.mode(\"overwrite\").options(header=\"true\").csv(hdfs_path + \"train_data\")"
   ]
  },
  {
   "cell_type": "markdown",
   "metadata": {},
   "source": [
    "## (3) 将behavior_log用户行为序列按user_id进行group by分组后按时间戳由小到大排序"
   ]
  },
  {
   "cell_type": "code",
   "execution_count": 56,
   "metadata": {
    "tags": []
   },
   "outputs": [
    {
     "output_type": "stream",
     "name": "stdout",
     "text": "+------+----------+----+-----+------+\n|  user|time_stamp|btag| cate| brand|\n+------+----------+----+-----+------+\n|558157|1493741625|  pv| 6250| 91286|\n|558157|1493741626|  pv| 6250| 91286|\n|558157|1493741627|  pv| 6250| 91286|\n|728690|1493776998|  pv|11800| 62353|\n|332634|1493809895|  pv| 1101|365477|\n|857237|1493816945|  pv| 1043|110616|\n|619381|1493774638|  pv|  385|428950|\n|467042|1493772641|  pv| 8237|301299|\n|467042|1493772644|  pv| 8237|301299|\n|991528|1493780710|  pv| 7270|274795|\n|991528|1493780712|  pv| 7270|274795|\n|991528|1493780712|  pv| 7270|274795|\n|991528|1493780712|  pv| 7270|274795|\n|991528|1493780714|  pv| 7270|274795|\n|991528|1493780765|  pv| 7270|274795|\n|991528|1493780714|  pv| 7270|274795|\n|991528|1493780765|  pv| 7270|274795|\n|991528|1493780764|  pv| 7270|274795|\n|991528|1493780633|  pv| 7270|274795|\n|991528|1493780764|  pv| 7270|274795|\n+------+----------+----+-----+------+\nonly showing top 20 rows\n\n"
    }
   ],
   "source": [
    "behavior_log.show()"
   ]
  },
  {
   "cell_type": "code",
   "execution_count": 57,
   "metadata": {},
   "outputs": [
    {
     "output_type": "execute_result",
     "data": {
      "text/plain": "723268134"
     },
     "metadata": {},
     "execution_count": 57
    }
   ],
   "source": [
    "behavior_log.count()"
   ]
  },
  {
   "cell_type": "code",
   "execution_count": 58,
   "metadata": {
    "tags": []
   },
   "outputs": [
    {
     "output_type": "stream",
     "name": "stdout",
     "text": "+------+----------+\n|  user|time_stamp|\n+------+----------+\n|558157|1493741625|\n|558157|1493741626|\n|558157|1493741627|\n|728690|1493776998|\n|332634|1493809895|\n|857237|1493816945|\n|619381|1493774638|\n|467042|1493772641|\n|467042|1493772644|\n|991528|1493780710|\n|991528|1493780712|\n|991528|1493780712|\n|991528|1493780712|\n|991528|1493780714|\n|991528|1493780765|\n|991528|1493780714|\n|991528|1493780765|\n|991528|1493780764|\n|991528|1493780633|\n|991528|1493780764|\n+------+----------+\nonly showing top 20 rows\n\n"
    }
   ],
   "source": [
    "behavior_log.select(\"user\", \"time_stamp\").show()"
   ]
  },
  {
   "cell_type": "code",
   "execution_count": 67,
   "metadata": {
    "tags": []
   },
   "outputs": [
    {
     "output_type": "stream",
     "name": "stdout",
     "text": "+-------+-----------+----+----+------+\n|   user| time_stamp|btag|cate| brand|\n+-------+-----------+----+----+------+\n| 672029|-2142988435|  pv|4287|364892|\n| 561996|-2104520662|  pv|6160|247789|\n| 561996|-2104520653|  pv|6160|247789|\n| 561996|-2104520651|  pv|6160|247789|\n| 561996|-2104520630|  pv|6160|247789|\n| 561996|-2104520605|  pv|6160|247789|\n| 561996|-2104520539|  pv|6160|247789|\n| 561996|-2104520422|  pv|4384|312716|\n| 561996|-2104520420|  pv|4384|312716|\n| 561996|-2104520415|  pv|4384|312716|\n| 561996|-2104520388|  pv|4384|312716|\n| 561996|-2104520387|  pv|4384|312716|\n|1013803|-2101140178|  pv|1483| 14127|\n|1013803|-2101140173|  pv|1483| 14127|\n|1013803|-2101140160|  pv|1483| 14127|\n|1013803|-2101140159|  pv|1483| 14127|\n|1013803|-2101140159|  pv|1483| 14127|\n|1013803|-2101139349|  pv|1483|270347|\n|1013803|-2101139347|  pv|1483|270347|\n|1013803|-2101139292|  pv|1483|270347|\n+-------+-----------+----+----+------+\nonly showing top 20 rows\n\n"
    }
   ],
   "source": [
    "behavior_log.sort('time_stamp',ascending=True).show()"
   ]
  },
  {
   "cell_type": "code",
   "execution_count": 60,
   "metadata": {
    "tags": []
   },
   "outputs": [
    {
     "output_type": "stream",
     "name": "stdout",
     "text": "+-------+-----------+----+----+------+\n|   user| time_stamp|btag|cate| brand|\n+-------+-----------+----+----+------+\n| 672029|-2142988435|  pv|4287|364892|\n| 561996|-2104520662|  pv|6160|247789|\n| 561996|-2104520653|  pv|6160|247789|\n| 561996|-2104520651|  pv|6160|247789|\n| 561996|-2104520630|  pv|6160|247789|\n| 561996|-2104520605|  pv|6160|247789|\n| 561996|-2104520539|  pv|6160|247789|\n| 561996|-2104520422|  pv|4384|312716|\n| 561996|-2104520420|  pv|4384|312716|\n| 561996|-2104520415|  pv|4384|312716|\n| 561996|-2104520388|  pv|4384|312716|\n| 561996|-2104520387|  pv|4384|312716|\n|1013803|-2101140178|  pv|1483| 14127|\n|1013803|-2101140173|  pv|1483| 14127|\n|1013803|-2101140160|  pv|1483| 14127|\n|1013803|-2101140159|  pv|1483| 14127|\n|1013803|-2101140159|  pv|1483| 14127|\n|1013803|-2101139349|  pv|1483|270347|\n|1013803|-2101139347|  pv|1483|270347|\n|1013803|-2101139292|  pv|1483|270347|\n+-------+-----------+----+----+------+\nonly showing top 20 rows\n\n"
    }
   ],
   "source": [
    "behavior_log.orderBy('time_stamp','user').show()"
   ]
  },
  {
   "cell_type": "code",
   "execution_count": null,
   "metadata": {},
   "outputs": [],
   "source": [
    "-------"
   ]
  },
  {
   "cell_type": "markdown",
   "metadata": {},
   "source": [
    "### a. 将数据存入hive表\n",
    "- behavior_log: stg_gs.guide_dien_user_behavior\n",
    "- raw_sample: stg_gs.guide_dien_raw_sample\n",
    "- user_profile: stg_gs.guide_dien_user_profile\n",
    "- ad_feature: stg_gs.guide_dien_ad_feature"
   ]
  },
  {
   "cell_type": "code",
   "execution_count": 96,
   "metadata": {},
   "outputs": [],
   "source": [
    "from pyspark.sql import SparkSession, HiveContext\n",
    "def save_hive(data, table_name):\n",
    "    data.registerTempTable('test_hive')\n",
    "    sqlContext.sql(\"create table \" + table_name + \" select * from test_hive\")\n",
    "    return"
   ]
  },
  {
   "cell_type": "code",
   "execution_count": 69,
   "metadata": {},
   "outputs": [],
   "source": [
    "behavior_log.registerTempTable('test_hive')"
   ]
  },
  {
   "cell_type": "code",
   "execution_count": 74,
   "metadata": {},
   "outputs": [
    {
     "output_type": "execute_result",
     "data": {
      "text/plain": "DataFrame[]"
     },
     "metadata": {},
     "execution_count": 74
    }
   ],
   "source": [
    "behavior_log.registerTempTable('test_hive')\n",
    "table_name = \"stg_gs.guide_dien_user_behavior\"\n",
    "sqlContext.sql(\"create table \" + table_name + \" select * from test_hive\")"
   ]
  },
  {
   "cell_type": "code",
   "execution_count": 89,
   "metadata": {},
   "outputs": [
    {
     "output_type": "execute_result",
     "data": {
      "text/plain": "DataFrame[]"
     },
     "metadata": {},
     "execution_count": 89
    }
   ],
   "source": [
    "raw_sample.registerTempTable('test_hive')\n",
    "table_name = \"stg_gs.guide_dien_raw_sample\"\n",
    "sqlContext.sql(\"create table \" + table_name + \" select * from test_hive\")"
   ]
  },
  {
   "cell_type": "code",
   "execution_count": 90,
   "metadata": {},
   "outputs": [
    {
     "output_type": "execute_result",
     "data": {
      "text/plain": "DataFrame[]"
     },
     "metadata": {},
     "execution_count": 90
    }
   ],
   "source": [
    "user_profile.registerTempTable('test_hive')\n",
    "table_name = \"stg_gs.guide_dien_user_profile\"\n",
    "sqlContext.sql(\"create table \" + table_name + \" select * from test_hive\")"
   ]
  },
  {
   "cell_type": "code",
   "execution_count": 91,
   "metadata": {},
   "outputs": [
    {
     "output_type": "execute_result",
     "data": {
      "text/plain": "DataFrame[]"
     },
     "metadata": {},
     "execution_count": 91
    }
   ],
   "source": [
    "ad_feature.registerTempTable('test_hive')\n",
    "table_name = \"stg_gs.guide_dien_ad_feature\"\n",
    "sqlContext.sql(\"create table \" + table_name + \" select * from test_hive\")"
   ]
  },
  {
   "cell_type": "markdown",
   "metadata": {},
   "source": [
    "### b. 使用sql处理behavior_log用户行为序列数据"
   ]
  },
  {
   "cell_type": "code",
   "execution_count": 93,
   "metadata": {},
   "outputs": [],
   "source": [
    "def load_sql_file(sql_file):\n",
    "    with open(sql_file, 'r') as isf:\n",
    "        sql_txt = isf.readlines()\n",
    "        return \"\".join(sql_txt)"
   ]
  },
  {
   "cell_type": "markdown",
   "metadata": {},
   "source": [
    "#### user_id分组后按timestamp升序排序并保存到hive"
   ]
  },
  {
   "cell_type": "code",
   "execution_count": 103,
   "metadata": {
    "tags": []
   },
   "outputs": [
    {
     "output_type": "stream",
     "name": "stdout",
     "text": "select \n    user,\n    time_stamp,\n    btag,\n    cate,\n    brand,\n    RANK() OVER (PARTITION BY user ORDER BY time_stamp ASC) RK\nfrom \n    stg_gs.guide_dien_user_behavior\n\n\n+----+----------+----+----+------+---+\n|user|time_stamp|btag|cate| brand| RK|\n+----+----------+----+----+------+---+\n|  65|1492900231|  pv|6423|202844|  1|\n|  65|1493001655|  pv|1535|  1933|  2|\n|  65|1493001696|  pv|5144|221012|  3|\n|  65|1493001718|  pv|5144|221012|  4|\n|  65|1493001718|  pv|5144|221012|  4|\n|  65|1493163026|  pv|4384| 83700|  6|\n|  65|1493163115|  pv|4384|268509|  7|\n|  65|1493163153|cart|4384|268509|  8|\n|  65|1493163157|  pv|4384|268509|  9|\n|  65|1493284569|  pv| 859|102030| 10|\n|  65|1493337810|  pv|4384|268509| 11|\n|  65|1493337870|  pv|4384|268509| 12|\n|  65|1493383822|  pv|8233|211132| 13|\n|  65|1493383863|  pv|8233|211132| 14|\n|  65|1493383881|  pv|8233|211132| 15|\n|  65|1493383893|  pv|8233|211132| 16|\n|  65|1493383931|  pv|8233|211132| 17|\n|  65|1493383933|  pv|8233|211132| 18|\n|  65|1493383935|  pv|8233|211132| 19|\n|  65|1493383969|  pv|8213|271534| 20|\n+----+----------+----+----+------+---+\nonly showing top 20 rows\n\n"
    }
   ],
   "source": [
    "sql = load_sql_file(file_path + \"../get_behavior.sql\")\n",
    "print(sql)\n",
    "df = spark.sql(sql)\n",
    "df.show()"
   ]
  },
  {
   "cell_type": "code",
   "execution_count": null,
   "metadata": {
    "tags": []
   },
   "outputs": [],
   "source": [
    "save_hive(df, \"stg_gs.guide_dien_behavior_list\")"
   ]
  },
  {
   "cell_type": "markdown",
   "metadata": {},
   "source": [
    "#### 点击数据behavior list序列特征"
   ]
  },
  {
   "cell_type": "code",
   "execution_count": 112,
   "metadata": {
    "tags": []
   },
   "outputs": [
    {
     "output_type": "stream",
     "name": "stdout",
     "text": "select\n    *\nfrom \n   stg_gs.guide_dien_behavior_list\nwhere\n    btag in (\"cart\", \"fav\", \"buy\")\n+----+----------+----+----+------+---+\n|user|time_stamp|btag|cate| brand| RK|\n+----+----------+----+----+------+---+\n|  65|1493163153|cart|4384|268509|  8|\n|  65|1493533129|cart|8867|111917| 87|\n|  65|1493941650|cart|8233|211132|114|\n|  65|1493958804| buy|8233|211132|121|\n|  65|1493958826| buy|8233|211132|123|\n|  65|1494074722|cart|8214| 10655|168|\n|  65|1494379922|cart|9095|254674|176|\n|  65|1494579211| buy|6172|194766|210|\n| 133|1493389745| fav|6251|151773| 39|\n| 133|1493390266|cart|4267|400399| 90|\n| 133|1493391032| fav|4384|115267|126|\n| 133|1493392029| fav|6408| 80872|154|\n| 133|1493392869| buy|6251|151773|173|\n| 133|1493392869| buy|6251|151773|173|\n| 133|1493573034| fav|4838| 49903|242|\n| 133|1493573608| fav|2063|374661|264|\n| 133|1493573836|cart|2063|374661|278|\n| 133|1493574249|cart|4413| 32904|299|\n| 133|1493619678| fav|6407| 55596|330|\n| 133|1493622340| fav|6261|318028|387|\n+----+----------+----+----+------+---+\nonly showing top 20 rows\n\n"
    }
   ],
   "source": [
    "sql = load_sql_file(file_path + \"../click_behavior_data.sql\")\n",
    "print(sql)\n",
    "df = spark.sql(sql)\n",
    "df.show()"
   ]
  },
  {
   "cell_type": "code",
   "execution_count": 115,
   "metadata": {
    "tags": []
   },
   "outputs": [
    {
     "output_type": "stream",
     "name": "stdout",
     "text": "+----+--------------------+--------------------+--------------------+\n|user|  collect_list(cate)| collect_list(brand)|    collect_list(RK)|\n+----+--------------------+--------------------+--------------------+\n|   1|[7971, 7971, 7971...|[353787, 245773, ...|[2, 11, 33, 37, 4...|\n|   3|[4603, 6432, 6432...|[151043, 253841, ...|[2, 48, 50, 166, ...|\n|   4|[5467, 5467, 5467...|[172369, 172369, ...|[80, 83, 85, 95, ...|\n|   6|[6806, 6806, 6251...|[310648, 310648, ...|[2, 10, 18, 38, 5...|\n|   8|[1226, 6421, 856,...|[363857, 126738, ...|[8, 30, 48, 50, 6...|\n|  11|[6180, 4262, 4262...|[450785, 370203, ...|[32, 50, 51, 54, 92]|\n|  12|[531, 8979, 8979,...|[348644, 37621, 3...|[36, 134, 134, 13...|\n|  33|[6408, 11203, 112...|[45669, 57959, 57...|[19, 24, 41, 43, ...|\n|  35|[4262, 4262, 6428...|[370203, 370203, ...|[1, 35, 59, 311, ...|\n|  37|[4281, 6274, 6059...|[314496, 43945, 6...|[35, 77, 161, 166...|\n|  60|[6428, 6428, 6428...|[3130, 150395, 10...|[2, 9, 20, 22, 26...|\n|  61|[4520, 4283, 8113...|[76298, 76298, 41...|[10, 14, 62, 110,...|\n|  64|[4278, 9383, 9383...|[14983, 14983, 14...|[27, 30, 33, 56, ...|\n|  65|[4384, 8867, 8233...|[268509, 111917, ...|[8, 87, 114, 121,...|\n|  66|[4262, 10979, 109...|[370203, 115606, ...|[10, 140, 154, 21...|\n|  76|[4284, 109, 4280,...|[316111, 199354, ...|[4, 11, 35, 45, 6...|\n|  81|[5203, 347, 6408,...|[234746, 9793, 92...|[18, 29, 76, 106,...|\n|  83|[6152, 5950, 6943...|[108403, 45765, 1...|[1, 9, 15, 39, 45...|\n|  87|[9458, 6421, 6421...|[353787, 134330, ...|[6, 30, 34, 45, 6...|\n|  90|[4755, 4755, 4267...|[215435, 215435, ...|[13, 14, 15, 15, ...|\n+----+--------------------+--------------------+--------------------+\nonly showing top 20 rows\n\n"
    }
   ],
   "source": [
    "import pyspark.sql.functions as f\n",
    "behavior_list_cart = df.groupby('user').agg(f.collect_list('cate'), f.collect_list('brand'),f.collect_list('RK'))\n",
    "behavior_list_cart.show()"
   ]
  },
  {
   "cell_type": "code",
   "execution_count": 116,
   "metadata": {
    "tags": []
   },
   "outputs": [
    {
     "output_type": "stream",
     "name": "stdout",
     "text": "+----+--------------------+--------------------+--------------------+\n|user|          click_cate|         click_brand|            click_RK|\n+----+--------------------+--------------------+--------------------+\n|   1|[7971, 7971, 7971...|[353787, 245773, ...|[2, 11, 33, 37, 4...|\n|   3|[4603, 6432, 6432...|[151043, 253841, ...|[2, 48, 50, 166, ...|\n|   4|[5467, 5467, 5467...|[172369, 172369, ...|[80, 83, 85, 95, ...|\n|   6|[6806, 6806, 6251...|[310648, 310648, ...|[2, 10, 18, 38, 5...|\n|   8|[1226, 6421, 856,...|[363857, 126738, ...|[8, 30, 48, 50, 6...|\n|  11|[6180, 4262, 4262...|[450785, 370203, ...|[32, 50, 51, 54, 92]|\n|  12|[531, 8979, 8979,...|[348644, 37621, 3...|[36, 134, 134, 13...|\n|  33|[6408, 11203, 112...|[45669, 57959, 57...|[19, 24, 41, 43, ...|\n|  35|[4262, 4262, 6428...|[370203, 370203, ...|[1, 35, 59, 311, ...|\n|  37|[4281, 6274, 6059...|[314496, 43945, 6...|[35, 77, 161, 166...|\n|  60|[6428, 6428, 6428...|[3130, 150395, 10...|[2, 9, 20, 22, 26...|\n|  61|[4520, 4283, 8113...|[76298, 76298, 41...|[10, 14, 62, 110,...|\n|  64|[4278, 9383, 9383...|[14983, 14983, 14...|[27, 30, 33, 56, ...|\n|  65|[4384, 8867, 8233...|[268509, 111917, ...|[8, 87, 114, 121,...|\n|  66|[4262, 10979, 109...|[370203, 115606, ...|[10, 140, 154, 21...|\n|  76|[4284, 109, 4280,...|[316111, 199354, ...|[4, 11, 35, 45, 6...|\n|  81|[5203, 347, 6408,...|[234746, 9793, 92...|[18, 29, 76, 106,...|\n|  83|[6152, 5950, 6943...|[108403, 45765, 1...|[1, 9, 15, 39, 45...|\n|  87|[9458, 6421, 6421...|[353787, 134330, ...|[6, 30, 34, 45, 6...|\n|  90|[4755, 4755, 4267...|[215435, 215435, ...|[13, 14, 15, 15, ...|\n+----+--------------------+--------------------+--------------------+\nonly showing top 20 rows\n\n"
    }
   ],
   "source": [
    "behavior_list_cart = behavior_list_cart.withColumnRenamed('collect_list(cate)', 'click_cate')\n",
    "behavior_list_cart = behavior_list_cart.withColumnRenamed('collect_list(brand)', 'click_brand')\n",
    "behavior_list_cart = behavior_list_cart.withColumnRenamed('collect_list(RK)', 'click_RK')\n",
    "behavior_list_cart.show()"
   ]
  },
  {
   "cell_type": "code",
   "execution_count": 117,
   "metadata": {},
   "outputs": [],
   "source": [
    "save_hive(behavior_list_cart, \"stg_gs.guide_dien_click_behavior_features\")"
   ]
  },
  {
   "cell_type": "markdown",
   "metadata": {},
   "source": [
    "#### 展现数据behavior list序列特征"
   ]
  },
  {
   "cell_type": "code",
   "execution_count": 121,
   "metadata": {
    "tags": []
   },
   "outputs": [
    {
     "output_type": "stream",
     "name": "stdout",
     "text": "select\n    *\nfrom \n   stg_gs.guide_dien_behavior_list\nwhere\n    btag in (\"pv\")\n+----+----------+----+----+------+---+\n|user|time_stamp|btag|cate| brand| RK|\n+----+----------+----+----+------+---+\n|  65|1492900231|  pv|6423|202844|  1|\n|  65|1493001655|  pv|1535|  1933|  2|\n|  65|1493001696|  pv|5144|221012|  3|\n|  65|1493001718|  pv|5144|221012|  4|\n|  65|1493001718|  pv|5144|221012|  4|\n|  65|1493163026|  pv|4384| 83700|  6|\n|  65|1493163115|  pv|4384|268509|  7|\n|  65|1493163157|  pv|4384|268509|  9|\n|  65|1493284569|  pv| 859|102030| 10|\n|  65|1493337810|  pv|4384|268509| 11|\n|  65|1493337870|  pv|4384|268509| 12|\n|  65|1493383822|  pv|8233|211132| 13|\n|  65|1493383863|  pv|8233|211132| 14|\n|  65|1493383881|  pv|8233|211132| 15|\n|  65|1493383893|  pv|8233|211132| 16|\n|  65|1493383931|  pv|8233|211132| 17|\n|  65|1493383933|  pv|8233|211132| 18|\n|  65|1493383935|  pv|8233|211132| 19|\n|  65|1493383969|  pv|8213|271534| 20|\n|  65|1493384102|  pv|8233|115717| 21|\n+----+----------+----+----+------+---+\nonly showing top 20 rows\n\n"
    }
   ],
   "source": [
    "sql = load_sql_file(file_path + \"../show_behavior_feature.sql\")\n",
    "print(sql)\n",
    "df = spark.sql(sql)\n",
    "df.show()"
   ]
  },
  {
   "cell_type": "code",
   "execution_count": 122,
   "metadata": {
    "tags": []
   },
   "outputs": [
    {
     "output_type": "stream",
     "name": "stdout",
     "text": "+----+--------------------+--------------------+--------------------+\n|user|  collect_list(cate)| collect_list(brand)|    collect_list(RK)|\n+----+--------------------+--------------------+--------------------+\n|  65|[6423, 1535, 5144...|[202844, 1933, 22...|[1, 2, 3, 4, 4, 6...|\n|  81|[4520, 4282, 3776...|[320394, 320394, ...|[1, 2, 3, 4, 5, 6...|\n| 126|[3018, 5944, 7214...|[211795, 193905, ...|[1, 2, 3, 4, 5, 6...|\n| 133|[4282, 5480, 6157...|[226577, 301781, ...|[1, 2, 3, 4, 5, 6...|\n| 148|[6152, 6152, 6152...|[424202, 252916, ...|[1, 2, 3, 4, 5, 6...|\n| 243|[2513, 2513, 2513...|[194103, 194103, ...|[2, 4, 5, 7, 8, 9...|\n| 300|[6617, 6617, 6617...|[12389, 12389, 12...|[1, 2, 3, 4, 5, 6...|\n| 406|[6423, 6142, 4520...|[323274, 392617, ...|[1, 2, 3, 4, 5, 6...|\n| 481|[6300, 978, 856, ...|[233067, 231986, ...|[1, 3, 4, 5, 6, 7...|\n| 496|[4520, 4520, 6433...|[21803, 21803, 12...|[1, 2, 3, 4, 5, 6...|\n| 540|[5329, 7146, 6177...|[236578, 430125, ...|[1, 2, 3, 4, 5, 6...|\n| 597|[6621, 6621, 4505...|[207025, 207025, ...|[1, 2, 3, 4, 8, 1...|\n| 633|[294, 10465, 1015...|[198212, 398731, ...|[1, 2, 3, 4, 5, 6...|\n| 744|[6428, 6339, 6428...|[417849, 417849, ...|[1, 2, 3, 5, 6, 7...|\n| 756|[4571, 263, 11629...|[290187, 36972, 4...|[1, 2, 3, 4, 5, 6...|\n| 772|[6261, 6261, 4520...|[102388, 5589, 14...|[1, 2, 3, 4, 5, 6...|\n| 804|[12251, 12251, 61...|[448734, 448734, ...|[2, 3, 4, 5, 6, 7...|\n| 833|[4520, 6261, 4281...|[331412, 355674, ...|[1, 2, 3, 4, 5, 6...|\n| 847|[5858, 6406, 5858...|[54712, 131246, 2...|[1, 2, 3, 4, 5, 6...|\n| 874|[4282, 4283, 4283...|[321464, 106604, ...|[1, 2, 3, 4, 5, 6...|\n+----+--------------------+--------------------+--------------------+\nonly showing top 20 rows\n\n"
    }
   ],
   "source": [
    "behavior_list_show = df.groupby('user').agg(f.collect_list('cate'), f.collect_list('brand'),f.collect_list('RK'))\n",
    "behavior_list_show.show()"
   ]
  },
  {
   "cell_type": "code",
   "execution_count": 123,
   "metadata": {
    "tags": []
   },
   "outputs": [
    {
     "output_type": "stream",
     "name": "stdout",
     "text": "+----+--------------------+--------------------+--------------------+\n|user|           show_cate|          show_brand|             show_RK|\n+----+--------------------+--------------------+--------------------+\n|  65|[6423, 1535, 5144...|[202844, 1933, 22...|[1, 2, 3, 4, 4, 6...|\n|  81|[4520, 4282, 3776...|[320394, 320394, ...|[1, 2, 3, 4, 5, 6...|\n| 126|[3018, 5944, 7214...|[211795, 193905, ...|[1, 2, 3, 4, 5, 6...|\n| 133|[4282, 5480, 6157...|[226577, 301781, ...|[1, 2, 3, 4, 5, 6...|\n| 148|[6152, 6152, 6152...|[424202, 252916, ...|[1, 2, 3, 4, 5, 6...|\n| 243|[2513, 2513, 2513...|[194103, 194103, ...|[2, 4, 5, 7, 8, 9...|\n| 300|[6617, 6617, 6617...|[12389, 12389, 12...|[1, 2, 3, 4, 5, 6...|\n| 406|[6423, 6142, 4520...|[323274, 392617, ...|[1, 2, 3, 4, 5, 6...|\n| 481|[6300, 978, 856, ...|[233067, 231986, ...|[1, 3, 4, 5, 6, 7...|\n| 496|[4520, 4520, 6433...|[21803, 21803, 12...|[1, 2, 3, 4, 5, 6...|\n| 540|[5329, 7146, 6177...|[236578, 430125, ...|[1, 2, 3, 4, 5, 6...|\n| 597|[6621, 6621, 4505...|[207025, 207025, ...|[1, 2, 3, 4, 8, 1...|\n| 633|[294, 10465, 1015...|[198212, 398731, ...|[1, 2, 3, 4, 5, 6...|\n| 744|[6428, 6339, 6428...|[417849, 417849, ...|[1, 2, 3, 5, 6, 7...|\n| 756|[4571, 263, 11629...|[290187, 36972, 4...|[1, 2, 3, 4, 5, 6...|\n| 772|[6261, 6261, 4520...|[102388, 5589, 14...|[1, 2, 3, 4, 5, 6...|\n| 804|[12251, 12251, 61...|[448734, 448734, ...|[2, 3, 4, 5, 6, 7...|\n| 833|[4520, 6261, 4281...|[331412, 355674, ...|[1, 2, 3, 4, 5, 6...|\n| 847|[5858, 6406, 5858...|[54712, 131246, 2...|[1, 2, 3, 4, 5, 6...|\n| 874|[4282, 4283, 4283...|[321464, 106604, ...|[1, 2, 3, 4, 5, 6...|\n+----+--------------------+--------------------+--------------------+\nonly showing top 20 rows\n\n"
    }
   ],
   "source": [
    "behavior_list_show = behavior_list_show.withColumnRenamed('collect_list(cate)', 'show_cate')\n",
    "behavior_list_show = behavior_list_show.withColumnRenamed('collect_list(brand)', 'show_brand')\n",
    "behavior_list_show = behavior_list_show.withColumnRenamed('collect_list(RK)', 'show_RK')\n",
    "behavior_list_show.show()"
   ]
  },
  {
   "cell_type": "code",
   "execution_count": 127,
   "metadata": {},
   "outputs": [],
   "source": [
    "save_hive(behavior_list_show, \"stg_gs.guide_dien_noclick_behavior_features\")"
   ]
  },
  {
   "cell_type": "markdown",
   "metadata": {},
   "source": [
    "# 生成最终训练数据"
   ]
  },
  {
   "cell_type": "code",
   "execution_count": 128,
   "metadata": {
    "tags": []
   },
   "outputs": [
    {
     "output_type": "stream",
     "name": "stdout",
     "text": "+----------+-------+----------+-----------+------+---+-------+---------+------------+-----------------+---------+------------+--------------+----------+---------------------+-------+-----------+--------+------+------+\n|adgroup_id|   user|time_stamp|        pid|nonclk|clk| userid|cms_segid|cms_group_id|final_gender_code|age_level|pvalue_level|shopping_level|occupation|new_user_class_level |cate_id|campaign_id|customer| brand| price|\n+----------+-------+----------+-----------+------+---+-------+---------+------------+-----------------+---------+------------+--------------+----------+---------------------+-------+-----------+--------+------+------+\n|         1| 581738|1494137644|430548_1007|     1|  0| 581738|        0|           8|                1|        2|        null|             3|         0|                 null|   9025|     108570|    1337| 20169|  17.0|\n|         3| 449818|1494638778|430548_1007|     1|  0|   null|     null|        null|             null|     null|        null|          null|      null|                 null|   5998|     224368|   30507|  NULL|   1.0|\n|         6| 340985|1494656850|430548_1007|     1|  0| 340985|       57|           8|                1|        2|           2|             3|         0|                    4|   7958|     398303|   39662|216840|  75.0|\n|        12| 132072|1494070770|430548_1007|     1|  0| 132072|        0|          11|                1|        5|        null|             2|         0|                 null|    978|     396797|   51330|  NULL|  32.0|\n|        65| 944826|1494419432|430548_1007|     1|  0| 944826|        0|           2|                2|        2|        null|             2|         0|                 null|   8450|     126138|    4337|355557|7000.0|\n|        76| 893779|1494643033|430539_1007|     1|  0| 893779|        0|           9|                1|        3|        null|             3|         0|                 null|   3372|     228749|   32045| 58175|1980.0|\n|        76| 826133|1494686707|430539_1007|     1|  0| 826133|        0|          10|                1|        4|        null|             1|         0|                 null|   3372|     228749|   32045| 58175|1980.0|\n|        76| 957050|1494599732|430539_1007|     1|  0|   null|     null|        null|             null|     null|        null|          null|      null|                 null|   3372|     228749|   32045| 58175|1980.0|\n|        81| 392643|1494391982|430548_1007|     1|  0| 392643|       61|           9|                1|        3|           2|             2|         0|                    3|   6887|     398858|   53487|  NULL| 580.0|\n|       122| 817987|1494682000|430548_1007|     1|  0| 817987|       51|           7|                1|        1|           1|             3|         0|                    1|   6283|     231288|     571|298670| 199.0|\n|       122| 751390|1494248642|430539_1007|     1|  0| 751390|       68|           9|                1|        3|           3|             3|         0|                    2|   6283|     231288|     571|298670| 199.0|\n|       122| 679860|1494257269|430539_1007|     1|  0| 679860|        0|           9|                1|        3|        null|             3|         0|                    2|   6283|     231288|     571|298670| 199.0|\n|       126| 374692|1494246100|430548_1007|     1|  0| 374692|       45|           5|                2|        5|           2|             3|         0|                    4|   8653|     391888|   46086|330900| 260.0|\n|       133| 347675|1494142989|430548_1007|     1|  0| 347675|       17|           3|                2|        3|           1|             3|         0|                    4|   4284|     285604|   35536| 77818|  88.0|\n|       140|1087061|1494212379|430539_1007|     1|  0|1087061|       67|           9|                1|        3|           2|             3|         0|                    3|   5760|     131942|   10098|175739| 198.0|\n|       140| 129677|1494249979|430539_1007|     1|  0| 129677|        0|           4|                2|        4|        null|             3|         0|                    3|   5760|     131942|   10098|175739| 198.0|\n|       142| 404432|1494454427|430539_1007|     1|  0| 404432|       19|           3|                2|        3|           2|             3|         0|                    2|   7209|     114502|    2248|  NULL| 370.0|\n|       148|  34352|1494584567|430539_1007|     1|  0|  34352|       30|           4|                2|        4|           1|             3|         0|                    2|  11005|     395681|   50113|390701|  26.0|\n|       148| 133877|1494400466|430539_1007|     1|  0| 133877|       65|           9|                1|        3|           1|             3|         0|                    3|  11005|     395681|   50113|390701|  26.0|\n|       148| 574551|1494306713|430548_1007|     1|  0| 574551|        0|           4|                2|        4|        null|             1|         0|                 null|  11005|     395681|   50113|390701|  26.0|\n+----------+-------+----------+-----------+------+---+-------+---------+------------+-----------------+---------+------------+--------------+----------+---------------------+-------+-----------+--------+------+------+\nonly showing top 20 rows\n\n"
    }
   ],
   "source": [
    "rst.show()"
   ]
  },
  {
   "cell_type": "code",
   "execution_count": 129,
   "metadata": {
    "tags": []
   },
   "outputs": [
    {
     "output_type": "stream",
     "name": "stdout",
     "text": "+----+--------------------+--------------------+--------------------+\n|user|           show_cate|          show_brand|             show_RK|\n+----+--------------------+--------------------+--------------------+\n|  65|[6423, 1535, 5144...|[202844, 1933, 22...|[1, 2, 3, 4, 4, 6...|\n|  81|[4520, 4282, 3776...|[320394, 320394, ...|[1, 2, 3, 4, 5, 6...|\n| 126|[3018, 5944, 7214...|[211795, 193905, ...|[1, 2, 3, 4, 5, 6...|\n| 133|[4282, 5480, 6157...|[226577, 301781, ...|[1, 2, 3, 4, 5, 6...|\n| 148|[6152, 6152, 6152...|[424202, 252916, ...|[1, 2, 3, 4, 5, 6...|\n| 243|[2513, 2513, 2513...|[194103, 194103, ...|[2, 4, 5, 7, 8, 9...|\n| 300|[6617, 6617, 6617...|[12389, 12389, 12...|[1, 2, 3, 4, 5, 6...|\n| 406|[6423, 6142, 4520...|[323274, 392617, ...|[1, 2, 3, 4, 5, 6...|\n| 481|[6300, 978, 856, ...|[233067, 231986, ...|[1, 3, 4, 5, 6, 7...|\n| 496|[4520, 4520, 6433...|[21803, 21803, 12...|[1, 2, 3, 4, 5, 6...|\n| 540|[5329, 7146, 6177...|[236578, 430125, ...|[1, 2, 3, 4, 5, 6...|\n| 597|[6621, 6621, 4505...|[207025, 207025, ...|[1, 2, 3, 4, 8, 1...|\n| 633|[294, 10465, 1015...|[198212, 398731, ...|[1, 2, 3, 4, 5, 6...|\n| 744|[6428, 6339, 6428...|[417849, 417849, ...|[1, 2, 3, 5, 6, 7...|\n| 756|[4571, 263, 11629...|[290187, 36972, 4...|[1, 2, 3, 4, 5, 6...|\n| 772|[6261, 6261, 4520...|[102388, 5589, 14...|[1, 2, 3, 4, 5, 6...|\n| 804|[12251, 12251, 61...|[448734, 448734, ...|[2, 3, 4, 5, 6, 7...|\n| 833|[4520, 6261, 4281...|[331412, 355674, ...|[1, 2, 3, 4, 5, 6...|\n| 847|[5858, 6406, 5858...|[54712, 131246, 2...|[1, 2, 3, 4, 5, 6...|\n| 874|[4282, 4283, 4283...|[321464, 106604, ...|[1, 2, 3, 4, 5, 6...|\n+----+--------------------+--------------------+--------------------+\nonly showing top 20 rows\n\n"
    }
   ],
   "source": [
    "behavior_list_show.show()"
   ]
  },
  {
   "cell_type": "code",
   "execution_count": 130,
   "metadata": {
    "tags": []
   },
   "outputs": [
    {
     "output_type": "stream",
     "name": "stdout",
     "text": "+----+--------------------+--------------------+--------------------+\n|user|          click_cate|         click_brand|            click_RK|\n+----+--------------------+--------------------+--------------------+\n|   1|[7971, 7971, 7971...|[353787, 245773, ...|[2, 11, 33, 37, 4...|\n|   3|[4603, 6432, 6432...|[151043, 253841, ...|[2, 48, 50, 166, ...|\n|   4|[5467, 5467, 5467...|[172369, 172369, ...|[80, 83, 85, 95, ...|\n|   6|[6806, 6806, 6251...|[310648, 310648, ...|[2, 10, 18, 38, 5...|\n|   8|[1226, 6421, 856,...|[363857, 126738, ...|[8, 30, 48, 50, 6...|\n|  11|[6180, 4262, 4262...|[450785, 370203, ...|[32, 50, 51, 54, 92]|\n|  12|[531, 8979, 8979,...|[348644, 37621, 3...|[36, 134, 134, 13...|\n|  33|[6408, 11203, 112...|[45669, 57959, 57...|[19, 24, 41, 43, ...|\n|  35|[4262, 4262, 6428...|[370203, 370203, ...|[1, 35, 59, 311, ...|\n|  37|[4281, 6274, 6059...|[314496, 43945, 6...|[35, 77, 161, 166...|\n|  60|[6428, 6428, 6428...|[3130, 150395, 10...|[2, 9, 20, 22, 26...|\n|  61|[4520, 4283, 8113...|[76298, 76298, 41...|[10, 14, 62, 110,...|\n|  64|[4278, 9383, 9383...|[14983, 14983, 14...|[27, 30, 33, 56, ...|\n|  65|[4384, 8867, 8233...|[268509, 111917, ...|[8, 87, 114, 121,...|\n|  66|[4262, 10979, 109...|[370203, 115606, ...|[10, 140, 154, 21...|\n|  76|[4284, 109, 4280,...|[316111, 199354, ...|[4, 11, 35, 45, 6...|\n|  81|[5203, 347, 6408,...|[234746, 9793, 92...|[18, 29, 76, 106,...|\n|  83|[6152, 5950, 6943...|[108403, 45765, 1...|[1, 9, 15, 39, 45...|\n|  87|[9458, 6421, 6421...|[353787, 134330, ...|[6, 30, 34, 45, 6...|\n|  90|[4755, 4755, 4267...|[215435, 215435, ...|[13, 14, 15, 15, ...|\n+----+--------------------+--------------------+--------------------+\nonly showing top 20 rows\n\n"
    }
   ],
   "source": [
    "behavior_list_cart.show()"
   ]
  },
  {
   "cell_type": "code",
   "execution_count": 132,
   "metadata": {},
   "outputs": [
    {
     "output_type": "execute_result",
     "data": {
      "text/plain": "[('user', 'int'),\n ('adgroup_id', 'int'),\n ('time_stamp', 'int'),\n ('pid', 'string'),\n ('nonclk', 'int'),\n ('clk', 'int'),\n ('userid', 'int'),\n ('cms_segid', 'int'),\n ('cms_group_id', 'int'),\n ('final_gender_code', 'int'),\n ('age_level', 'int'),\n ('pvalue_level', 'int'),\n ('shopping_level', 'int'),\n ('occupation', 'int'),\n ('new_user_class_level ', 'int'),\n ('cate_id', 'int'),\n ('campaign_id', 'int'),\n ('customer', 'int'),\n ('brand', 'string'),\n ('price', 'double'),\n ('show_cate', 'array<int>'),\n ('show_brand', 'array<int>'),\n ('show_RK', 'array<int>')]"
     },
     "metadata": {},
     "execution_count": 132
    }
   ],
   "source": [
    "train_data = rst.join(behavior_list_show, \"user\", how='left') \n",
    "train_data.dtypes"
   ]
  },
  {
   "cell_type": "code",
   "execution_count": 133,
   "metadata": {},
   "outputs": [
    {
     "output_type": "execute_result",
     "data": {
      "text/plain": "[('user', 'int'),\n ('adgroup_id', 'int'),\n ('time_stamp', 'int'),\n ('pid', 'string'),\n ('nonclk', 'int'),\n ('clk', 'int'),\n ('userid', 'int'),\n ('cms_segid', 'int'),\n ('cms_group_id', 'int'),\n ('final_gender_code', 'int'),\n ('age_level', 'int'),\n ('pvalue_level', 'int'),\n ('shopping_level', 'int'),\n ('occupation', 'int'),\n ('new_user_class_level ', 'int'),\n ('cate_id', 'int'),\n ('campaign_id', 'int'),\n ('customer', 'int'),\n ('brand', 'string'),\n ('price', 'double'),\n ('show_cate', 'array<int>'),\n ('show_brand', 'array<int>'),\n ('show_RK', 'array<int>'),\n ('click_cate', 'array<int>'),\n ('click_brand', 'array<int>'),\n ('click_RK', 'array<int>')]"
     },
     "metadata": {},
     "execution_count": 133
    }
   ],
   "source": [
    "train_data = train_data.join(behavior_list_cart, \"user\", how='left') \n",
    "train_data.dtypes"
   ]
  },
  {
   "cell_type": "code",
   "execution_count": 134,
   "metadata": {
    "tags": []
   },
   "outputs": [
    {
     "output_type": "stream",
     "name": "stdout",
     "text": "+----+----------+----------+-----------+------+---+------+---------+------------+-----------------+---------+------------+--------------+----------+---------------------+-------+-----------+--------+------+------+--------------------+--------------------+--------------------+--------------------+--------------------+--------------------+\n|user|adgroup_id|time_stamp|        pid|nonclk|clk|userid|cms_segid|cms_group_id|final_gender_code|age_level|pvalue_level|shopping_level|occupation|new_user_class_level |cate_id|campaign_id|customer| brand| price|           show_cate|          show_brand|             show_RK|          click_cate|         click_brand|            click_RK|\n+----+----------+----------+-----------+------+---+------+---------+------------+-----------------+---------+------------+--------------+----------+---------------------+-------+-----------+--------+------+------+--------------------+--------------------+--------------------+--------------------+--------------------+--------------------+\n| 148|     33926|1494261938|430539_1007|     1|  0|   148|        0|          11|                1|        5|        null|             3|         0|                    2|   7289|     394521|   48886|  NULL| 108.0|[6152, 6152, 6152...|[424202, 252916, ...|[1, 2, 3, 4, 5, 6...|[4806, 6667, 6676...|[143399, 76316, 1...|[10, 25, 27, 30, ...|\n| 148|    493476|1494261938|430539_1007|     1|  0|   148|        0|          11|                1|        5|        null|             3|         0|                    2|   6152|     203218|  113014|157916|1880.0|[6152, 6152, 6152...|[424202, 252916, ...|[1, 2, 3, 4, 5, 6...|[4806, 6667, 6676...|[143399, 76316, 1...|[10, 25, 27, 30, ...|\n| 496|    432271|1494415187|430539_1007|     1|  0|   496|        0|           4|                2|        4|        null|             3|         0|                    3|   1665|     204825|    9197|422876| 436.0|[4520, 4520, 6433...|[21803, 21803, 12...|[1, 2, 3, 4, 5, 6...|[10924, 11791, 43...|[183672, 357023, ...|[47, 57, 77, 85, ...|\n| 496|    626863|1494340361|430539_1007|     1|  0|   496|        0|           4|                2|        4|        null|             3|         0|                    3|   1665|     286329|  106063|287015| 768.0|[4520, 4520, 6433...|[21803, 21803, 12...|[1, 2, 3, 4, 5, 6...|[10924, 11791, 43...|[183672, 357023, ...|[47, 57, 77, 85, ...|\n| 496|    626863|1494311182|430539_1007|     1|  0|   496|        0|           4|                2|        4|        null|             3|         0|                    3|   1665|     286329|  106063|287015| 768.0|[4520, 4520, 6433...|[21803, 21803, 12...|[1, 2, 3, 4, 5, 6...|[10924, 11791, 43...|[183672, 357023, ...|[47, 57, 77, 85, ...|\n| 496|    627818|1494303274|430539_1007|     1|  0|   496|        0|           4|                2|        4|        null|             3|         0|                    3|   7825|     337882|   36810| 31053|  50.0|[4520, 4520, 6433...|[21803, 21803, 12...|[1, 2, 3, 4, 5, 6...|[10924, 11791, 43...|[183672, 357023, ...|[47, 57, 77, 85, ...|\n| 496|    633086|1494241455|430539_1007|     1|  0|   496|        0|           4|                2|        4|        null|             3|         0|                    3|   1665|     286329|  106063|287015| 849.0|[4520, 4520, 6433...|[21803, 21803, 12...|[1, 2, 3, 4, 5, 6...|[10924, 11791, 43...|[183672, 357023, ...|[47, 57, 77, 85, ...|\n| 496|    805852|1494415187|430539_1007|     1|  0|   496|        0|           4|                2|        4|        null|             3|         0|                    3|   1665|     346317|    1385|154597| 316.0|[4520, 4520, 6433...|[21803, 21803, 12...|[1, 2, 3, 4, 5, 6...|[10924, 11791, 43...|[183672, 357023, ...|[47, 57, 77, 85, ...|\n| 496|    338726|1494369741|430539_1007|     0|  1|   496|        0|           4|                2|        4|        null|             3|         0|                    3|   1665|     289227|  237570|247789| 115.0|[4520, 4520, 6433...|[21803, 21803, 12...|[1, 2, 3, 4, 5, 6...|[10924, 11791, 43...|[183672, 357023, ...|[47, 57, 77, 85, ...|\n| 496|    602601|1494303274|430539_1007|     1|  0|   496|        0|           4|                2|        4|        null|             3|         0|                    3|   1665|     136465|    1385|154597| 376.0|[4520, 4520, 6433...|[21803, 21803, 12...|[1, 2, 3, 4, 5, 6...|[10924, 11791, 43...|[183672, 357023, ...|[47, 57, 77, 85, ...|\n| 496|    698442|1494457459|430539_1007|     1|  0|   496|        0|           4|                2|        4|        null|             3|         0|                    3|   1665|     289671|  106063|  NULL| 865.0|[4520, 4520, 6433...|[21803, 21803, 12...|[1, 2, 3, 4, 5, 6...|[10924, 11791, 43...|[183672, 357023, ...|[47, 57, 77, 85, ...|\n| 496|    294901|1494001176|430539_1007|     1|  0|   496|        0|           4|                2|        4|        null|             3|         0|                    3|   4609|     323991|  153254|256032| 118.0|[4520, 4520, 6433...|[21803, 21803, 12...|[1, 2, 3, 4, 5, 6...|[10924, 11791, 43...|[183672, 357023, ...|[47, 57, 77, 85, ...|\n| 496|    581786|1494369741|430539_1007|     1|  0|   496|        0|           4|                2|        4|        null|             3|         0|                    3|   1665|      34966|  118805|234846| 336.0|[4520, 4520, 6433...|[21803, 21803, 12...|[1, 2, 3, 4, 5, 6...|[10924, 11791, 43...|[183672, 357023, ...|[47, 57, 77, 85, ...|\n| 496|    277409|1494461180|430539_1007|     1|  0|   496|        0|           4|                2|        4|        null|             3|         0|                    3|   6450|     163686|  186109|360583|  17.0|[4520, 4520, 6433...|[21803, 21803, 12...|[1, 2, 3, 4, 5, 6...|[10924, 11791, 43...|[183672, 357023, ...|[47, 57, 77, 85, ...|\n| 496|    606965|1494340361|430539_1007|     1|  0|   496|        0|           4|                2|        4|        null|             3|         0|                    3|   1665|     286329|  106063|287015| 849.0|[4520, 4520, 6433...|[21803, 21803, 12...|[1, 2, 3, 4, 5, 6...|[10924, 11791, 43...|[183672, 357023, ...|[47, 57, 77, 85, ...|\n| 496|    745342|1494311182|430539_1007|     1|  0|   496|        0|           4|                2|        4|        null|             3|         0|                    3|   1665|     411273|    2376|  NULL| 158.0|[4520, 4520, 6433...|[21803, 21803, 12...|[1, 2, 3, 4, 5, 6...|[10924, 11791, 43...|[183672, 357023, ...|[47, 57, 77, 85, ...|\n| 496|    745342|1494040505|430539_1007|     1|  0|   496|        0|           4|                2|        4|        null|             3|         0|                    3|   1665|     411273|    2376|  NULL| 158.0|[4520, 4520, 6433...|[21803, 21803, 12...|[1, 2, 3, 4, 5, 6...|[10924, 11791, 43...|[183672, 357023, ...|[47, 57, 77, 85, ...|\n| 496|    759279|1494101089|430539_1007|     1|  0|   496|        0|           4|                2|        4|        null|             3|         0|                    3|   1665|     136030|   14567|105308| 368.0|[4520, 4520, 6433...|[21803, 21803, 12...|[1, 2, 3, 4, 5, 6...|[10924, 11791, 43...|[183672, 357023, ...|[47, 57, 77, 85, ...|\n| 496|    759279|1494646389|430539_1007|     1|  0|   496|        0|           4|                2|        4|        null|             3|         0|                    3|   1665|     136030|   14567|105308| 368.0|[4520, 4520, 6433...|[21803, 21803, 12...|[1, 2, 3, 4, 5, 6...|[10924, 11791, 43...|[183672, 357023, ...|[47, 57, 77, 85, ...|\n| 496|    759279|1494369741|430539_1007|     1|  0|   496|        0|           4|                2|        4|        null|             3|         0|                    3|   1665|     136030|   14567|105308| 368.0|[4520, 4520, 6433...|[21803, 21803, 12...|[1, 2, 3, 4, 5, 6...|[10924, 11791, 43...|[183672, 357023, ...|[47, 57, 77, 85, ...|\n+----+----------+----------+-----------+------+---+------+---------+------------+-----------------+---------+------------+--------------+----------+---------------------+-------+-----------+--------+------+------+--------------------+--------------------+--------------------+--------------------+--------------------+--------------------+\nonly showing top 20 rows\n\n"
    }
   ],
   "source": [
    "train_data.show()"
   ]
  },
  {
   "cell_type": "code",
   "execution_count": 135,
   "metadata": {},
   "outputs": [],
   "source": [
    "save_hive(train_data, \"stg_gs.guide_dien_final_train_data\")"
   ]
  },
  {
   "cell_type": "code",
   "execution_count": null,
   "metadata": {},
   "outputs": [],
   "source": []
  }
 ],
 "metadata": {
  "kernelspec": {
   "display_name": "Python 3.7.6 64-bit ('tensorflow_gpuenv': conda)",
   "language": "python",
   "name": "python37664bittensorflowgpuenvconda5d44b392e164457f964ae5cdabe5cb3a"
  },
  "language_info": {
   "codemirror_mode": {
    "name": "ipython",
    "version": 3
   },
   "file_extension": ".py",
   "mimetype": "text/x-python",
   "name": "python",
   "nbconvert_exporter": "python",
   "pygments_lexer": "ipython3",
   "version": "3.7.6-final"
  }
 },
 "nbformat": 4,
 "nbformat_minor": 2
}