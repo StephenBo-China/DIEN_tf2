{
 "cells": [
  {
   "cell_type": "code",
   "execution_count": 29,
   "metadata": {},
   "outputs": [],
   "source": [
    "import tensorflow as tf\n",
    "from tensorflow import keras\n",
    "import numpy\n",
    "from tensorflow.keras import layers\n",
    "#from pyspark.sql import SQLContext\n",
    "#from pyspark import SparkCoeeeetext\n",
    "from pyspark.sql import SparkSession\n",
    "import pyspark.sql.functions as f\n",
    "import pandas as pd\n",
    "import numpy as np\n",
    "import time"
   ]
  },
  {
   "cell_type": "code",
   "execution_count": 30,
   "metadata": {
    "tags": []
   },
   "outputs": [
    {
     "output_type": "stream",
     "name": "stdout",
     "text": "2.0.0\nGPU Available:  True\n"
    }
   ],
   "source": [
    "print(tf.__version__)\n",
    "print(\"GPU Available: \", tf.test.is_gpu_available())\n"
   ]
  },
  {
   "cell_type": "code",
   "execution_count": 31,
   "metadata": {},
   "outputs": [
    {
     "output_type": "execute_result",
     "data": {
      "text/plain": "<tf.Tensor: id=5, shape=(3, 3), dtype=float32, numpy=\narray([[0.1, 0.4, 2.1],\n       [0.2, 0.6, 2.8],\n       [0.3, 1. , 2.8]], dtype=float32)>"
     },
     "metadata": {},
     "execution_count": 31
    }
   ],
   "source": [
    "a = tf.convert_to_tensor([0.1, 0.2, 0.7])\n",
    "b = tf.convert_to_tensor([[1.,2.,3.], [2.,3.,4.], [3., 5., 4.]])\n",
    "a * b"
   ]
  },
  {
   "cell_type": "code",
   "execution_count": null,
   "metadata": {},
   "outputs": [],
   "source": []
  },
  {
   "cell_type": "markdown",
   "metadata": {},
   "source": [
    "# 1. Model\n",
    "## (1) AUGRU:\n",
    "\n",
    "$$\n",
    "u_t = \\sigma (W^{\\mu}i_{t} + U^{\\mu}h_{t-1}+b^{\\mu})\n",
    "$$\n",
    "\n",
    "\n",
    "$$\n",
    "\\tilde{u_{t}'} = a_{t} \\ast u_{t}'\n",
    "$$\n",
    "\n",
    "$$\n",
    "r_{t} = \\sigma (W^{r}i_{t} + U^{r}h_{t-1}+b^{r})\n",
    "$$\n",
    "\n",
    "\n",
    "$$\n",
    "\\tilde{h_t} = tanh(W^{h}i_{t} + r_{t} \\circ U^{h}h_{t-1}+b^{h})\n",
    "$$\n",
    "\n",
    "\n",
    "$$\n",
    "h_{t}' = (1-\\tilde{u_{t}'}) \\circ h_{t-1}' + \\tilde{u_{t}'} \\circ \\tilde{h_t'}\n",
    "$$"
   ]
  },
  {
   "cell_type": "code",
   "execution_count": 32,
   "metadata": {},
   "outputs": [],
   "source": [
    "class GRU_GATES(tf.keras.layers.Layer):\n",
    "    def __init__(self, units):\n",
    "        super(GRU_GATES, self).__init__()\n",
    "        self.linear_act = layers.Dense(units, activation=None, use_bias=True)\n",
    "        self.linear_noact = layers.Dense(units, activation=None, use_bias=False)\n",
    "\n",
    "    def call(self, a, b, gate_b=None):\n",
    "        if gate_b is None:\n",
    "            return tf.keras.activations.sigmoid(self.linear_act(a) + self.linear_noact(b))\n",
    "        else:\n",
    "            return tf.keras.activations.tanh(self.linear_act(a) + tf.math.multiply(gate_b, self.linear_noact(b)))"
   ]
  },
  {
   "cell_type": "code",
   "execution_count": 33,
   "metadata": {},
   "outputs": [],
   "source": [
    "class AUGRU(layers.Layer):\n",
    "    def __init__(self, units):\n",
    "        super(AUGRU, self).__init__()\n",
    "        self.u_gate = GRU_GATES(units)\n",
    "        self.r_gate = GRU_GATES(units)\n",
    "        self.c_memo = GRU_GATES(units)\n",
    "\n",
    "    def call(self, inputs, state, att_score):\n",
    "        u = self.u_gate(inputs, state) #u_t\n",
    "        r = self.r_gate(inputs, state) #r_t\n",
    "        c = self.c_memo(inputs, state, r) #\\tilde{h_t}\n",
    "        u_= att_score * u #\\tilde{u_{t}'} [AUGRU Add]\n",
    "        state_next = (1 - u_) * state + u_ * c #h_t [AUGRU change u_t on output]\n",
    "        return state_next"
   ]
  },
  {
   "cell_type": "markdown",
   "metadata": {},
   "source": [
    "## (2) GRU Self_Defination"
   ]
  },
  {
   "cell_type": "code",
   "execution_count": 34,
   "metadata": {},
   "outputs": [],
   "source": [
    "class GRU(layers.Layer):\n",
    "    def __init__(self, units):\n",
    "        super(GRU, self).__init__()\n",
    "        self.u_gate = GRU_GATES(units)\n",
    "        self.r_gate = GRU_GATES(units)\n",
    "        self.c_memo = GRU_GATES(units)\n",
    "    \n",
    "    def call(self, inputs, state):\n",
    "        u = self.u_gate(inputs, state)\n",
    "        r = self.r_gate(inputs, state)\n",
    "        c = self.c_memo(inputs, state, r)\n",
    "        state_next = (1 - u) * state + u * c\n",
    "        return state_next "
   ]
  },
  {
   "cell_type": "markdown",
   "metadata": {},
   "source": [
    "## (3) Dice Activation Function"
   ]
  },
  {
   "cell_type": "code",
   "execution_count": 35,
   "metadata": {},
   "outputs": [],
   "source": [
    "class Dice(tf.keras.layers.Layer):\n",
    "    def __init__(self):\n",
    "        super(Dice, self).__init__()\n",
    "        self.bn = tf.keras.layers.BatchNormalization(center=False, scale=False)\n",
    "        self.alpha = self.add_weight(shape=(), dtype=tf.float32, name='alpha')\n",
    "\n",
    "    def call(self, x):\n",
    "        x_normed = self.bn(x)\n",
    "        x_p = tf.sigmoid(x_normed)\n",
    "        return self.alpha * (1.0 - x_p) * x + x_p * x"
   ]
  },
  {
   "cell_type": "markdown",
   "metadata": {},
   "source": []
  },
  {
   "cell_type": "markdown",
   "metadata": {},
   "source": [
    "## (4) Attention Layer"
   ]
  },
  {
   "cell_type": "code",
   "execution_count": 36,
   "metadata": {},
   "outputs": [],
   "source": [
    "class AttentionLayer(layers.Layer):\n",
    "    def __init__(self, attention_size, drop_rate):\n",
    "        super().__init__()\n",
    "        self.attention_size = attention_size\n",
    "        self.dropout = Dropout(drop_rate, name = \"rnn_attention_dropout\")\n",
    "\n",
    "    def build(self, input_shape):\n",
    "        self.attention_w = self.add_weight(name = \"atten_w\", shape = (input_shape[-1], self.attention_size), initializer = tf.random_uniform_initializer(), dtype = \"float32\", trainable = True)\n",
    "        self.attention_u = self.add_weight(name = \"atten_u\", shape = (self.attention_size,), initializer = tf.random_uniform_initializer(), dtype = \"float32\", trainable = True)\n",
    "        self.attention_b = self.add_weight(name = \"atten_b\", shape = (self.attention_size,), initializer = tf.constant_initializer(0.1), dtype = \"float32\", trainable = True)    \n",
    "        super().build(input_shape)\n",
    "\n",
    "    def call(self, inputs, training):\n",
    "        x = tf.tanh(tf.add(tf.tensordot(inputs, self.attention_w, axes = 1), self.attention_b))\n",
    "        x = tf.tensordot(x, self.attention_u, axes = 1)\n",
    "        x = tf.nn.softmax(x)\n",
    "        weight_out = tf.multiply(tf.expand_dims(x, -1), inputs)\n",
    "        final_out = tf.reduce_sum(weight_out, axis = 1) \n",
    "        drop_out = self.dropout(final_out, training = training)\n",
    "        return drop_out\n"
   ]
  },
  {
   "cell_type": "markdown",
   "metadata": {},
   "source": [
    "## (5) DIEN"
   ]
  },
  {
   "cell_type": "code",
   "execution_count": 37,
   "metadata": {
    "tags": []
   },
   "outputs": [],
   "source": [
    "class DIEN(tf.keras.Model):\n",
    "    def __init__(self, cate_dim, cate_count, brand_dim, brand_count, cms_segid_dim, cms_segid_count, cms_group_dim, cms_group_count, gender_dim, gender_count, age_dim, age_count, pvalue_dim, pvalue_count, shopping_dim, shopping_count, occupation_dim, occupation_count, user_class_level_count, user_class_level_dim, bias_length, activation=\"Dice\"):\n",
    "        \"\"\"\n",
    "        Layers Init\n",
    "        \"\"\"\n",
    "        super(DIEN, self).__init__()\n",
    "        ####Init Embedding Layer Variables\n",
    "        #cate_id, brand_id\n",
    "        self.cate_dim = cate_dim #cate_id embedding output length\n",
    "        self.brand_dim = brand_dim #user_id embedding output lengthlength)\n",
    "        #user_profile embedding features\n",
    "        self.cms_segid_dim = cms_segid_dim\n",
    "        self.cms_group_dim = cms_group_dim\n",
    "        self.gender_dim = gender_dim\n",
    "        self.age_dim = age_dim\n",
    "        self.pvalue_dim = pvalue_dim\n",
    "        self.shopping_dim = shopping_dim\n",
    "        self.occupation_dim = occupation_dim\n",
    "        self.user_class_level_dim = user_class_level_dim\n",
    "        \n",
    "        ####Init Embedding layers\n",
    "        #(input dim:词长, output dim:输出节点数)\n",
    "        self.cate_emb = layers.Embedding(cate_count, cate_dim)\n",
    "        self.brand_emb = layers.Embedding(brand_count, brand_dim)\n",
    "        self.cms_segid_emb = layers.Embedding(cms_segid_count, cms_segid_dim)\n",
    "        self.cms_group_emb = layers.Embedding(cms_group_count, cms_group_dim)\n",
    "        self.gender_emb = layers.Embedding(gender_count, gender_dim)\n",
    "        self.age_emb = layers.Embedding(age_count, age_dim)\n",
    "        self.pvalue_emb = layers.Embedding(pvalue_count, pvalue_dim)\n",
    "        self.shopping_emb = layers.Embedding(shopping_count, shopping_dim)\n",
    "        self.occupation_emb = layers.Embedding(occupation_count, occupation_dim)\n",
    "        self.user_class_level_emb = layers.Embedding(user_class_level_count, user_class_level_dim)\n",
    "\n",
    "        ####Init GRU and AUGRU\n",
    "        self.hist_gru = layers.GRU(brand_dim + cate_dim, return_sequences=True)\n",
    "        self.hist_augru = AUGRU(brand_dim + cate_dim)\n",
    "\n",
    "        ####Init Attention Layer\n",
    "        #self.attention = AttentionLayer(10, 0.1)\n",
    "        #self.attention = layers.Attention()([self.hist_gru, self.hist_gru])\n",
    "        \n",
    "        ####build fully connection layer\n",
    "        self.item_bias= tf.Variable(tf.zeros([bias_length]), trainable=True)\n",
    "        self.fc = tf.keras.Sequential()\n",
    "        self.fc.add(layers.BatchNormalization())\n",
    "        self.fc.add(layers.Dense(200, activation=\"sigmoid\"))\n",
    "        if activation == \"Dice\":\n",
    "            self.fc.add(Dice())\n",
    "        elif activation == \"PReLU\":\n",
    "            self.fc.add(layers.PReLU(alpha_initializer='zeros', weights=None))\n",
    "        self.fc.add(layers.Dense(80, activation=\"sigmoid\"))\n",
    "        if activation == \"Dice\":\n",
    "            self.fc.add(Dice()) \n",
    "        elif activation == \"PReLU\":\n",
    "            self.fc.add(layers.PReLU(alpha_initializer='zeros', weights=None))\n",
    "        self.fc.add(layers.Dense(2, activation=None))\n",
    "\n",
    "    def get_emb(self, cate, brand, cate_hist_list, brand_hist_list, cms_segid, cms_group, gender, age, pvalue, shopping, occupation, user_class_level):\n",
    "        \"\"\"\n",
    "        Define Embedding Layer\n",
    "        \"\"\"\n",
    "        cate_emb = self.cate_emb(cate)\n",
    "        brand_emb = self.brand_emb(brand)\n",
    "        target_item_emb = tf.concat([cate_emb, brand_emb], -1)\n",
    "        cate_hist_list_emb = self.cate_emb(cate_hist_list)\n",
    "        brand_hist_list_emb = self.brand_emb(brand_hist_list)\n",
    "        history_list_emb = tf.concat([cate_hist_list_emb, brand_hist_list_emb], -1)\n",
    "        cms_segid_emb = self.cms_segid_emb(cms_segid)\n",
    "        cms_group_emb = self.cms_group_emb(cms_group)\n",
    "        gender_emb = self.gender_emb(gender)\n",
    "        age_emb = self.age_emb(age)\n",
    "        pvalue_emb = self.pvalue_emb(pvalue)\n",
    "        shopping_emb = self.shopping_emb(shopping)\n",
    "        occupation_emb = self.occupation_emb(occupation)\n",
    "        user_class_level_emb = self.user_class_level_emb(user_class_level)\n",
    "        item_bias= tf.gather(self.item_bias, cate)\n",
    "        return target_item_emb, history_list_emb, cms_segid_emb, cms_group_emb, gender_emb, age_emb, pvalue_emb, shopping_emb, occupation_emb, user_class_level_emb, item_bias\n",
    "\n",
    "    def auxiliary_loss(self, hidden_states, embedding_out):\n",
    "        \"\"\"\n",
    "        Auxiliary Loss Function\n",
    "        \"\"\"\n",
    "        x = tf.concat([hidden_states, embedding_out], -1)  \n",
    "        return tf.reduce_mean(tf.math.log(tf.math.sigmoid(x)) + tf.math.log(1.0 - tf.math.sigmoid(x)))\n",
    "\n",
    "    def call(self, cate, brand, cate_hist_list, brand_hist_list, cms_segid, cms_group, gender, age, pvalue, shopping, occupation, user_class_level):\n",
    "        \"\"\"\n",
    "        Init DIEN Structure\n",
    "        \"\"\"\n",
    "        ##########Embedding Layer########################\n",
    "        ## hist_join_emb: user behavior sequence  embedding in paper\n",
    "        ## user_emb: user profile embedding in paper\n",
    "        ## item_join_emb: target_item embedding in paper\n",
    "        #################################################\n",
    "        target_item_emb, history_list_emb, cms_segid_emb, cms_group_emb, gender_emb, age_emb, pvalue_emb, shopping_emb, occupation_emb, user_class_level_emb, item_bias = self.get_emb(cate, brand, cate_hist_list, brand_hist_list, cms_segid, cms_group, gender, age, pvalue, shopping, occupation, user_class_level)\n",
    "\n",
    "        ##########GRU Layer#########################\n",
    "        ## GRU\n",
    "        hist_gru_emb = self.hist_gru(history_list_emb)\n",
    "        ## Auxiliary Loss\n",
    "        aux_loss = self.auxiliary_loss(hist_gru_emb[:, :-1, :], history_list_emb[:, 1:, :])\n",
    "\n",
    "        #######Attention Layer#################\n",
    "        ## hist_mask = tf.sequence_mask(length, max(length), dtype = tf.bool)\n",
    "        ## hist_mask = tf.tile(tf.expand_dims(hist_mask, -1), (1, 1, self.item_dim + self.cate_dim))\n",
    "        #expand_target_item = tf.tile(tf.expand_dims(target_item_emb, axis=1), multiples=[1,hist_gru_emb.numpy().shape[1],1])\n",
    "        #hist_att_input = tf.concat([hist_gru_emb, expand_target_item], axis=-1)\n",
    "        hist_attn = layers.Attention()([hist_gru_emb, target_item_emb])\n",
    "\n",
    "        #######AUGRU Layer#####################\n",
    "        augru_hidden_state = tf.zeros_like(hist_gru_emb[:, 0, :])\n",
    "        for in_emb, in_att in zip(tf.transpose(hist_gru_emb, [1, 0, 2]), tf.transpose(hist_attn, [1, 0, 2])):\n",
    "            augru_hidden_state = self.hist_augru(in_emb, augru_hidden_state, in_att)\n",
    "        \n",
    "        ######Fully Connection Layer###########\n",
    "        join_emb = tf.concat([cms_segid_emb, cms_group_emb, gender_emb,  age_emb, pvalue_emb, shopping_emb, occupation_emb, user_class_level_emb, augru_hidden_state], -1) \n",
    "        #concat& flatten\n",
    "        #output = tf.squeeze(self.fc(join_emb)) + self.item_bias\n",
    "        output = self.fc(join_emb)\n",
    "        #print(\"output:\" + str(output))\n",
    "        \n",
    "        ######Softmax Get Finaly Result########\n",
    "        logit = tf.keras.activations.softmax(output)\n",
    "        return aux_loss, output, logit"
   ]
  },
  {
   "cell_type": "markdown",
   "metadata": {},
   "source": [
    "# 3. Model Train\n",
    "## (1) Data Process"
   ]
  },
  {
   "cell_type": "code",
   "execution_count": 38,
   "metadata": {
    "tags": []
   },
   "outputs": [],
   "source": [
    "file_path = \"/nfs/project/boweihan_2/DIEN/dien_tf2/\"\n",
    "def load_sql_file(sql_file):\n",
    "    with open(sql_file, 'r') as isf:\n",
    "        sql_txt = isf.readlines()\n",
    "        return \"\".join(sql_txt)"
   ]
  },
  {
   "cell_type": "code",
   "execution_count": 39,
   "metadata": {},
   "outputs": [],
   "source": [
    "def get_data(file_name):\n",
    "    sql = load_sql_file(file_path + file_name)\n",
    "    print(sql)\n",
    "    rst = spark.sql(sql)\n",
    "    return rst"
   ]
  },
  {
   "cell_type": "code",
   "execution_count": 40,
   "metadata": {
    "tags": []
   },
   "outputs": [
    {
     "output_type": "stream",
     "name": "stdout",
     "text": "select\n    *\nfrom\n    stg_gs.guide_dien_final_train_data\n[('user', 'int'), ('adgroup_id', 'int'), ('time_stamp', 'int'), ('pid', 'string'), ('nonclk', 'int'), ('clk', 'int'), ('userid', 'int'), ('cms_segid', 'int'), ('cms_group_id', 'int'), ('final_gender_code', 'int'), ('age_level', 'int'), ('pvalue_level', 'int'), ('shopping_level', 'int'), ('occupation', 'int'), ('new_user_class_level', 'int'), ('cate_id', 'int'), ('campaign_id', 'int'), ('customer', 'int'), ('brand', 'string'), ('price', 'double'), ('show_cate', 'array<int>'), ('show_brand', 'array<int>'), ('show_rk', 'array<int>'), ('click_cate', 'array<int>'), ('click_brand', 'array<int>'), ('click_rk', 'array<int>')]\n+----+----------+----------+-----------+------+---+------+---------+------------+-----------------+---------+------------+--------------+----------+--------------------+-------+-----------+--------+------+------+--------------------+--------------------+--------------------+--------------------+--------------------+--------------------+\n|user|adgroup_id|time_stamp|        pid|nonclk|clk|userid|cms_segid|cms_group_id|final_gender_code|age_level|pvalue_level|shopping_level|occupation|new_user_class_level|cate_id|campaign_id|customer| brand| price|           show_cate|          show_brand|             show_rk|          click_cate|         click_brand|            click_rk|\n+----+----------+----------+-----------+------+---+------+---------+------------+-----------------+---------+------------+--------------+----------+--------------------+-------+-----------+--------+------+------+--------------------+--------------------+--------------------+--------------------+--------------------+--------------------+\n| 148|     33926|1494261938|430539_1007|     1|  0|   148|        0|          11|                1|        5|        null|             3|         0|                   2|   7289|     394521|   48886|  NULL| 108.0|[6152, 6152, 6152...|[424202, 252916, ...|[1, 2, 3, 4, 5, 6...|[4806, 6667, 6676...|[143399, 76316, 1...|[10, 25, 27, 30, ...|\n| 148|    493476|1494261938|430539_1007|     1|  0|   148|        0|          11|                1|        5|        null|             3|         0|                   2|   6152|     203218|  113014|157916|1880.0|[6152, 6152, 6152...|[424202, 252916, ...|[1, 2, 3, 4, 5, 6...|[4806, 6667, 6676...|[143399, 76316, 1...|[10, 25, 27, 30, ...|\n| 496|     87761|1494101089|430539_1007|     1|  0|   496|        0|           4|                2|        4|        null|             3|         0|                   3|   4610|      76562|    5785|252680| 139.0|[4520, 4520, 6433...|[21803, 21803, 12...|[1, 2, 3, 4, 5, 6...|[10924, 11791, 43...|[183672, 357023, ...|[47, 57, 77, 85, ...|\n| 496|    541499|1494101089|430539_1007|     1|  0|   496|        0|           4|                2|        4|        null|             3|         0|                   3|   4384|     360237|  105529| 83700| 439.0|[4520, 4520, 6433...|[21803, 21803, 12...|[1, 2, 3, 4, 5, 6...|[10924, 11791, 43...|[183672, 357023, ...|[47, 57, 77, 85, ...|\n| 496|    725992|1494241455|430539_1007|     1|  0|   496|        0|           4|                2|        4|        null|             3|         0|                   3|   1665|     136465|    1385|154597| 376.0|[4520, 4520, 6433...|[21803, 21803, 12...|[1, 2, 3, 4, 5, 6...|[10924, 11791, 43...|[183672, 357023, ...|[47, 57, 77, 85, ...|\n| 496|    633086|1494241455|430539_1007|     1|  0|   496|        0|           4|                2|        4|        null|             3|         0|                   3|   1665|     286329|  106063|287015| 849.0|[4520, 4520, 6433...|[21803, 21803, 12...|[1, 2, 3, 4, 5, 6...|[10924, 11791, 43...|[183672, 357023, ...|[47, 57, 77, 85, ...|\n| 496|    805852|1494415187|430539_1007|     1|  0|   496|        0|           4|                2|        4|        null|             3|         0|                   3|   1665|     346317|    1385|154597| 316.0|[4520, 4520, 6433...|[21803, 21803, 12...|[1, 2, 3, 4, 5, 6...|[10924, 11791, 43...|[183672, 357023, ...|[47, 57, 77, 85, ...|\n| 496|    610984|1494040505|430539_1007|     1|  0|   496|        0|           4|                2|        4|        null|             3|         0|                   3|   1665|     136030|   14567|105308| 258.0|[4520, 4520, 6433...|[21803, 21803, 12...|[1, 2, 3, 4, 5, 6...|[10924, 11791, 43...|[183672, 357023, ...|[47, 57, 77, 85, ...|\n| 496|    635087|1494303274|430539_1007|     1|  0|   496|        0|           4|                2|        4|        null|             3|         0|                   3|   1665|       5824|   15673|  NULL| 269.0|[4520, 4520, 6433...|[21803, 21803, 12...|[1, 2, 3, 4, 5, 6...|[10924, 11791, 43...|[183672, 357023, ...|[47, 57, 77, 85, ...|\n| 496|    660914|1494340361|430539_1007|     1|  0|   496|        0|           4|                2|        4|        null|             3|         0|                   3|   1665|     136465|    1385|154597| 396.0|[4520, 4520, 6433...|[21803, 21803, 12...|[1, 2, 3, 4, 5, 6...|[10924, 11791, 43...|[183672, 357023, ...|[47, 57, 77, 85, ...|\n| 496|    713881|1494393235|430539_1007|     1|  0|   496|        0|           4|                2|        4|        null|             3|         0|                   3|   1665|     301752|  211884|234846| 672.0|[4520, 4520, 6433...|[21803, 21803, 12...|[1, 2, 3, 4, 5, 6...|[10924, 11791, 43...|[183672, 357023, ...|[47, 57, 77, 85, ...|\n| 496|    740752|1494680742|430539_1007|     1|  0|   496|        0|           4|                2|        4|        null|             3|         0|                   3|   1665|     184812|  170396|  NULL| 336.0|[4520, 4520, 6433...|[21803, 21803, 12...|[1, 2, 3, 4, 5, 6...|[10924, 11791, 43...|[183672, 357023, ...|[47, 57, 77, 85, ...|\n| 496|    338726|1494369741|430539_1007|     0|  1|   496|        0|           4|                2|        4|        null|             3|         0|                   3|   1665|     289227|  237570|247789| 115.0|[4520, 4520, 6433...|[21803, 21803, 12...|[1, 2, 3, 4, 5, 6...|[10924, 11791, 43...|[183672, 357023, ...|[47, 57, 77, 85, ...|\n| 496|    602601|1494303274|430539_1007|     1|  0|   496|        0|           4|                2|        4|        null|             3|         0|                   3|   1665|     136465|    1385|154597| 376.0|[4520, 4520, 6433...|[21803, 21803, 12...|[1, 2, 3, 4, 5, 6...|[10924, 11791, 43...|[183672, 357023, ...|[47, 57, 77, 85, ...|\n| 496|    698442|1494457459|430539_1007|     1|  0|   496|        0|           4|                2|        4|        null|             3|         0|                   3|   1665|     289671|  106063|  NULL| 865.0|[4520, 4520, 6433...|[21803, 21803, 12...|[1, 2, 3, 4, 5, 6...|[10924, 11791, 43...|[183672, 357023, ...|[47, 57, 77, 85, ...|\n| 496|     46976|1494079209|430539_1007|     1|  0|   496|        0|           4|                2|        4|        null|             3|         0|                   3|   8856|      53752|   87829| 30844| 198.0|[4520, 4520, 6433...|[21803, 21803, 12...|[1, 2, 3, 4, 5, 6...|[10924, 11791, 43...|[183672, 357023, ...|[47, 57, 77, 85, ...|\n| 496|    539410|1494393235|430539_1007|     1|  0|   496|        0|           4|                2|        4|        null|             3|         0|                   3|   1665|     136030|   14567|105308| 338.0|[4520, 4520, 6433...|[21803, 21803, 12...|[1, 2, 3, 4, 5, 6...|[10924, 11791, 43...|[183672, 357023, ...|[47, 57, 77, 85, ...|\n| 496|    539410|1494001176|430539_1007|     1|  0|   496|        0|           4|                2|        4|        null|             3|         0|                   3|   1665|     136030|   14567|105308| 338.0|[4520, 4520, 6433...|[21803, 21803, 12...|[1, 2, 3, 4, 5, 6...|[10924, 11791, 43...|[183672, 357023, ...|[47, 57, 77, 85, ...|\n| 496|    432271|1494415187|430539_1007|     1|  0|   496|        0|           4|                2|        4|        null|             3|         0|                   3|   1665|     204825|    9197|422876| 436.0|[4520, 4520, 6433...|[21803, 21803, 12...|[1, 2, 3, 4, 5, 6...|[10924, 11791, 43...|[183672, 357023, ...|[47, 57, 77, 85, ...|\n| 496|    626863|1494340361|430539_1007|     1|  0|   496|        0|           4|                2|        4|        null|             3|         0|                   3|   1665|     286329|  106063|287015| 768.0|[4520, 4520, 6433...|[21803, 21803, 12...|[1, 2, 3, 4, 5, 6...|[10924, 11791, 43...|[183672, 357023, ...|[47, 57, 77, 85, ...|\n+----+----------+----------+-----------+------+---+------+---------+------------+-----------------+---------+------------+--------------+----------+--------------------+-------+-----------+--------+------+------+--------------------+--------------------+--------------------+--------------------+--------------------+--------------------+\nonly showing top 20 rows\n\n"
    }
   ],
   "source": [
    "train_data = get_data(\"get_train_data.sql\")\n",
    "print(train_data.dtypes)\n",
    "train_data.show()"
   ]
  },
  {
   "cell_type": "code",
   "execution_count": 41,
   "metadata": {
    "tags": []
   },
   "outputs": [
    {
     "output_type": "stream",
     "name": "stdout",
     "text": "select\n    *\nfrom\n    stg_gs.guide_dien_behavior_list\n[('user', 'int'), ('time_stamp', 'int'), ('btag', 'string'), ('cate', 'int'), ('brand', 'int'), ('RK', 'int')]\n+----+----------+----+----+------+---+\n|user|time_stamp|btag|cate| brand| RK|\n+----+----------+----+----+------+---+\n|  65|1492900231|  pv|6423|202844|  1|\n|  65|1493001655|  pv|1535|  1933|  2|\n|  65|1493001696|  pv|5144|221012|  3|\n|  65|1493001718|  pv|5144|221012|  4|\n|  65|1493001718|  pv|5144|221012|  4|\n|  65|1493163026|  pv|4384| 83700|  6|\n|  65|1493163115|  pv|4384|268509|  7|\n|  65|1493163153|cart|4384|268509|  8|\n|  65|1493163157|  pv|4384|268509|  9|\n|  65|1493284569|  pv| 859|102030| 10|\n|  65|1493337810|  pv|4384|268509| 11|\n|  65|1493337870|  pv|4384|268509| 12|\n|  65|1493383822|  pv|8233|211132| 13|\n|  65|1493383863|  pv|8233|211132| 14|\n|  65|1493383881|  pv|8233|211132| 15|\n|  65|1493383893|  pv|8233|211132| 16|\n|  65|1493383931|  pv|8233|211132| 17|\n|  65|1493383933|  pv|8233|211132| 18|\n|  65|1493383935|  pv|8233|211132| 19|\n|  65|1493383969|  pv|8213|271534| 20|\n+----+----------+----+----+------+---+\nonly showing top 20 rows\n\n"
    }
   ],
   "source": [
    "behavior_data = get_data(\"get_behavior_data.sql\")\n",
    "print(behavior_data.dtypes)\n",
    "behavior_data.show()"
   ]
  },
  {
   "cell_type": "code",
   "execution_count": 42,
   "metadata": {
    "tags": []
   },
   "outputs": [
    {
     "output_type": "stream",
     "name": "stdout",
     "text": "+------+-----+\n| brand| cate|\n+------+-----+\n|460561|12968|\n+------+-----+\n\n"
    }
   ],
   "source": [
    "rst_1 = behavior_data.agg(f.countDistinct(behavior_data.brand).alias(\"brand\"), f.countDistinct(behavior_data.cate).alias(\"cate\"))\n",
    "rst_1.show()"
   ]
  },
  {
   "cell_type": "code",
   "execution_count": 43,
   "metadata": {
    "tags": []
   },
   "outputs": [
    {
     "output_type": "stream",
     "name": "stdout",
     "text": "+---------+------------+-----------------+---------+------------+--------------+----------+--------------------+\n|cms_segid|cms_group_id|final_gender_code|age_level|pvalue_level|shopping_level|occupation|new_user_class_level|\n+---------+------------+-----------------+---------+------------+--------------+----------+--------------------+\n|       97|          13|                2|        7|           3|             3|         2|                   4|\n+---------+------------+-----------------+---------+------------+--------------+----------+--------------------+\n\n"
    }
   ],
   "source": [
    "rst_2 = train_data.agg(\n",
    "    f.countDistinct(train_data.cms_segid).alias(\"cms_segid\"), \n",
    "    f.countDistinct(train_data.cms_group_id).alias(\"cms_group_id\"),\n",
    "    f.countDistinct(train_data.final_gender_code).alias(\"final_gender_code\"),\n",
    "    f.countDistinct(train_data.age_level).alias(\"age_level\"),\n",
    "    f.countDistinct(train_data.pvalue_level).alias(\"pvalue_level\"),\n",
    "    f.countDistinct(train_data.shopping_level).alias(\"shopping_level\"),\n",
    "    f.countDistinct(train_data.occupation).alias(\"occupation\"),\n",
    "    f.countDistinct(train_data.new_user_class_level).alias(\"new_user_class_level\")\n",
    ")\n",
    "rst_2.show()"
   ]
  },
  {
   "cell_type": "code",
   "execution_count": 45,
   "metadata": {
    "tags": []
   },
   "outputs": [],
   "source": [
    "rst_1_pd = rst_1.toPandas()\n",
    "rst_2_pd = rst_2.toPandas()"
   ]
  },
  {
   "cell_type": "code",
   "execution_count": 46,
   "metadata": {},
   "outputs": [],
   "source": [
    "result = pd.concat([rst_1_pd, rst_2_pd], axis=1)\n",
    "result.to_csv(\"/nfs/project/boweihan_2/DIEN/dien_tf2/self_data/embedding_count.csv\", index=False, header=True, sep=\",\", encoding=\"utf-8_sig\")"
   ]
  },
  {
   "cell_type": "code",
   "execution_count": 48,
   "metadata": {},
   "outputs": [
    {
     "output_type": "execute_result",
     "data": {
      "text/plain": "    brand   cate  cms_segid  cms_group_id  final_gender_code  age_level  \\\n0  460561  12968         97            13                  2          7   \n\n   pvalue_level  shopping_level  occupation  new_user_class_level  \n0             3               3           2                     4  ",
      "text/html": "<div>\n<style scoped>\n    .dataframe tbody tr th:only-of-type {\n        vertical-align: middle;\n    }\n\n    .dataframe tbody tr th {\n        vertical-align: top;\n    }\n\n    .dataframe thead th {\n        text-align: right;\n    }\n</style>\n<table border=\"1\" class=\"dataframe\">\n  <thead>\n    <tr style=\"text-align: right;\">\n      <th></th>\n      <th>brand</th>\n      <th>cate</th>\n      <th>cms_segid</th>\n      <th>cms_group_id</th>\n      <th>final_gender_code</th>\n      <th>age_level</th>\n      <th>pvalue_level</th>\n      <th>shopping_level</th>\n      <th>occupation</th>\n      <th>new_user_class_level</th>\n    </tr>\n  </thead>\n  <tbody>\n    <tr>\n      <th>0</th>\n      <td>460561</td>\n      <td>12968</td>\n      <td>97</td>\n      <td>13</td>\n      <td>2</td>\n      <td>7</td>\n      <td>3</td>\n      <td>3</td>\n      <td>2</td>\n      <td>4</td>\n    </tr>\n  </tbody>\n</table>\n</div>"
     },
     "metadata": {},
     "execution_count": 48
    }
   ],
   "source": [
    "result"
   ]
  },
  {
   "cell_type": "code",
   "execution_count": 47,
   "metadata": {},
   "outputs": [
    {
     "output_type": "execute_result",
     "data": {
      "text/plain": "460561"
     },
     "metadata": {},
     "execution_count": 47
    }
   ],
   "source": [
    "def get_embedding_count(feature):\n",
    "    return result[feature].values[0]\n",
    "get_embedding_count(\"brand\")"
   ]
  },
  {
   "cell_type": "markdown",
   "metadata": {},
   "source": [
    "## (2) Train Method"
   ]
  },
  {
   "cell_type": "markdown",
   "metadata": {},
   "source": [
    "## a.使用少量数据调模型"
   ]
  },
  {
   "cell_type": "code",
   "execution_count": 49,
   "metadata": {},
   "outputs": [
    {
     "output_type": "execute_result",
     "data": {
      "text/plain": "     guide_dien_final_train_data.user  guide_dien_final_train_data.adgroup_id  \\\n0                              197045                                  782332   \n1                              197045                                  632432   \n2                              197045                                   85419   \n3                              197045                                  792489   \n4                              198714                                  457325   \n..                                ...                                     ...   \n995                            966232                                  601812   \n996                            966232                                  732113   \n997                            966232                                  594425   \n998                            966232                                  664714   \n999                            966232                                  823599   \n\n     guide_dien_final_train_data.time_stamp guide_dien_final_train_data.pid  \\\n0                                1494677497                     430548_1007   \n1                                1494674116                     430548_1007   \n2                                1494678677                     430548_1007   \n3                                1494678677                     430548_1007   \n4                                1494662608                     430539_1007   \n..                                      ...                             ...   \n995                              1494689190                     430539_1007   \n996                              1494690992                     430539_1007   \n997                              1494690992                     430539_1007   \n998                              1494678642                     430539_1007   \n999                              1494671513                     430539_1007   \n\n     guide_dien_final_train_data.nonclk  guide_dien_final_train_data.clk  \\\n0                                     1                                0   \n1                                     1                                0   \n2                                     1                                0   \n3                                     1                                0   \n4                                     0                                1   \n..                                  ...                              ...   \n995                                   1                                0   \n996                                   1                                0   \n997                                   1                                0   \n998                                   0                                1   \n999                                   1                                0   \n\n     guide_dien_final_train_data.userid  \\\n0                              197045.0   \n1                              197045.0   \n2                              197045.0   \n3                              197045.0   \n4                              198714.0   \n..                                  ...   \n995                            966232.0   \n996                            966232.0   \n997                            966232.0   \n998                            966232.0   \n999                            966232.0   \n\n     guide_dien_final_train_data.cms_segid  \\\n0                                      5.0   \n1                                      5.0   \n2                                      5.0   \n3                                      5.0   \n4                                      2.0   \n..                                     ...   \n995                                    0.0   \n996                                    0.0   \n997                                    0.0   \n998                                    0.0   \n999                                    0.0   \n\n     guide_dien_final_train_data.cms_group_id  \\\n0                                         2.0   \n1                                         2.0   \n2                                         2.0   \n3                                         2.0   \n4                                         1.0   \n..                                        ...   \n995                                       3.0   \n996                                       3.0   \n997                                       3.0   \n998                                       3.0   \n999                                       3.0   \n\n     guide_dien_final_train_data.final_gender_code  ...  \\\n0                                              2.0  ...   \n1                                              2.0  ...   \n2                                              2.0  ...   \n3                                              2.0  ...   \n4                                              2.0  ...   \n..                                             ...  ...   \n995                                            2.0  ...   \n996                                            2.0  ...   \n997                                            2.0  ...   \n998                                            2.0  ...   \n999                                            2.0  ...   \n\n     guide_dien_final_train_data.campaign_id  \\\n0                                     181830   \n1                                     233866   \n2                                      86978   \n3                                      80159   \n4                                      16625   \n..                                       ...   \n995                                   227059   \n996                                   118375   \n997                                    34336   \n998                                   367511   \n999                                   149396   \n\n     guide_dien_final_train_data.customer  guide_dien_final_train_data.brand  \\\n0                                  197002                                0.0   \n1                                   28529                                0.0   \n2                                   30214                            95618.0   \n3                                  133346                                0.0   \n4                                   96110                           337172.0   \n..                                    ...                                ...   \n995                                212714                                0.0   \n996                                 11131                           110068.0   \n997                                117293                            73781.0   \n998                                251098                                0.0   \n999                                 43337                                0.0   \n\n     guide_dien_final_train_data.price  \\\n0                                148.0   \n1                                216.0   \n2                                  2.4   \n3                                 48.0   \n4                                 41.0   \n..                                 ...   \n995                              499.0   \n996                              448.0   \n997                              302.0   \n998                              296.0   \n999                              228.0   \n\n                 guide_dien_final_train_data.show_cate  \\\n0    [1245,1245,1245,6894,6894,6894,11175,11175,124...   \n1    [1245,1245,1245,6894,6894,6894,11175,11175,124...   \n2    [1245,1245,1245,6894,6894,6894,11175,11175,124...   \n3    [1245,1245,1245,6894,6894,6894,11175,11175,124...   \n4    [6428,6428,6428,6428,6428,6428,6432,6341,6341,...   \n..                                                 ...   \n995  [6932,6932,6932,1665,6261,4282,4284,4284,4283,...   \n996  [6932,6932,6932,1665,6261,4282,4284,4284,4283,...   \n997  [6932,6932,6932,1665,6261,4282,4284,4284,4283,...   \n998  [6932,6932,6932,1665,6261,4282,4284,4284,4283,...   \n999  [6932,6932,6932,1665,6261,4282,4284,4284,4283,...   \n\n                guide_dien_final_train_data.show_brand  \\\n0    [236225,351558,351558,103480,103480,103480,304...   \n1    [236225,351558,351558,103480,103480,103480,304...   \n2    [236225,351558,351558,103480,103480,103480,304...   \n3    [236225,351558,351558,103480,103480,103480,304...   \n4    [38480,38480,38480,38480,38480,38480,136135,13...   \n..                                                 ...   \n995  [181477,181477,181477,364321,234984,23859,3739...   \n996  [181477,181477,181477,364321,234984,23859,3739...   \n997  [181477,181477,181477,364321,234984,23859,3739...   \n998  [181477,181477,181477,364321,234984,23859,3739...   \n999  [181477,181477,181477,364321,234984,23859,3739...   \n\n                   guide_dien_final_train_data.show_rk  \\\n0    [1,2,3,5,6,8,9,10,11,12,13,14,15,16,17,18,19,2...   \n1    [1,2,3,5,6,8,9,10,11,12,13,14,15,16,17,18,19,2...   \n2    [1,2,3,5,6,8,9,10,11,12,13,14,15,16,17,18,19,2...   \n3    [1,2,3,5,6,8,9,10,11,12,13,14,15,16,17,18,19,2...   \n4    [1,2,3,4,4,6,7,8,9,10,11,12,13,14,15,16,17,18,...   \n..                                                 ...   \n995  [1,2,3,4,5,6,7,8,9,10,12,13,14,15,15,17,17,19,...   \n996  [1,2,3,4,5,6,7,8,9,10,12,13,14,15,15,17,17,19,...   \n997  [1,2,3,4,5,6,7,8,9,10,12,13,14,15,15,17,17,19,...   \n998  [1,2,3,4,5,6,7,8,9,10,12,13,14,15,15,17,17,19,...   \n999  [1,2,3,4,5,6,7,8,9,10,12,13,14,15,15,17,17,19,...   \n\n                guide_dien_final_train_data.click_cate  \\\n0    [1245,6894,4281,6806,1570,4314,1570,9093,9093,...   \n1    [1245,6894,4281,6806,1570,4314,1570,9093,9093,...   \n2    [1245,6894,4281,6806,1570,4314,1570,9093,9093,...   \n3    [1245,6894,4281,6806,1570,4314,1570,9093,9093,...   \n4    [10809,6432,4512,4512,4512,4512,4512,4512,4512...   \n..                                                 ...   \n995  [4262,1665,1665,1170,6426,7205,7225,133,5166,1...   \n996  [4262,1665,1665,1170,6426,7205,7225,133,5166,1...   \n997  [4262,1665,1665,1170,6426,7205,7225,133,5166,1...   \n998  [4262,1665,1665,1170,6426,7205,7225,133,5166,1...   \n999  [4262,1665,1665,1170,6426,7205,7225,133,5166,1...   \n\n               guide_dien_final_train_data.click_brand  \\\n0    [351558,103480,424633,284368,3180,42941,3180,2...   \n1    [351558,103480,424633,284368,3180,42941,3180,2...   \n2    [351558,103480,424633,284368,3180,42941,3180,2...   \n3    [351558,103480,424633,284368,3180,42941,3180,2...   \n4    [78538,293023,218467,8370,218566,218467,322655...   \n..                                                 ...   \n995  [370203,322842,13483,219647,96276,409316,13287...   \n996  [370203,322842,13483,219647,96276,409316,13287...   \n997  [370203,322842,13483,219647,96276,409316,13287...   \n998  [370203,322842,13483,219647,96276,409316,13287...   \n999  [370203,322842,13483,219647,96276,409316,13287...   \n\n                  guide_dien_final_train_data.click_rk  \n0    [4,7,53,64,256,322,335,397,399,516,523,526,532...  \n1    [4,7,53,64,256,322,335,397,399,516,523,526,532...  \n2    [4,7,53,64,256,322,335,397,399,516,523,526,532...  \n3    [4,7,53,64,256,322,335,397,399,516,523,526,532...  \n4    [23,27,52,58,60,62,64,69,71,75,89,100,102,108,...  \n..                                                 ...  \n995         [11,34,46,105,114,129,146,164,201,203,244]  \n996         [11,34,46,105,114,129,146,164,201,203,244]  \n997         [11,34,46,105,114,129,146,164,201,203,244]  \n998         [11,34,46,105,114,129,146,164,201,203,244]  \n999         [11,34,46,105,114,129,146,164,201,203,244]  \n\n[1000 rows x 26 columns]",
      "text/html": "<div>\n<style scoped>\n    .dataframe tbody tr th:only-of-type {\n        vertical-align: middle;\n    }\n\n    .dataframe tbody tr th {\n        vertical-align: top;\n    }\n\n    .dataframe thead th {\n        text-align: right;\n    }\n</style>\n<table border=\"1\" class=\"dataframe\">\n  <thead>\n    <tr style=\"text-align: right;\">\n      <th></th>\n      <th>guide_dien_final_train_data.user</th>\n      <th>guide_dien_final_train_data.adgroup_id</th>\n      <th>guide_dien_final_train_data.time_stamp</th>\n      <th>guide_dien_final_train_data.pid</th>\n      <th>guide_dien_final_train_data.nonclk</th>\n      <th>guide_dien_final_train_data.clk</th>\n      <th>guide_dien_final_train_data.userid</th>\n      <th>guide_dien_final_train_data.cms_segid</th>\n      <th>guide_dien_final_train_data.cms_group_id</th>\n      <th>guide_dien_final_train_data.final_gender_code</th>\n      <th>...</th>\n      <th>guide_dien_final_train_data.campaign_id</th>\n      <th>guide_dien_final_train_data.customer</th>\n      <th>guide_dien_final_train_data.brand</th>\n      <th>guide_dien_final_train_data.price</th>\n      <th>guide_dien_final_train_data.show_cate</th>\n      <th>guide_dien_final_train_data.show_brand</th>\n      <th>guide_dien_final_train_data.show_rk</th>\n      <th>guide_dien_final_train_data.click_cate</th>\n      <th>guide_dien_final_train_data.click_brand</th>\n      <th>guide_dien_final_train_data.click_rk</th>\n    </tr>\n  </thead>\n  <tbody>\n    <tr>\n      <th>0</th>\n      <td>197045</td>\n      <td>782332</td>\n      <td>1494677497</td>\n      <td>430548_1007</td>\n      <td>1</td>\n      <td>0</td>\n      <td>197045.0</td>\n      <td>5.0</td>\n      <td>2.0</td>\n      <td>2.0</td>\n      <td>...</td>\n      <td>181830</td>\n      <td>197002</td>\n      <td>0.0</td>\n      <td>148.0</td>\n      <td>[1245,1245,1245,6894,6894,6894,11175,11175,124...</td>\n      <td>[236225,351558,351558,103480,103480,103480,304...</td>\n      <td>[1,2,3,5,6,8,9,10,11,12,13,14,15,16,17,18,19,2...</td>\n      <td>[1245,6894,4281,6806,1570,4314,1570,9093,9093,...</td>\n      <td>[351558,103480,424633,284368,3180,42941,3180,2...</td>\n      <td>[4,7,53,64,256,322,335,397,399,516,523,526,532...</td>\n    </tr>\n    <tr>\n      <th>1</th>\n      <td>197045</td>\n      <td>632432</td>\n      <td>1494674116</td>\n      <td>430548_1007</td>\n      <td>1</td>\n      <td>0</td>\n      <td>197045.0</td>\n      <td>5.0</td>\n      <td>2.0</td>\n      <td>2.0</td>\n      <td>...</td>\n      <td>233866</td>\n      <td>28529</td>\n      <td>0.0</td>\n      <td>216.0</td>\n      <td>[1245,1245,1245,6894,6894,6894,11175,11175,124...</td>\n      <td>[236225,351558,351558,103480,103480,103480,304...</td>\n      <td>[1,2,3,5,6,8,9,10,11,12,13,14,15,16,17,18,19,2...</td>\n      <td>[1245,6894,4281,6806,1570,4314,1570,9093,9093,...</td>\n      <td>[351558,103480,424633,284368,3180,42941,3180,2...</td>\n      <td>[4,7,53,64,256,322,335,397,399,516,523,526,532...</td>\n    </tr>\n    <tr>\n      <th>2</th>\n      <td>197045</td>\n      <td>85419</td>\n      <td>1494678677</td>\n      <td>430548_1007</td>\n      <td>1</td>\n      <td>0</td>\n      <td>197045.0</td>\n      <td>5.0</td>\n      <td>2.0</td>\n      <td>2.0</td>\n      <td>...</td>\n      <td>86978</td>\n      <td>30214</td>\n      <td>95618.0</td>\n      <td>2.4</td>\n      <td>[1245,1245,1245,6894,6894,6894,11175,11175,124...</td>\n      <td>[236225,351558,351558,103480,103480,103480,304...</td>\n      <td>[1,2,3,5,6,8,9,10,11,12,13,14,15,16,17,18,19,2...</td>\n      <td>[1245,6894,4281,6806,1570,4314,1570,9093,9093,...</td>\n      <td>[351558,103480,424633,284368,3180,42941,3180,2...</td>\n      <td>[4,7,53,64,256,322,335,397,399,516,523,526,532...</td>\n    </tr>\n    <tr>\n      <th>3</th>\n      <td>197045</td>\n      <td>792489</td>\n      <td>1494678677</td>\n      <td>430548_1007</td>\n      <td>1</td>\n      <td>0</td>\n      <td>197045.0</td>\n      <td>5.0</td>\n      <td>2.0</td>\n      <td>2.0</td>\n      <td>...</td>\n      <td>80159</td>\n      <td>133346</td>\n      <td>0.0</td>\n      <td>48.0</td>\n      <td>[1245,1245,1245,6894,6894,6894,11175,11175,124...</td>\n      <td>[236225,351558,351558,103480,103480,103480,304...</td>\n      <td>[1,2,3,5,6,8,9,10,11,12,13,14,15,16,17,18,19,2...</td>\n      <td>[1245,6894,4281,6806,1570,4314,1570,9093,9093,...</td>\n      <td>[351558,103480,424633,284368,3180,42941,3180,2...</td>\n      <td>[4,7,53,64,256,322,335,397,399,516,523,526,532...</td>\n    </tr>\n    <tr>\n      <th>4</th>\n      <td>198714</td>\n      <td>457325</td>\n      <td>1494662608</td>\n      <td>430539_1007</td>\n      <td>0</td>\n      <td>1</td>\n      <td>198714.0</td>\n      <td>2.0</td>\n      <td>1.0</td>\n      <td>2.0</td>\n      <td>...</td>\n      <td>16625</td>\n      <td>96110</td>\n      <td>337172.0</td>\n      <td>41.0</td>\n      <td>[6428,6428,6428,6428,6428,6428,6432,6341,6341,...</td>\n      <td>[38480,38480,38480,38480,38480,38480,136135,13...</td>\n      <td>[1,2,3,4,4,6,7,8,9,10,11,12,13,14,15,16,17,18,...</td>\n      <td>[10809,6432,4512,4512,4512,4512,4512,4512,4512...</td>\n      <td>[78538,293023,218467,8370,218566,218467,322655...</td>\n      <td>[23,27,52,58,60,62,64,69,71,75,89,100,102,108,...</td>\n    </tr>\n    <tr>\n      <th>...</th>\n      <td>...</td>\n      <td>...</td>\n      <td>...</td>\n      <td>...</td>\n      <td>...</td>\n      <td>...</td>\n      <td>...</td>\n      <td>...</td>\n      <td>...</td>\n      <td>...</td>\n      <td>...</td>\n      <td>...</td>\n      <td>...</td>\n      <td>...</td>\n      <td>...</td>\n      <td>...</td>\n      <td>...</td>\n      <td>...</td>\n      <td>...</td>\n      <td>...</td>\n      <td>...</td>\n    </tr>\n    <tr>\n      <th>995</th>\n      <td>966232</td>\n      <td>601812</td>\n      <td>1494689190</td>\n      <td>430539_1007</td>\n      <td>1</td>\n      <td>0</td>\n      <td>966232.0</td>\n      <td>0.0</td>\n      <td>3.0</td>\n      <td>2.0</td>\n      <td>...</td>\n      <td>227059</td>\n      <td>212714</td>\n      <td>0.0</td>\n      <td>499.0</td>\n      <td>[6932,6932,6932,1665,6261,4282,4284,4284,4283,...</td>\n      <td>[181477,181477,181477,364321,234984,23859,3739...</td>\n      <td>[1,2,3,4,5,6,7,8,9,10,12,13,14,15,15,17,17,19,...</td>\n      <td>[4262,1665,1665,1170,6426,7205,7225,133,5166,1...</td>\n      <td>[370203,322842,13483,219647,96276,409316,13287...</td>\n      <td>[11,34,46,105,114,129,146,164,201,203,244]</td>\n    </tr>\n    <tr>\n      <th>996</th>\n      <td>966232</td>\n      <td>732113</td>\n      <td>1494690992</td>\n      <td>430539_1007</td>\n      <td>1</td>\n      <td>0</td>\n      <td>966232.0</td>\n      <td>0.0</td>\n      <td>3.0</td>\n      <td>2.0</td>\n      <td>...</td>\n      <td>118375</td>\n      <td>11131</td>\n      <td>110068.0</td>\n      <td>448.0</td>\n      <td>[6932,6932,6932,1665,6261,4282,4284,4284,4283,...</td>\n      <td>[181477,181477,181477,364321,234984,23859,3739...</td>\n      <td>[1,2,3,4,5,6,7,8,9,10,12,13,14,15,15,17,17,19,...</td>\n      <td>[4262,1665,1665,1170,6426,7205,7225,133,5166,1...</td>\n      <td>[370203,322842,13483,219647,96276,409316,13287...</td>\n      <td>[11,34,46,105,114,129,146,164,201,203,244]</td>\n    </tr>\n    <tr>\n      <th>997</th>\n      <td>966232</td>\n      <td>594425</td>\n      <td>1494690992</td>\n      <td>430539_1007</td>\n      <td>1</td>\n      <td>0</td>\n      <td>966232.0</td>\n      <td>0.0</td>\n      <td>3.0</td>\n      <td>2.0</td>\n      <td>...</td>\n      <td>34336</td>\n      <td>117293</td>\n      <td>73781.0</td>\n      <td>302.0</td>\n      <td>[6932,6932,6932,1665,6261,4282,4284,4284,4283,...</td>\n      <td>[181477,181477,181477,364321,234984,23859,3739...</td>\n      <td>[1,2,3,4,5,6,7,8,9,10,12,13,14,15,15,17,17,19,...</td>\n      <td>[4262,1665,1665,1170,6426,7205,7225,133,5166,1...</td>\n      <td>[370203,322842,13483,219647,96276,409316,13287...</td>\n      <td>[11,34,46,105,114,129,146,164,201,203,244]</td>\n    </tr>\n    <tr>\n      <th>998</th>\n      <td>966232</td>\n      <td>664714</td>\n      <td>1494678642</td>\n      <td>430539_1007</td>\n      <td>0</td>\n      <td>1</td>\n      <td>966232.0</td>\n      <td>0.0</td>\n      <td>3.0</td>\n      <td>2.0</td>\n      <td>...</td>\n      <td>367511</td>\n      <td>251098</td>\n      <td>0.0</td>\n      <td>296.0</td>\n      <td>[6932,6932,6932,1665,6261,4282,4284,4284,4283,...</td>\n      <td>[181477,181477,181477,364321,234984,23859,3739...</td>\n      <td>[1,2,3,4,5,6,7,8,9,10,12,13,14,15,15,17,17,19,...</td>\n      <td>[4262,1665,1665,1170,6426,7205,7225,133,5166,1...</td>\n      <td>[370203,322842,13483,219647,96276,409316,13287...</td>\n      <td>[11,34,46,105,114,129,146,164,201,203,244]</td>\n    </tr>\n    <tr>\n      <th>999</th>\n      <td>966232</td>\n      <td>823599</td>\n      <td>1494671513</td>\n      <td>430539_1007</td>\n      <td>1</td>\n      <td>0</td>\n      <td>966232.0</td>\n      <td>0.0</td>\n      <td>3.0</td>\n      <td>2.0</td>\n      <td>...</td>\n      <td>149396</td>\n      <td>43337</td>\n      <td>0.0</td>\n      <td>228.0</td>\n      <td>[6932,6932,6932,1665,6261,4282,4284,4284,4283,...</td>\n      <td>[181477,181477,181477,364321,234984,23859,3739...</td>\n      <td>[1,2,3,4,5,6,7,8,9,10,12,13,14,15,15,17,17,19,...</td>\n      <td>[4262,1665,1665,1170,6426,7205,7225,133,5166,1...</td>\n      <td>[370203,322842,13483,219647,96276,409316,13287...</td>\n      <td>[11,34,46,105,114,129,146,164,201,203,244]</td>\n    </tr>\n  </tbody>\n</table>\n<p>1000 rows × 26 columns</p>\n</div>"
     },
     "metadata": {},
     "execution_count": 49
    }
   ],
   "source": [
    "train_path = \"/nfs/project/boweihan_2/DIEN/dien_tf2/self_data/train.csv\"\n",
    "test_path = \"/nfs/project/boweihan_2/DIEN/dien_tf2/self_data/test.csv\"\n",
    "test_data = pd.read_csv(test_path, sep = \"\\t\")\n",
    "test_data = test_data.fillna(0)\n",
    "test_data"
   ]
  },
  {
   "cell_type": "code",
   "execution_count": 50,
   "metadata": {
    "tags": []
   },
   "outputs": [
    {
     "output_type": "execute_result",
     "data": {
      "text/plain": "      guide_dien_final_train_data.user  \\\n0                               197045   \n1                               197045   \n2                               197045   \n3                               197045   \n4                               197045   \n...                                ...   \n9995                           1041408   \n9996                           1041408   \n9997                           1041408   \n9998                           1041408   \n9999                           1041408   \n\n      guide_dien_final_train_data.adgroup_id  \\\n0                                     607851   \n1                                     642042   \n2                                     696585   \n3                                     743418   \n4                                     215350   \n...                                      ...   \n9995                                  613221   \n9996                                  621434   \n9997                                  621692   \n9998                                  621692   \n9999                                  624640   \n\n      guide_dien_final_train_data.time_stamp guide_dien_final_train_data.pid  \\\n0                                 1494406826                     430548_1007   \n1                                 1494239072                     430548_1007   \n2                                 1494075937                     430548_1007   \n3                                 1494403500                     430548_1007   \n4                                 1494599636                     430548_1007   \n...                                      ...                             ...   \n9995                              1494389160                     430539_1007   \n9996                              1494477822                     430539_1007   \n9997                              1494389107                     430539_1007   \n9998                              1494477822                     430539_1007   \n9999                              1494237748                     430539_1007   \n\n      guide_dien_final_train_data.nonclk  guide_dien_final_train_data.clk  \\\n0                                      1                                0   \n1                                      1                                0   \n2                                      1                                0   \n3                                      1                                0   \n4                                      1                                0   \n...                                  ...                              ...   \n9995                                   1                                0   \n9996                                   1                                0   \n9997                                   1                                0   \n9998                                   1                                0   \n9999                                   1                                0   \n\n      guide_dien_final_train_data.userid  \\\n0                               197045.0   \n1                               197045.0   \n2                               197045.0   \n3                               197045.0   \n4                               197045.0   \n...                                  ...   \n9995                           1041408.0   \n9996                           1041408.0   \n9997                           1041408.0   \n9998                           1041408.0   \n9999                           1041408.0   \n\n      guide_dien_final_train_data.cms_segid  \\\n0                                       5.0   \n1                                       5.0   \n2                                       5.0   \n3                                       5.0   \n4                                       5.0   \n...                                     ...   \n9995                                    0.0   \n9996                                    0.0   \n9997                                    0.0   \n9998                                    0.0   \n9999                                    0.0   \n\n      guide_dien_final_train_data.cms_group_id  \\\n0                                          2.0   \n1                                          2.0   \n2                                          2.0   \n3                                          2.0   \n4                                          2.0   \n...                                        ...   \n9995                                       3.0   \n9996                                       3.0   \n9997                                       3.0   \n9998                                       3.0   \n9999                                       3.0   \n\n      guide_dien_final_train_data.final_gender_code  ...  \\\n0                                               2.0  ...   \n1                                               2.0  ...   \n2                                               2.0  ...   \n3                                               2.0  ...   \n4                                               2.0  ...   \n...                                             ...  ...   \n9995                                            2.0  ...   \n9996                                            2.0  ...   \n9997                                            2.0  ...   \n9998                                            2.0  ...   \n9999                                            2.0  ...   \n\n      guide_dien_final_train_data.campaign_id  \\\n0                                      332347   \n1                                      233113   \n2                                      401692   \n3                                       81529   \n4                                       91018   \n...                                       ...   \n9995                                   131055   \n9996                                   183730   \n9997                                    16001   \n9998                                    16001   \n9999                                   307675   \n\n      guide_dien_final_train_data.customer  guide_dien_final_train_data.brand  \\\n0                                   250055                           181578.0   \n1                                    21240                            36241.0   \n2                                    56209                           188080.0   \n3                                    64774                                0.0   \n4                                    33618                            21271.0   \n...                                    ...                                ...   \n9995                                  7935                           140633.0   \n9996                                192403                           196567.0   \n9997                                 92576                           262440.0   \n9998                                 92576                           262440.0   \n9999                                213760                           269842.0   \n\n      guide_dien_final_train_data.price  \\\n0                                299.00   \n1                                  2.75   \n2                                 98.00   \n3                                169.00   \n4                                 39.00   \n...                                 ...   \n9995                             688.00   \n9996                             139.80   \n9997                             188.00   \n9998                             188.00   \n9999                            1588.00   \n\n                  guide_dien_final_train_data.show_cate  \\\n0     [1245,1245,1245,6894,6894,6894,11175,11175,124...   \n1     [1245,1245,1245,6894,6894,6894,11175,11175,124...   \n2     [1245,1245,1245,6894,6894,6894,11175,11175,124...   \n3     [1245,1245,1245,6894,6894,6894,11175,11175,124...   \n4     [1245,1245,1245,6894,6894,6894,11175,11175,124...   \n...                                                 ...   \n9995  [5957,4284,6261,6261,4520,4520,4280,4280,5920,...   \n9996  [5957,4284,6261,6261,4520,4520,4280,4280,5920,...   \n9997  [5957,4284,6261,6261,4520,4520,4280,4280,5920,...   \n9998  [5957,4284,6261,6261,4520,4520,4280,4280,5920,...   \n9999  [5957,4284,6261,6261,4520,4520,4280,4280,5920,...   \n\n                 guide_dien_final_train_data.show_brand  \\\n0     [236225,351558,351558,103480,103480,103480,304...   \n1     [236225,351558,351558,103480,103480,103480,304...   \n2     [236225,351558,351558,103480,103480,103480,304...   \n3     [236225,351558,351558,103480,103480,103480,304...   \n4     [236225,351558,351558,103480,103480,103480,304...   \n...                                                 ...   \n9995  [261632,261632,261632,261632,22959,182215,1700...   \n9996  [261632,261632,261632,261632,22959,182215,1700...   \n9997  [261632,261632,261632,261632,22959,182215,1700...   \n9998  [261632,261632,261632,261632,22959,182215,1700...   \n9999  [261632,261632,261632,261632,22959,182215,1700...   \n\n                    guide_dien_final_train_data.show_rk  \\\n0     [1,2,3,5,6,8,9,10,11,12,13,14,15,16,17,18,19,2...   \n1     [1,2,3,5,6,8,9,10,11,12,13,14,15,16,17,18,19,2...   \n2     [1,2,3,5,6,8,9,10,11,12,13,14,15,16,17,18,19,2...   \n3     [1,2,3,5,6,8,9,10,11,12,13,14,15,16,17,18,19,2...   \n4     [1,2,3,5,6,8,9,10,11,12,13,14,15,16,17,18,19,2...   \n...                                                 ...   \n9995  [1,2,3,4,5,6,7,8,9,10,11,11,13,13,15,16,17,18,...   \n9996  [1,2,3,4,5,6,7,8,9,10,11,11,13,13,15,16,17,18,...   \n9997  [1,2,3,4,5,6,7,8,9,10,11,11,13,13,15,16,17,18,...   \n9998  [1,2,3,4,5,6,7,8,9,10,11,11,13,13,15,16,17,18,...   \n9999  [1,2,3,4,5,6,7,8,9,10,11,11,13,13,15,16,17,18,...   \n\n                 guide_dien_final_train_data.click_cate  \\\n0     [1245,6894,4281,6806,1570,4314,1570,9093,9093,...   \n1     [1245,6894,4281,6806,1570,4314,1570,9093,9093,...   \n2     [1245,6894,4281,6806,1570,4314,1570,9093,9093,...   \n3     [1245,6894,4281,6806,1570,4314,1570,9093,9093,...   \n4     [1245,6894,4281,6806,1570,4314,1570,9093,9093,...   \n...                                                 ...   \n9995  [619,11849,5920,4520,4284,4280,133,7353,6261,6...   \n9996  [619,11849,5920,4520,4284,4280,133,7353,6261,6...   \n9997  [619,11849,5920,4520,4284,4280,133,7353,6261,6...   \n9998  [619,11849,5920,4520,4284,4280,133,7353,6261,6...   \n9999  [619,11849,5920,4520,4284,4280,133,7353,6261,6...   \n\n                guide_dien_final_train_data.click_brand  \\\n0     [351558,103480,424633,284368,3180,42941,3180,2...   \n1     [351558,103480,424633,284368,3180,42941,3180,2...   \n2     [351558,103480,424633,284368,3180,42941,3180,2...   \n3     [351558,103480,424633,284368,3180,42941,3180,2...   \n4     [351558,103480,424633,284368,3180,42941,3180,2...   \n...                                                 ...   \n9995  [240323,364046,270824,414896,414896,139558,280...   \n9996  [240323,364046,270824,414896,414896,139558,280...   \n9997  [240323,364046,270824,414896,414896,139558,280...   \n9998  [240323,364046,270824,414896,414896,139558,280...   \n9999  [240323,364046,270824,414896,414896,139558,280...   \n\n                   guide_dien_final_train_data.click_rk  \n0     [4,7,53,64,256,322,335,397,399,516,523,526,532...  \n1     [4,7,53,64,256,322,335,397,399,516,523,526,532...  \n2     [4,7,53,64,256,322,335,397,399,516,523,526,532...  \n3     [4,7,53,64,256,322,335,397,399,516,523,526,532...  \n4     [4,7,53,64,256,322,335,397,399,516,523,526,532...  \n...                                                 ...  \n9995  [19,25,29,37,39,148,221,232,365,380,462,543,55...  \n9996  [19,25,29,37,39,148,221,232,365,380,462,543,55...  \n9997  [19,25,29,37,39,148,221,232,365,380,462,543,55...  \n9998  [19,25,29,37,39,148,221,232,365,380,462,543,55...  \n9999  [19,25,29,37,39,148,221,232,365,380,462,543,55...  \n\n[10000 rows x 26 columns]",
      "text/html": "<div>\n<style scoped>\n    .dataframe tbody tr th:only-of-type {\n        vertical-align: middle;\n    }\n\n    .dataframe tbody tr th {\n        vertical-align: top;\n    }\n\n    .dataframe thead th {\n        text-align: right;\n    }\n</style>\n<table border=\"1\" class=\"dataframe\">\n  <thead>\n    <tr style=\"text-align: right;\">\n      <th></th>\n      <th>guide_dien_final_train_data.user</th>\n      <th>guide_dien_final_train_data.adgroup_id</th>\n      <th>guide_dien_final_train_data.time_stamp</th>\n      <th>guide_dien_final_train_data.pid</th>\n      <th>guide_dien_final_train_data.nonclk</th>\n      <th>guide_dien_final_train_data.clk</th>\n      <th>guide_dien_final_train_data.userid</th>\n      <th>guide_dien_final_train_data.cms_segid</th>\n      <th>guide_dien_final_train_data.cms_group_id</th>\n      <th>guide_dien_final_train_data.final_gender_code</th>\n      <th>...</th>\n      <th>guide_dien_final_train_data.campaign_id</th>\n      <th>guide_dien_final_train_data.customer</th>\n      <th>guide_dien_final_train_data.brand</th>\n      <th>guide_dien_final_train_data.price</th>\n      <th>guide_dien_final_train_data.show_cate</th>\n      <th>guide_dien_final_train_data.show_brand</th>\n      <th>guide_dien_final_train_data.show_rk</th>\n      <th>guide_dien_final_train_data.click_cate</th>\n      <th>guide_dien_final_train_data.click_brand</th>\n      <th>guide_dien_final_train_data.click_rk</th>\n    </tr>\n  </thead>\n  <tbody>\n    <tr>\n      <th>0</th>\n      <td>197045</td>\n      <td>607851</td>\n      <td>1494406826</td>\n      <td>430548_1007</td>\n      <td>1</td>\n      <td>0</td>\n      <td>197045.0</td>\n      <td>5.0</td>\n      <td>2.0</td>\n      <td>2.0</td>\n      <td>...</td>\n      <td>332347</td>\n      <td>250055</td>\n      <td>181578.0</td>\n      <td>299.00</td>\n      <td>[1245,1245,1245,6894,6894,6894,11175,11175,124...</td>\n      <td>[236225,351558,351558,103480,103480,103480,304...</td>\n      <td>[1,2,3,5,6,8,9,10,11,12,13,14,15,16,17,18,19,2...</td>\n      <td>[1245,6894,4281,6806,1570,4314,1570,9093,9093,...</td>\n      <td>[351558,103480,424633,284368,3180,42941,3180,2...</td>\n      <td>[4,7,53,64,256,322,335,397,399,516,523,526,532...</td>\n    </tr>\n    <tr>\n      <th>1</th>\n      <td>197045</td>\n      <td>642042</td>\n      <td>1494239072</td>\n      <td>430548_1007</td>\n      <td>1</td>\n      <td>0</td>\n      <td>197045.0</td>\n      <td>5.0</td>\n      <td>2.0</td>\n      <td>2.0</td>\n      <td>...</td>\n      <td>233113</td>\n      <td>21240</td>\n      <td>36241.0</td>\n      <td>2.75</td>\n      <td>[1245,1245,1245,6894,6894,6894,11175,11175,124...</td>\n      <td>[236225,351558,351558,103480,103480,103480,304...</td>\n      <td>[1,2,3,5,6,8,9,10,11,12,13,14,15,16,17,18,19,2...</td>\n      <td>[1245,6894,4281,6806,1570,4314,1570,9093,9093,...</td>\n      <td>[351558,103480,424633,284368,3180,42941,3180,2...</td>\n      <td>[4,7,53,64,256,322,335,397,399,516,523,526,532...</td>\n    </tr>\n    <tr>\n      <th>2</th>\n      <td>197045</td>\n      <td>696585</td>\n      <td>1494075937</td>\n      <td>430548_1007</td>\n      <td>1</td>\n      <td>0</td>\n      <td>197045.0</td>\n      <td>5.0</td>\n      <td>2.0</td>\n      <td>2.0</td>\n      <td>...</td>\n      <td>401692</td>\n      <td>56209</td>\n      <td>188080.0</td>\n      <td>98.00</td>\n      <td>[1245,1245,1245,6894,6894,6894,11175,11175,124...</td>\n      <td>[236225,351558,351558,103480,103480,103480,304...</td>\n      <td>[1,2,3,5,6,8,9,10,11,12,13,14,15,16,17,18,19,2...</td>\n      <td>[1245,6894,4281,6806,1570,4314,1570,9093,9093,...</td>\n      <td>[351558,103480,424633,284368,3180,42941,3180,2...</td>\n      <td>[4,7,53,64,256,322,335,397,399,516,523,526,532...</td>\n    </tr>\n    <tr>\n      <th>3</th>\n      <td>197045</td>\n      <td>743418</td>\n      <td>1494403500</td>\n      <td>430548_1007</td>\n      <td>1</td>\n      <td>0</td>\n      <td>197045.0</td>\n      <td>5.0</td>\n      <td>2.0</td>\n      <td>2.0</td>\n      <td>...</td>\n      <td>81529</td>\n      <td>64774</td>\n      <td>0.0</td>\n      <td>169.00</td>\n      <td>[1245,1245,1245,6894,6894,6894,11175,11175,124...</td>\n      <td>[236225,351558,351558,103480,103480,103480,304...</td>\n      <td>[1,2,3,5,6,8,9,10,11,12,13,14,15,16,17,18,19,2...</td>\n      <td>[1245,6894,4281,6806,1570,4314,1570,9093,9093,...</td>\n      <td>[351558,103480,424633,284368,3180,42941,3180,2...</td>\n      <td>[4,7,53,64,256,322,335,397,399,516,523,526,532...</td>\n    </tr>\n    <tr>\n      <th>4</th>\n      <td>197045</td>\n      <td>215350</td>\n      <td>1494599636</td>\n      <td>430548_1007</td>\n      <td>1</td>\n      <td>0</td>\n      <td>197045.0</td>\n      <td>5.0</td>\n      <td>2.0</td>\n      <td>2.0</td>\n      <td>...</td>\n      <td>91018</td>\n      <td>33618</td>\n      <td>21271.0</td>\n      <td>39.00</td>\n      <td>[1245,1245,1245,6894,6894,6894,11175,11175,124...</td>\n      <td>[236225,351558,351558,103480,103480,103480,304...</td>\n      <td>[1,2,3,5,6,8,9,10,11,12,13,14,15,16,17,18,19,2...</td>\n      <td>[1245,6894,4281,6806,1570,4314,1570,9093,9093,...</td>\n      <td>[351558,103480,424633,284368,3180,42941,3180,2...</td>\n      <td>[4,7,53,64,256,322,335,397,399,516,523,526,532...</td>\n    </tr>\n    <tr>\n      <th>...</th>\n      <td>...</td>\n      <td>...</td>\n      <td>...</td>\n      <td>...</td>\n      <td>...</td>\n      <td>...</td>\n      <td>...</td>\n      <td>...</td>\n      <td>...</td>\n      <td>...</td>\n      <td>...</td>\n      <td>...</td>\n      <td>...</td>\n      <td>...</td>\n      <td>...</td>\n      <td>...</td>\n      <td>...</td>\n      <td>...</td>\n      <td>...</td>\n      <td>...</td>\n      <td>...</td>\n    </tr>\n    <tr>\n      <th>9995</th>\n      <td>1041408</td>\n      <td>613221</td>\n      <td>1494389160</td>\n      <td>430539_1007</td>\n      <td>1</td>\n      <td>0</td>\n      <td>1041408.0</td>\n      <td>0.0</td>\n      <td>3.0</td>\n      <td>2.0</td>\n      <td>...</td>\n      <td>131055</td>\n      <td>7935</td>\n      <td>140633.0</td>\n      <td>688.00</td>\n      <td>[5957,4284,6261,6261,4520,4520,4280,4280,5920,...</td>\n      <td>[261632,261632,261632,261632,22959,182215,1700...</td>\n      <td>[1,2,3,4,5,6,7,8,9,10,11,11,13,13,15,16,17,18,...</td>\n      <td>[619,11849,5920,4520,4284,4280,133,7353,6261,6...</td>\n      <td>[240323,364046,270824,414896,414896,139558,280...</td>\n      <td>[19,25,29,37,39,148,221,232,365,380,462,543,55...</td>\n    </tr>\n    <tr>\n      <th>9996</th>\n      <td>1041408</td>\n      <td>621434</td>\n      <td>1494477822</td>\n      <td>430539_1007</td>\n      <td>1</td>\n      <td>0</td>\n      <td>1041408.0</td>\n      <td>0.0</td>\n      <td>3.0</td>\n      <td>2.0</td>\n      <td>...</td>\n      <td>183730</td>\n      <td>192403</td>\n      <td>196567.0</td>\n      <td>139.80</td>\n      <td>[5957,4284,6261,6261,4520,4520,4280,4280,5920,...</td>\n      <td>[261632,261632,261632,261632,22959,182215,1700...</td>\n      <td>[1,2,3,4,5,6,7,8,9,10,11,11,13,13,15,16,17,18,...</td>\n      <td>[619,11849,5920,4520,4284,4280,133,7353,6261,6...</td>\n      <td>[240323,364046,270824,414896,414896,139558,280...</td>\n      <td>[19,25,29,37,39,148,221,232,365,380,462,543,55...</td>\n    </tr>\n    <tr>\n      <th>9997</th>\n      <td>1041408</td>\n      <td>621692</td>\n      <td>1494389107</td>\n      <td>430539_1007</td>\n      <td>1</td>\n      <td>0</td>\n      <td>1041408.0</td>\n      <td>0.0</td>\n      <td>3.0</td>\n      <td>2.0</td>\n      <td>...</td>\n      <td>16001</td>\n      <td>92576</td>\n      <td>262440.0</td>\n      <td>188.00</td>\n      <td>[5957,4284,6261,6261,4520,4520,4280,4280,5920,...</td>\n      <td>[261632,261632,261632,261632,22959,182215,1700...</td>\n      <td>[1,2,3,4,5,6,7,8,9,10,11,11,13,13,15,16,17,18,...</td>\n      <td>[619,11849,5920,4520,4284,4280,133,7353,6261,6...</td>\n      <td>[240323,364046,270824,414896,414896,139558,280...</td>\n      <td>[19,25,29,37,39,148,221,232,365,380,462,543,55...</td>\n    </tr>\n    <tr>\n      <th>9998</th>\n      <td>1041408</td>\n      <td>621692</td>\n      <td>1494477822</td>\n      <td>430539_1007</td>\n      <td>1</td>\n      <td>0</td>\n      <td>1041408.0</td>\n      <td>0.0</td>\n      <td>3.0</td>\n      <td>2.0</td>\n      <td>...</td>\n      <td>16001</td>\n      <td>92576</td>\n      <td>262440.0</td>\n      <td>188.00</td>\n      <td>[5957,4284,6261,6261,4520,4520,4280,4280,5920,...</td>\n      <td>[261632,261632,261632,261632,22959,182215,1700...</td>\n      <td>[1,2,3,4,5,6,7,8,9,10,11,11,13,13,15,16,17,18,...</td>\n      <td>[619,11849,5920,4520,4284,4280,133,7353,6261,6...</td>\n      <td>[240323,364046,270824,414896,414896,139558,280...</td>\n      <td>[19,25,29,37,39,148,221,232,365,380,462,543,55...</td>\n    </tr>\n    <tr>\n      <th>9999</th>\n      <td>1041408</td>\n      <td>624640</td>\n      <td>1494237748</td>\n      <td>430539_1007</td>\n      <td>1</td>\n      <td>0</td>\n      <td>1041408.0</td>\n      <td>0.0</td>\n      <td>3.0</td>\n      <td>2.0</td>\n      <td>...</td>\n      <td>307675</td>\n      <td>213760</td>\n      <td>269842.0</td>\n      <td>1588.00</td>\n      <td>[5957,4284,6261,6261,4520,4520,4280,4280,5920,...</td>\n      <td>[261632,261632,261632,261632,22959,182215,1700...</td>\n      <td>[1,2,3,4,5,6,7,8,9,10,11,11,13,13,15,16,17,18,...</td>\n      <td>[619,11849,5920,4520,4284,4280,133,7353,6261,6...</td>\n      <td>[240323,364046,270824,414896,414896,139558,280...</td>\n      <td>[19,25,29,37,39,148,221,232,365,380,462,543,55...</td>\n    </tr>\n  </tbody>\n</table>\n<p>10000 rows × 26 columns</p>\n</div>"
     },
     "metadata": {},
     "execution_count": 50
    }
   ],
   "source": [
    "train_data = pd.read_csv(train_path, sep = \"\\t\")\n",
    "train_data = train_data.fillna(0)\n",
    "train_data"
   ]
  },
  {
   "cell_type": "code",
   "execution_count": 75,
   "metadata": {},
   "outputs": [],
   "source": [
    "train_data = train_data[train_data[\"guide_dien_final_train_data.click_cate\"] != 0]"
   ]
  },
  {
   "cell_type": "code",
   "execution_count": 76,
   "metadata": {},
   "outputs": [],
   "source": [
    "train_data = train_data[train_data[\"guide_dien_final_train_data.click_brand\"] != 0]"
   ]
  },
  {
   "cell_type": "code",
   "execution_count": 77,
   "metadata": {},
   "outputs": [
    {
     "output_type": "execute_result",
     "data": {
      "text/plain": "      guide_dien_final_train_data.user  \\\n0                               197045   \n1                               197045   \n2                               197045   \n3                               197045   \n4                               197045   \n...                                ...   \n9995                           1041408   \n9996                           1041408   \n9997                           1041408   \n9998                           1041408   \n9999                           1041408   \n\n      guide_dien_final_train_data.adgroup_id  \\\n0                                     607851   \n1                                     642042   \n2                                     696585   \n3                                     743418   \n4                                     215350   \n...                                      ...   \n9995                                  613221   \n9996                                  621434   \n9997                                  621692   \n9998                                  621692   \n9999                                  624640   \n\n      guide_dien_final_train_data.time_stamp guide_dien_final_train_data.pid  \\\n0                                 1494406826                     430548_1007   \n1                                 1494239072                     430548_1007   \n2                                 1494075937                     430548_1007   \n3                                 1494403500                     430548_1007   \n4                                 1494599636                     430548_1007   \n...                                      ...                             ...   \n9995                              1494389160                     430539_1007   \n9996                              1494477822                     430539_1007   \n9997                              1494389107                     430539_1007   \n9998                              1494477822                     430539_1007   \n9999                              1494237748                     430539_1007   \n\n      guide_dien_final_train_data.nonclk  guide_dien_final_train_data.clk  \\\n0                                      1                                0   \n1                                      1                                0   \n2                                      1                                0   \n3                                      1                                0   \n4                                      1                                0   \n...                                  ...                              ...   \n9995                                   1                                0   \n9996                                   1                                0   \n9997                                   1                                0   \n9998                                   1                                0   \n9999                                   1                                0   \n\n      guide_dien_final_train_data.userid  \\\n0                               197045.0   \n1                               197045.0   \n2                               197045.0   \n3                               197045.0   \n4                               197045.0   \n...                                  ...   \n9995                           1041408.0   \n9996                           1041408.0   \n9997                           1041408.0   \n9998                           1041408.0   \n9999                           1041408.0   \n\n      guide_dien_final_train_data.cms_segid  \\\n0                                       5.0   \n1                                       5.0   \n2                                       5.0   \n3                                       5.0   \n4                                       5.0   \n...                                     ...   \n9995                                    0.0   \n9996                                    0.0   \n9997                                    0.0   \n9998                                    0.0   \n9999                                    0.0   \n\n      guide_dien_final_train_data.cms_group_id  \\\n0                                          2.0   \n1                                          2.0   \n2                                          2.0   \n3                                          2.0   \n4                                          2.0   \n...                                        ...   \n9995                                       3.0   \n9996                                       3.0   \n9997                                       3.0   \n9998                                       3.0   \n9999                                       3.0   \n\n      guide_dien_final_train_data.final_gender_code  ...  \\\n0                                               2.0  ...   \n1                                               2.0  ...   \n2                                               2.0  ...   \n3                                               2.0  ...   \n4                                               2.0  ...   \n...                                             ...  ...   \n9995                                            2.0  ...   \n9996                                            2.0  ...   \n9997                                            2.0  ...   \n9998                                            2.0  ...   \n9999                                            2.0  ...   \n\n      guide_dien_final_train_data.campaign_id  \\\n0                                      332347   \n1                                      233113   \n2                                      401692   \n3                                       81529   \n4                                       91018   \n...                                       ...   \n9995                                   131055   \n9996                                   183730   \n9997                                    16001   \n9998                                    16001   \n9999                                   307675   \n\n      guide_dien_final_train_data.customer  guide_dien_final_train_data.brand  \\\n0                                   250055                           181578.0   \n1                                    21240                            36241.0   \n2                                    56209                           188080.0   \n3                                    64774                                0.0   \n4                                    33618                            21271.0   \n...                                    ...                                ...   \n9995                                  7935                           140633.0   \n9996                                192403                           196567.0   \n9997                                 92576                           262440.0   \n9998                                 92576                           262440.0   \n9999                                213760                           269842.0   \n\n      guide_dien_final_train_data.price  \\\n0                                299.00   \n1                                  2.75   \n2                                 98.00   \n3                                169.00   \n4                                 39.00   \n...                                 ...   \n9995                             688.00   \n9996                             139.80   \n9997                             188.00   \n9998                             188.00   \n9999                            1588.00   \n\n                  guide_dien_final_train_data.show_cate  \\\n0     [1245,1245,1245,6894,6894,6894,11175,11175,124...   \n1     [1245,1245,1245,6894,6894,6894,11175,11175,124...   \n2     [1245,1245,1245,6894,6894,6894,11175,11175,124...   \n3     [1245,1245,1245,6894,6894,6894,11175,11175,124...   \n4     [1245,1245,1245,6894,6894,6894,11175,11175,124...   \n...                                                 ...   \n9995  [5957,4284,6261,6261,4520,4520,4280,4280,5920,...   \n9996  [5957,4284,6261,6261,4520,4520,4280,4280,5920,...   \n9997  [5957,4284,6261,6261,4520,4520,4280,4280,5920,...   \n9998  [5957,4284,6261,6261,4520,4520,4280,4280,5920,...   \n9999  [5957,4284,6261,6261,4520,4520,4280,4280,5920,...   \n\n                 guide_dien_final_train_data.show_brand  \\\n0     [236225,351558,351558,103480,103480,103480,304...   \n1     [236225,351558,351558,103480,103480,103480,304...   \n2     [236225,351558,351558,103480,103480,103480,304...   \n3     [236225,351558,351558,103480,103480,103480,304...   \n4     [236225,351558,351558,103480,103480,103480,304...   \n...                                                 ...   \n9995  [261632,261632,261632,261632,22959,182215,1700...   \n9996  [261632,261632,261632,261632,22959,182215,1700...   \n9997  [261632,261632,261632,261632,22959,182215,1700...   \n9998  [261632,261632,261632,261632,22959,182215,1700...   \n9999  [261632,261632,261632,261632,22959,182215,1700...   \n\n                    guide_dien_final_train_data.show_rk  \\\n0     [1,2,3,5,6,8,9,10,11,12,13,14,15,16,17,18,19,2...   \n1     [1,2,3,5,6,8,9,10,11,12,13,14,15,16,17,18,19,2...   \n2     [1,2,3,5,6,8,9,10,11,12,13,14,15,16,17,18,19,2...   \n3     [1,2,3,5,6,8,9,10,11,12,13,14,15,16,17,18,19,2...   \n4     [1,2,3,5,6,8,9,10,11,12,13,14,15,16,17,18,19,2...   \n...                                                 ...   \n9995  [1,2,3,4,5,6,7,8,9,10,11,11,13,13,15,16,17,18,...   \n9996  [1,2,3,4,5,6,7,8,9,10,11,11,13,13,15,16,17,18,...   \n9997  [1,2,3,4,5,6,7,8,9,10,11,11,13,13,15,16,17,18,...   \n9998  [1,2,3,4,5,6,7,8,9,10,11,11,13,13,15,16,17,18,...   \n9999  [1,2,3,4,5,6,7,8,9,10,11,11,13,13,15,16,17,18,...   \n\n                 guide_dien_final_train_data.click_cate  \\\n0     [1245,6894,4281,6806,1570,4314,1570,9093,9093,...   \n1     [1245,6894,4281,6806,1570,4314,1570,9093,9093,...   \n2     [1245,6894,4281,6806,1570,4314,1570,9093,9093,...   \n3     [1245,6894,4281,6806,1570,4314,1570,9093,9093,...   \n4     [1245,6894,4281,6806,1570,4314,1570,9093,9093,...   \n...                                                 ...   \n9995  [619,11849,5920,4520,4284,4280,133,7353,6261,6...   \n9996  [619,11849,5920,4520,4284,4280,133,7353,6261,6...   \n9997  [619,11849,5920,4520,4284,4280,133,7353,6261,6...   \n9998  [619,11849,5920,4520,4284,4280,133,7353,6261,6...   \n9999  [619,11849,5920,4520,4284,4280,133,7353,6261,6...   \n\n                guide_dien_final_train_data.click_brand  \\\n0     [351558,103480,424633,284368,3180,42941,3180,2...   \n1     [351558,103480,424633,284368,3180,42941,3180,2...   \n2     [351558,103480,424633,284368,3180,42941,3180,2...   \n3     [351558,103480,424633,284368,3180,42941,3180,2...   \n4     [351558,103480,424633,284368,3180,42941,3180,2...   \n...                                                 ...   \n9995  [240323,364046,270824,414896,414896,139558,280...   \n9996  [240323,364046,270824,414896,414896,139558,280...   \n9997  [240323,364046,270824,414896,414896,139558,280...   \n9998  [240323,364046,270824,414896,414896,139558,280...   \n9999  [240323,364046,270824,414896,414896,139558,280...   \n\n                   guide_dien_final_train_data.click_rk  \n0     [4,7,53,64,256,322,335,397,399,516,523,526,532...  \n1     [4,7,53,64,256,322,335,397,399,516,523,526,532...  \n2     [4,7,53,64,256,322,335,397,399,516,523,526,532...  \n3     [4,7,53,64,256,322,335,397,399,516,523,526,532...  \n4     [4,7,53,64,256,322,335,397,399,516,523,526,532...  \n...                                                 ...  \n9995  [19,25,29,37,39,148,221,232,365,380,462,543,55...  \n9996  [19,25,29,37,39,148,221,232,365,380,462,543,55...  \n9997  [19,25,29,37,39,148,221,232,365,380,462,543,55...  \n9998  [19,25,29,37,39,148,221,232,365,380,462,543,55...  \n9999  [19,25,29,37,39,148,221,232,365,380,462,543,55...  \n\n[9936 rows x 26 columns]",
      "text/html": "<div>\n<style scoped>\n    .dataframe tbody tr th:only-of-type {\n        vertical-align: middle;\n    }\n\n    .dataframe tbody tr th {\n        vertical-align: top;\n    }\n\n    .dataframe thead th {\n        text-align: right;\n    }\n</style>\n<table border=\"1\" class=\"dataframe\">\n  <thead>\n    <tr style=\"text-align: right;\">\n      <th></th>\n      <th>guide_dien_final_train_data.user</th>\n      <th>guide_dien_final_train_data.adgroup_id</th>\n      <th>guide_dien_final_train_data.time_stamp</th>\n      <th>guide_dien_final_train_data.pid</th>\n      <th>guide_dien_final_train_data.nonclk</th>\n      <th>guide_dien_final_train_data.clk</th>\n      <th>guide_dien_final_train_data.userid</th>\n      <th>guide_dien_final_train_data.cms_segid</th>\n      <th>guide_dien_final_train_data.cms_group_id</th>\n      <th>guide_dien_final_train_data.final_gender_code</th>\n      <th>...</th>\n      <th>guide_dien_final_train_data.campaign_id</th>\n      <th>guide_dien_final_train_data.customer</th>\n      <th>guide_dien_final_train_data.brand</th>\n      <th>guide_dien_final_train_data.price</th>\n      <th>guide_dien_final_train_data.show_cate</th>\n      <th>guide_dien_final_train_data.show_brand</th>\n      <th>guide_dien_final_train_data.show_rk</th>\n      <th>guide_dien_final_train_data.click_cate</th>\n      <th>guide_dien_final_train_data.click_brand</th>\n      <th>guide_dien_final_train_data.click_rk</th>\n    </tr>\n  </thead>\n  <tbody>\n    <tr>\n      <th>0</th>\n      <td>197045</td>\n      <td>607851</td>\n      <td>1494406826</td>\n      <td>430548_1007</td>\n      <td>1</td>\n      <td>0</td>\n      <td>197045.0</td>\n      <td>5.0</td>\n      <td>2.0</td>\n      <td>2.0</td>\n      <td>...</td>\n      <td>332347</td>\n      <td>250055</td>\n      <td>181578.0</td>\n      <td>299.00</td>\n      <td>[1245,1245,1245,6894,6894,6894,11175,11175,124...</td>\n      <td>[236225,351558,351558,103480,103480,103480,304...</td>\n      <td>[1,2,3,5,6,8,9,10,11,12,13,14,15,16,17,18,19,2...</td>\n      <td>[1245,6894,4281,6806,1570,4314,1570,9093,9093,...</td>\n      <td>[351558,103480,424633,284368,3180,42941,3180,2...</td>\n      <td>[4,7,53,64,256,322,335,397,399,516,523,526,532...</td>\n    </tr>\n    <tr>\n      <th>1</th>\n      <td>197045</td>\n      <td>642042</td>\n      <td>1494239072</td>\n      <td>430548_1007</td>\n      <td>1</td>\n      <td>0</td>\n      <td>197045.0</td>\n      <td>5.0</td>\n      <td>2.0</td>\n      <td>2.0</td>\n      <td>...</td>\n      <td>233113</td>\n      <td>21240</td>\n      <td>36241.0</td>\n      <td>2.75</td>\n      <td>[1245,1245,1245,6894,6894,6894,11175,11175,124...</td>\n      <td>[236225,351558,351558,103480,103480,103480,304...</td>\n      <td>[1,2,3,5,6,8,9,10,11,12,13,14,15,16,17,18,19,2...</td>\n      <td>[1245,6894,4281,6806,1570,4314,1570,9093,9093,...</td>\n      <td>[351558,103480,424633,284368,3180,42941,3180,2...</td>\n      <td>[4,7,53,64,256,322,335,397,399,516,523,526,532...</td>\n    </tr>\n    <tr>\n      <th>2</th>\n      <td>197045</td>\n      <td>696585</td>\n      <td>1494075937</td>\n      <td>430548_1007</td>\n      <td>1</td>\n      <td>0</td>\n      <td>197045.0</td>\n      <td>5.0</td>\n      <td>2.0</td>\n      <td>2.0</td>\n      <td>...</td>\n      <td>401692</td>\n      <td>56209</td>\n      <td>188080.0</td>\n      <td>98.00</td>\n      <td>[1245,1245,1245,6894,6894,6894,11175,11175,124...</td>\n      <td>[236225,351558,351558,103480,103480,103480,304...</td>\n      <td>[1,2,3,5,6,8,9,10,11,12,13,14,15,16,17,18,19,2...</td>\n      <td>[1245,6894,4281,6806,1570,4314,1570,9093,9093,...</td>\n      <td>[351558,103480,424633,284368,3180,42941,3180,2...</td>\n      <td>[4,7,53,64,256,322,335,397,399,516,523,526,532...</td>\n    </tr>\n    <tr>\n      <th>3</th>\n      <td>197045</td>\n      <td>743418</td>\n      <td>1494403500</td>\n      <td>430548_1007</td>\n      <td>1</td>\n      <td>0</td>\n      <td>197045.0</td>\n      <td>5.0</td>\n      <td>2.0</td>\n      <td>2.0</td>\n      <td>...</td>\n      <td>81529</td>\n      <td>64774</td>\n      <td>0.0</td>\n      <td>169.00</td>\n      <td>[1245,1245,1245,6894,6894,6894,11175,11175,124...</td>\n      <td>[236225,351558,351558,103480,103480,103480,304...</td>\n      <td>[1,2,3,5,6,8,9,10,11,12,13,14,15,16,17,18,19,2...</td>\n      <td>[1245,6894,4281,6806,1570,4314,1570,9093,9093,...</td>\n      <td>[351558,103480,424633,284368,3180,42941,3180,2...</td>\n      <td>[4,7,53,64,256,322,335,397,399,516,523,526,532...</td>\n    </tr>\n    <tr>\n      <th>4</th>\n      <td>197045</td>\n      <td>215350</td>\n      <td>1494599636</td>\n      <td>430548_1007</td>\n      <td>1</td>\n      <td>0</td>\n      <td>197045.0</td>\n      <td>5.0</td>\n      <td>2.0</td>\n      <td>2.0</td>\n      <td>...</td>\n      <td>91018</td>\n      <td>33618</td>\n      <td>21271.0</td>\n      <td>39.00</td>\n      <td>[1245,1245,1245,6894,6894,6894,11175,11175,124...</td>\n      <td>[236225,351558,351558,103480,103480,103480,304...</td>\n      <td>[1,2,3,5,6,8,9,10,11,12,13,14,15,16,17,18,19,2...</td>\n      <td>[1245,6894,4281,6806,1570,4314,1570,9093,9093,...</td>\n      <td>[351558,103480,424633,284368,3180,42941,3180,2...</td>\n      <td>[4,7,53,64,256,322,335,397,399,516,523,526,532...</td>\n    </tr>\n    <tr>\n      <th>...</th>\n      <td>...</td>\n      <td>...</td>\n      <td>...</td>\n      <td>...</td>\n      <td>...</td>\n      <td>...</td>\n      <td>...</td>\n      <td>...</td>\n      <td>...</td>\n      <td>...</td>\n      <td>...</td>\n      <td>...</td>\n      <td>...</td>\n      <td>...</td>\n      <td>...</td>\n      <td>...</td>\n      <td>...</td>\n      <td>...</td>\n      <td>...</td>\n      <td>...</td>\n      <td>...</td>\n    </tr>\n    <tr>\n      <th>9995</th>\n      <td>1041408</td>\n      <td>613221</td>\n      <td>1494389160</td>\n      <td>430539_1007</td>\n      <td>1</td>\n      <td>0</td>\n      <td>1041408.0</td>\n      <td>0.0</td>\n      <td>3.0</td>\n      <td>2.0</td>\n      <td>...</td>\n      <td>131055</td>\n      <td>7935</td>\n      <td>140633.0</td>\n      <td>688.00</td>\n      <td>[5957,4284,6261,6261,4520,4520,4280,4280,5920,...</td>\n      <td>[261632,261632,261632,261632,22959,182215,1700...</td>\n      <td>[1,2,3,4,5,6,7,8,9,10,11,11,13,13,15,16,17,18,...</td>\n      <td>[619,11849,5920,4520,4284,4280,133,7353,6261,6...</td>\n      <td>[240323,364046,270824,414896,414896,139558,280...</td>\n      <td>[19,25,29,37,39,148,221,232,365,380,462,543,55...</td>\n    </tr>\n    <tr>\n      <th>9996</th>\n      <td>1041408</td>\n      <td>621434</td>\n      <td>1494477822</td>\n      <td>430539_1007</td>\n      <td>1</td>\n      <td>0</td>\n      <td>1041408.0</td>\n      <td>0.0</td>\n      <td>3.0</td>\n      <td>2.0</td>\n      <td>...</td>\n      <td>183730</td>\n      <td>192403</td>\n      <td>196567.0</td>\n      <td>139.80</td>\n      <td>[5957,4284,6261,6261,4520,4520,4280,4280,5920,...</td>\n      <td>[261632,261632,261632,261632,22959,182215,1700...</td>\n      <td>[1,2,3,4,5,6,7,8,9,10,11,11,13,13,15,16,17,18,...</td>\n      <td>[619,11849,5920,4520,4284,4280,133,7353,6261,6...</td>\n      <td>[240323,364046,270824,414896,414896,139558,280...</td>\n      <td>[19,25,29,37,39,148,221,232,365,380,462,543,55...</td>\n    </tr>\n    <tr>\n      <th>9997</th>\n      <td>1041408</td>\n      <td>621692</td>\n      <td>1494389107</td>\n      <td>430539_1007</td>\n      <td>1</td>\n      <td>0</td>\n      <td>1041408.0</td>\n      <td>0.0</td>\n      <td>3.0</td>\n      <td>2.0</td>\n      <td>...</td>\n      <td>16001</td>\n      <td>92576</td>\n      <td>262440.0</td>\n      <td>188.00</td>\n      <td>[5957,4284,6261,6261,4520,4520,4280,4280,5920,...</td>\n      <td>[261632,261632,261632,261632,22959,182215,1700...</td>\n      <td>[1,2,3,4,5,6,7,8,9,10,11,11,13,13,15,16,17,18,...</td>\n      <td>[619,11849,5920,4520,4284,4280,133,7353,6261,6...</td>\n      <td>[240323,364046,270824,414896,414896,139558,280...</td>\n      <td>[19,25,29,37,39,148,221,232,365,380,462,543,55...</td>\n    </tr>\n    <tr>\n      <th>9998</th>\n      <td>1041408</td>\n      <td>621692</td>\n      <td>1494477822</td>\n      <td>430539_1007</td>\n      <td>1</td>\n      <td>0</td>\n      <td>1041408.0</td>\n      <td>0.0</td>\n      <td>3.0</td>\n      <td>2.0</td>\n      <td>...</td>\n      <td>16001</td>\n      <td>92576</td>\n      <td>262440.0</td>\n      <td>188.00</td>\n      <td>[5957,4284,6261,6261,4520,4520,4280,4280,5920,...</td>\n      <td>[261632,261632,261632,261632,22959,182215,1700...</td>\n      <td>[1,2,3,4,5,6,7,8,9,10,11,11,13,13,15,16,17,18,...</td>\n      <td>[619,11849,5920,4520,4284,4280,133,7353,6261,6...</td>\n      <td>[240323,364046,270824,414896,414896,139558,280...</td>\n      <td>[19,25,29,37,39,148,221,232,365,380,462,543,55...</td>\n    </tr>\n    <tr>\n      <th>9999</th>\n      <td>1041408</td>\n      <td>624640</td>\n      <td>1494237748</td>\n      <td>430539_1007</td>\n      <td>1</td>\n      <td>0</td>\n      <td>1041408.0</td>\n      <td>0.0</td>\n      <td>3.0</td>\n      <td>2.0</td>\n      <td>...</td>\n      <td>307675</td>\n      <td>213760</td>\n      <td>269842.0</td>\n      <td>1588.00</td>\n      <td>[5957,4284,6261,6261,4520,4520,4280,4280,5920,...</td>\n      <td>[261632,261632,261632,261632,22959,182215,1700...</td>\n      <td>[1,2,3,4,5,6,7,8,9,10,11,11,13,13,15,16,17,18,...</td>\n      <td>[619,11849,5920,4520,4284,4280,133,7353,6261,6...</td>\n      <td>[240323,364046,270824,414896,414896,139558,280...</td>\n      <td>[19,25,29,37,39,148,221,232,365,380,462,543,55...</td>\n    </tr>\n  </tbody>\n</table>\n<p>9936 rows × 26 columns</p>\n</div>"
     },
     "metadata": {},
     "execution_count": 77
    }
   ],
   "source": [
    "train_data"
   ]
  },
  {
   "cell_type": "code",
   "execution_count": 83,
   "metadata": {},
   "outputs": [],
   "source": [
    "from sklearn.preprocessing import LabelEncoder\n"
   ]
  },
  {
   "cell_type": "code",
   "execution_count": 84,
   "metadata": {},
   "outputs": [
    {
     "output_type": "execute_result",
     "data": {
      "text/plain": "4"
     },
     "metadata": {},
     "execution_count": 84
    }
   ],
   "source": [
    "len(set(train_data[\"guide_dien_final_train_data.shopping_level\"].values))"
   ]
  },
  {
   "cell_type": "code",
   "execution_count": 85,
   "metadata": {},
   "outputs": [
    {
     "output_type": "execute_result",
     "data": {
      "text/plain": "Index(['guide_dien_final_train_data.user',\n       'guide_dien_final_train_data.adgroup_id',\n       'guide_dien_final_train_data.time_stamp',\n       'guide_dien_final_train_data.pid', 'guide_dien_final_train_data.nonclk',\n       'guide_dien_final_train_data.clk', 'guide_dien_final_train_data.userid',\n       'guide_dien_final_train_data.cms_segid',\n       'guide_dien_final_train_data.cms_group_id',\n       'guide_dien_final_train_data.final_gender_code',\n       'guide_dien_final_train_data.age_level',\n       'guide_dien_final_train_data.pvalue_level',\n       'guide_dien_final_train_data.shopping_level',\n       'guide_dien_final_train_data.occupation',\n       'guide_dien_final_train_data.new_user_class_level',\n       'guide_dien_final_train_data.cate_id',\n       'guide_dien_final_train_data.campaign_id',\n       'guide_dien_final_train_data.customer',\n       'guide_dien_final_train_data.brand',\n       'guide_dien_final_train_data.price',\n       'guide_dien_final_train_data.show_cate',\n       'guide_dien_final_train_data.show_brand',\n       'guide_dien_final_train_data.show_rk',\n       'guide_dien_final_train_data.click_cate',\n       'guide_dien_final_train_data.click_brand',\n       'guide_dien_final_train_data.click_rk'],\n      dtype='object')"
     },
     "metadata": {},
     "execution_count": 85
    }
   ],
   "source": [
    "train_data.columns"
   ]
  },
  {
   "cell_type": "code",
   "execution_count": 86,
   "metadata": {
    "tags": []
   },
   "outputs": [],
   "source": [
    "def parse_row(df, row_num):\n",
    "    row = df.loc[row_num]\n",
    "    label = row[\"guide_dien_final_train_data.clk\"]\n",
    "    target_cate = row[\"guide_dien_final_train_data.cate_id\"]\n",
    "    target_brand = row[\"guide_dien_final_train_data.brand\"]\n",
    "    hist_behavior_clk_cate = row[\"guide_dien_final_train_data.click_cate\"]\n",
    "    hist_behavior_clk_brand = row[\"guide_dien_final_train_data.click_brand\"]\n",
    "    hist_behavior_show_cate = row[\"guide_dien_final_train_data.show_cate\"]\n",
    "    hist_behavior_show_brand = row[\"guide_dien_final_train_data.show_brand\"]\n",
    "    return tf.convert_to_tensor(label), tf.convert_to_tensor(target_cate), tf.convert_to_tensor(target_brand), tf.convert_to_tensor(hist_behavior_clk_cate), tf.convert_to_tensor(hist_behavior_clk_brand), tf.convert_to_tensor(hist_behavior_show_cate), tf.convert_to_tensor(hist_behavior_show_brand)\n",
    "\n",
    "def data_generator():\n",
    "    df = pd.read_csv(\"/nfs/project/boweihan_2/DIEN/dien_tf2/self_data/train.csv\")\n",
    "    n = len(df)\n",
    "    for i in range(n):\n",
    "        yield parse_row(df, i)"
   ]
  },
  {
   "cell_type": "code",
   "execution_count": 55,
   "metadata": {},
   "outputs": [],
   "source": [
    "def get_normal_data(data, col):\n",
    "    return data[col].values\n",
    "\n",
    "def get_sequence_data(data, col):\n",
    "    rst = []\n",
    "    max_length = 0\n",
    "    for i in data[col].values:\n",
    "        temp = len(list(map(eval,i[1:-1].split(\",\"))))\n",
    "        if temp > max_length:\n",
    "            max_length = temp\n",
    "\n",
    "    for i in data[col].values:\n",
    "        temp = list(map(eval,i[1:-1].split(\",\")))\n",
    "        padding = np.zeros(max_length - len(temp))\n",
    "        rst.append(list(np.append(np.array(temp), padding)))\n",
    "    return rst\n",
    "\n",
    "def convert_tensor(data):\n",
    "    return tf.convert_to_tensor(data)"
   ]
  },
  {
   "cell_type": "code",
   "execution_count": 87,
   "metadata": {},
   "outputs": [],
   "source": [
    "def get_batch_data(data, min_batch, batch=100):\n",
    "    batch_data = None\n",
    "    if min_batch + batch <= len(train_data):\n",
    "        batch_data = data.loc[min_batch:min_batch + batch - 1]\n",
    "    else:\n",
    "        batch_data = data.loc[min_batch:]\n",
    "    min_batch += batch\n",
    "    click = get_normal_data(batch_data, \"guide_dien_final_train_data.clk\")\n",
    "    no_click = get_normal_data(batch_data, \"guide_dien_final_train_data.nonclk\")\n",
    "    label = [click, no_click]\n",
    "    target_cate = get_normal_data(batch_data, \"guide_dien_final_train_data.cate_id\")\n",
    "    target_brand = get_normal_data(batch_data, \"guide_dien_final_train_data.brand\")\n",
    "    cms_segid = get_normal_data(batch_data, \"guide_dien_final_train_data.cms_segid\")\n",
    "    cms_group = get_normal_data(batch_data, \"guide_dien_final_train_data.cms_group_id\")\n",
    "    gender = get_normal_data(batch_data, \"guide_dien_final_train_data.final_gender_code\")\n",
    "    age = get_normal_data(batch_data, \"guide_dien_final_train_data.age_level\")\n",
    "    pvalue = get_normal_data(batch_data, \"guide_dien_final_train_data.pvalue_level\")\n",
    "    shopping = get_normal_data(batch_data, \"guide_dien_final_train_data.shopping_level\")\n",
    "    occupation = get_normal_data(batch_data, \"guide_dien_final_train_data.occupation\")\n",
    "    user_class_level = get_normal_data(batch_data, \"guide_dien_final_train_data.new_user_class_level\")\n",
    "    hist_brand_behavior_clk = get_sequence_data(batch_data, \"guide_dien_final_train_data.click_brand\")\n",
    "    hist_cate_behavior_clk = get_sequence_data(batch_data, \"guide_dien_final_train_data.click_cate\")\n",
    "    hist_brand_behavior_show = get_sequence_data(batch_data, \"guide_dien_final_train_data.show_brand\")\n",
    "    hist_cate_behavior_show = get_sequence_data(batch_data, \"guide_dien_final_train_data.show_cate\")\n",
    "\n",
    "    return tf.reshape(convert_tensor(label), (batch, 2)), convert_tensor(target_cate), convert_tensor(target_brand), convert_tensor(cms_segid), convert_tensor(cms_group), convert_tensor(gender), convert_tensor(age), convert_tensor(pvalue), convert_tensor(shopping), convert_tensor(occupation), convert_tensor(user_class_level), convert_tensor(hist_brand_behavior_clk), convert_tensor(hist_cate_behavior_clk), convert_tensor(hist_brand_behavior_show), convert_tensor(hist_cate_behavior_show), min_batch + batch"
   ]
  },
  {
   "cell_type": "code",
   "execution_count": null,
   "metadata": {},
   "outputs": [],
   "source": []
  },
  {
   "cell_type": "code",
   "execution_count": 88,
   "metadata": {
    "tags": []
   },
   "outputs": [],
   "source": [
    "brand_count = 500000#get_embedding_count(\"brand\")\n",
    "cate_count = 15000#get_embedding_count(\"cate\")\n",
    "cms_segid_count = get_embedding_count(\"cms_segid\")\n",
    "cms_group_id_count = get_embedding_count(\"cms_group_id\")\n",
    "gender_count = 3#get_embedding_count(\"final_gender_code\")\n",
    "age_count = get_embedding_count(\"age_level\")\n",
    "pvalue_count = get_embedding_count(\"pvalue_level\")\n",
    "shopping_count = 4#get_embedding_count(\"shopping_level\")\n",
    "occupation_count = 5#get_embedding_count(\"occupation\")\n",
    "user_class_level_count = 5#get_embedding_count(\"new_user_class_level\")"
   ]
  },
  {
   "cell_type": "code",
   "execution_count": 89,
   "metadata": {},
   "outputs": [],
   "source": [
    "cate_dim = 8\n",
    "brand_dim = 8\n",
    "cms_segid_dim = 8\n",
    "cms_group_dim = 8\n",
    "gender_dim = 8\n",
    "age_dim = 8\n",
    "pvalue_dim = 8\n",
    "shopping_dim = 8\n",
    "occupation_dim = 8\n",
    "user_class_level_dim = 8\n",
    "bias_length = 80\n",
    "alpha = 0.2\n",
    "epochs = 10"
   ]
  },
  {
   "cell_type": "code",
   "execution_count": 90,
   "metadata": {
    "tags": []
   },
   "outputs": [],
   "source": [
    "model = DIEN(\n",
    "    cate_dim = cate_dim, \n",
    "    cate_count = cate_count, \n",
    "    brand_dim = brand_dim, \n",
    "    brand_count = brand_count, \n",
    "    cms_segid_dim = cms_segid_dim, \n",
    "    cms_segid_count = cms_segid_count, \n",
    "    cms_group_dim = cms_group_dim, \n",
    "    cms_group_count = cms_group_id_count, \n",
    "    gender_dim = gender_dim, \n",
    "    gender_count = gender_count,\n",
    "    age_dim = age_dim, \n",
    "    age_count = age_count, \n",
    "    pvalue_dim = pvalue_dim, \n",
    "    pvalue_count = pvalue_count, \n",
    "    shopping_dim = shopping_dim, \n",
    "    shopping_count = shopping_count, \n",
    "    occupation_dim = occupation_dim, \n",
    "    occupation_count = occupation_count, \n",
    "    user_class_level_count = user_class_level_count, \n",
    "    user_class_level_dim = user_class_level_dim, \n",
    "    bias_length = bias_length)"
   ]
  },
  {
   "cell_type": "code",
   "execution_count": 91,
   "metadata": {},
   "outputs": [],
   "source": [
    "log_path = \"/nfs/project/boweihan_2/DIEN/dien_tf2/train_log/\"\n",
    "train_summary_writer = tf.summary.create_file_writer(log_path)"
   ]
  },
  {
   "cell_type": "code",
   "execution_count": 92,
   "metadata": {
    "tags": []
   },
   "outputs": [],
   "source": [
    "optimizer = tf.keras.optimizers.SGD(learning_rate=0.5, momentum=0.0)\n",
    "loss_metric = tf.keras.metrics.Sum()\n",
    "auc_metric = tf.keras.metrics.AUC()"
   ]
  },
  {
   "cell_type": "code",
   "execution_count": 93,
   "metadata": {},
   "outputs": [
    {
     "output_type": "execute_result",
     "data": {
      "text/plain": "[<tensorflow.python.keras.layers.embeddings.Embedding at 0x7f74ffc5c890>,\n <tensorflow.python.keras.layers.embeddings.Embedding at 0x7f74ffc57490>,\n <tensorflow.python.keras.layers.embeddings.Embedding at 0x7f74ffc574d0>,\n <tensorflow.python.keras.layers.embeddings.Embedding at 0x7f74ffc578d0>,\n <tensorflow.python.keras.layers.embeddings.Embedding at 0x7f7504b0ad90>,\n <tensorflow.python.keras.layers.embeddings.Embedding at 0x7f74ffb452d0>,\n <tensorflow.python.keras.layers.embeddings.Embedding at 0x7f74ffb45ad0>,\n <tensorflow.python.keras.layers.embeddings.Embedding at 0x7f74ffcd2990>,\n <tensorflow.python.keras.layers.embeddings.Embedding at 0x7f74ffb90310>,\n <tensorflow.python.keras.layers.embeddings.Embedding at 0x7f74ffb45d50>,\n <tensorflow.python.keras.layers.recurrent_v2.GRU at 0x7f74ffb90b50>,\n <__main__.AUGRU at 0x7f74f860d650>,\n <tensorflow.python.keras.engine.sequential.Sequential at 0x7f74f860d550>]"
     },
     "metadata": {},
     "execution_count": 93
    }
   ],
   "source": [
    "model.layers"
   ]
  },
  {
   "cell_type": "code",
   "execution_count": 94,
   "metadata": {
    "tags": []
   },
   "outputs": [],
   "source": [
    "def train_one_step(target_cate, target_brand, hist_cate_behavior_clk, hist_brand_behavior_clk, cms_segid, cms_group, gender, age, pvalue, shopping, occupation, user_class_level, label):\n",
    "    with tf.GradientTape() as tape:\n",
    "        aux_loss, output, logit = model(target_cate, target_brand, hist_cate_behavior_clk, hist_brand_behavior_clk, cms_segid, cms_group, gender, age, pvalue, shopping, occupation, user_class_level)\n",
    "        target_loss = tf.reduce_mean(tf.nn.sigmoid_cross_entropy_with_logits(logits=output,labels=tf.cast(label,dtype=tf.float32)))\n",
    "        final_loss = target_loss + alpha * aux_loss\n",
    "        print(\"aux_loss=\" + str(aux_loss))\n",
    "        print(\"target_loss=\" + str(target_loss))\n",
    "        print(\"final_loss=\" + str(final_loss))\n",
    "    gradient = tape.gradient(final_loss, model.trainable_variables)\n",
    "    clip_gradient, _ = tf.clip_by_global_norm(gradient, 5.0)\n",
    "    optimizer.apply_gradients(zip(clip_gradient, model.trainable_variables))\n",
    "    loss_metric(final_loss)\n"
   ]
  },
  {
   "cell_type": "code",
   "execution_count": 64,
   "metadata": {
    "tags": []
   },
   "outputs": [
    {
     "output_type": "stream",
     "name": "stdout",
     "text": "read data error\nread data error\nread data error\nread data error\nread data error\nread data error\nread data error\nread data error\nread data error\nread data error\nread data error\nread data error\nread data error\nread data error\nread data error\nread data error\nread data error\nread data error\nread data error\nread data error\nread data error\nread data error\nread data error\nread data error\nread data error\nread data error\nread data error\nread data error\nread data error\nread data error\nread data error\nread data error\nread data error\nread data error\nread data error\nread data error\nread data error\nread data error\nread data error\nread data error\nread data error\nread data error\nread data error\nread data error\nread data error\nread data error\nread data error\nread data error\nread data error\nread data error\nread data error\nread data error\nread data error\nread data error\nread data error\nread data error\nread data error\nread data error\nread data error\nread data error\nread data error\nread data error\nread data error\nread data error\nread data error\nread data error\nread data error\nread data error\nread data error\nread data error\nread data error\nread data error\nread data error\nread data error\nread data error\nread data error\nread data error\nread data error\nread data error\nread data error\nread data error\nread data error\nread data error\nread data error\nread data error\nread data error\nread data error\nread data error\nread data error\nread data error\nread data error\nread data error\nread data error\nread data error\nread data error\nread data error\nread data error\nread data error\nread data error\nread data error\nread data error\nread data error\nread data error\nread data error\nread data error\nread data error\nread data error\nread data error\nread data error\nread data error\nread data error\nread data error\nread data error\nread data error\nread data error\nread data error\nread data error\nread data error\nread data error\nread data error\nread data error\nread data error\nread data error\nread data error\nread data error\nread data error\nread data error\nread data error\nread data error\nread data error\nread data error\nread data error\nread data error\nread data error\nread data error\nread data error\nread data error\nread data error\nread data error\nread data error\nread data error\nread data error\nread data error\nread data error\nread data error\nread data error\nread data error\nread data error\nread data error\nread data error\nread data error\nread data error\nread data error\nread data error\nread data error\nread data error\nread data error\nread data error\nread data error\nread data error\nread data error\nread data error\nread data error\nread data error\nread data error\nread data error\nread data error\nread data error\nread data error\nread data error\nread data error\nread data error\nread data error\nread data error\nread data error\nread data error\nread data error\nread data error\nread data error\nread data error\nread data error\nread data error\nread data error\nread data error\nread data error\nread data error\nread data error\nread data error\nread data error\nread data error\nread data error\nread data error\nread data error\nread data error\nread data error\nread data error\nread data error\nread data error\nread data error\nread data error\nread data error\nread data error\nread data error\nread data error\nread data error\nread data error\nread data error\nread data error\nread data error\nread data error\nread data error\nread data error\nread data error\nread data error\nread data error\nread data error\nread data error\nread data error\nread data error\nread data error\nread data error\nread data error\nread data error\nread data error\nread data error\nread data error\nread data error\nread data error\nread data error\nread data error\nread data error\nread data error\nread data error\nread data error\nread data error\nread data error\nread data error\nread data error\nread data error\nread data error\nread data error\nread data error\nread data error\nread data error\nread data error\nread data error\nread data error\nread data error\nread data error\nread data error\nread data error\nread data error\nread data error\nread data error\nread data error\nread data error\nread data error\nread data error\nread data error\nread data error\nread data error\nread data error\nread data error\nread data error\nread data error\nread data error\nread data error\nread data error\nread data error\nread data error\nread data error\nread data error\nread data error\nread data error\nread data error\nread data error\nread data error\nread data error\nread data error\nread data error\nread data error\nread data error\nread data error\nread data error\nread data error\nread data error\nread data error\nread data error\nread data error\nread data error\nread data error\nread data error\nread data error\nread data error\nread data error\nread data error\nread data error\nread data error\nread data error\nread data error\nread data error\nread data error\nread data error\nread data error\nread data error\nread data error\nread data error\nread data error\nread data error\nread data error\nread data error\nread data error\nread data error\nread data error\nread data error\nread data error\nread data error\nread data error\nread data error\nread data error\nread data error\nread data error\nread data error\nread data error\nread data error\nread data error\nread data error\nread data error\nread data error\nread data error\nread data error\nread data error\nread data error\nread data error\nread data error\nread data error\nread data error\nread data error\nread data error\nread data error\nread data error\nread data error\nread data error\nread data error\nread data error\nread data error\nread data error\nread data error\nread data error\nread data error\nread data error\nread data error\nread data error\nread data error\nread data error\nread data error\nread data error\nread data error\nread data error\nread data error\nread data error\nread data error\nread data error\nread data error\nread data error\nread data error\nread data error\nread data error\nread data error\nread data error\nread data error\nread data error\nread data error\nread data error\nread data error\nread data error\nread data error\nread data error\nread data error\nread data error\nread data error\nread data error\nread data error\nread data error\nread data error\nread data error\nread data error\nread data error\nread data error\nread data error\nread data error\nread data error\nread data error\nread data error\nread data error\nread data error\nread data error\nread data error\nread data error\nread data error\nread data error\nread data error\nread data error\nread data error\nread data error\nread data error\nread data error\nread data error\nread data error\nread data error\nread data error\nread data error\nread data error\nread data error\nread data error\nread data error\nread data error\nread data error\nread data error\nread data error\nread data error\nread data error\nread data error\nread data error\nread data error\nread data error\nread data error\nread data error\nread data error\nread data error\nread data error\nread data error\nread data error\nread data error\nread data error\nread data error\nread data error\nread data error\nread data error\nread data error\nread data error\nread data error\nread data error\nread data error\nread data error\nread data error\nread data error\nread data error\nread data error\nread data error\nread data error\nread data error\nread data error\nread data error\nread data error\nread data error\nread data error\nread data error\nread data error\nread data error\nread data error\nread data error\nread data error\nread data error\nread data error\nread data error\nread data error\nread data error\nread data error\nread data error\nread data error\nread data error\nread data error\nread data error\nread data error\nread data error\nread data error\nread data error\nread data error\nread data error\nread data error\nread data error\nread data error\nread data error\nread data error\nread data error\nread data error\nread data error\nread data error\nread data error\nread data error\nread data error\nread data error\nread data error\nread data error\nread data error\nread data error\nread data error\nread data error\nread data error\nread data error\nread data error\nread data error\nread data error\nread data error\nread data error\nread data error\nread data error\nread data error\nread data error\nread data error\nread data error\nread data error\nread data error\nread data error\nread data error\nread data error\nread data error\nread data error\nread data error\nread data error\nread data error\nread data error\nread data error\nread data error\nread data error\nread data error\nread data error\nread data error\nread data error\nread data error\nread data error\nread data error\nread data error\nread data error\nread data error\nread data error\nread data error\nread data error\nread data error\nread data error\nread data error\nread data error\nread data error\nread data error\nread data error\nread data error\nread data error\nread data error\nread data error\nread data error\nread data error\nread data error\nread data error\nread data error\nread data error\nread data error\nread data error\nread data error\nread data error\nread data error\nread data error\nread data error\nread data error\nread data error\nread data error\nread data error\nread data error\nread data error\nread data error\nread data error\nread data error\nread data error\nread data error\nread data error\nread data error\nread data error\nread data error\nread data error\nread data error\nread data error\nread data error\nread data error\nread data error\nread data error\nread data error\nread data error\nread data error\nread data error\nread data error\nread data error\nread data error\nread data error\nread data error\nread data error\nread data error\nread data error\nread data error\nread data error\nread data error\nread data error\nread data error\nread data error\nread data error\nread data error\nread data error\nread data error\nread data error\nread data error\nread data error\nread data error\nread data error\nread data error\nread data error\nread data error\nread data error\nread data error\nread data error\nread data error\nread data error\nread data error\nread data error\nread data error\nread data error\nread data error\nread data error\nread data error\nread data error\nread data error\nread data error\nread data error\nread data error\nread data error\nread data error\nread data error\nread data error\nread data error\nread data error\nread data error\nread data error\nread data error\nread data error\nread data error\nread data error\nread data error\nread data error\nread data error\nread data error\nread data error\nread data error\nread data error\nread data error\nread data error\nread data error\nread data error\nread data error\nread data error\nread data error\nread data error\nread data error\nread data error\nread data error\nread data error\nread data error\nread data error\nread data error\nread data error\nread data error\nread data error\nread data error\nread data error\nread data error\nread data error\nread data error\nread data error\nread data error\nread data error\nread data error\nread data error\nread data error\nread data error\nread data error\nread data error\nread data error\nread data error\nread data error\nread data error\nread data error\nread data error\nread data error\nread data error\nread data error\nread data error\nread data error\nread data error\nread data error\nread data error\nread data error\nread data error\nread data error\nread data error\nread data error\nread data error\nread data error\nread data error\nread data error\nread data error\nread data error\nread data error\nread data error\nread data error\nread data error\nread data error\nread data error\nread data error\nread data error\nread data error\nread data error\nread data error\nread data error\nread data error\nread data error\nread data error\nread data error\nread data error\nread data error\nread data error\nread data error\nread data error\nread data error\nread data error\nread data error\nread data error\nread data error\nread data error\nread data error\nread data error\nread data error\nread data error\nread data error\nread data error\nread data error\nread data error\nread data error\nread data error\nread data error\nread data error\nread data error\nread data error\nread data error\nread data error\nread data error\nread data error\nread data error\nread data error\nread data error\nread data error\nread data error\nread data error\nread data error\nread data error\nread data error\nread data error\nread data error\nread data error\nread data error\nread data error\nread data error\nread data error\nread data error\nread data error\nread data error\nread data error\nread data error\nread data error\nread data error\nread data error\nread data error\nread data error\nread data error\nread data error\nread data error\nread data error\nread data error\nread data error\nread data error\nread data error\nread data error\nread data error\nread data error\nread data error\nread data error\nread data error\nread data error\nread data error\nread data error\nread data error\nread data error\nread data error\nread data error\nread data error\nread data error\nread data error\nread data error\nread data error\nread data error\nread data error\nread data error\nread data error\nread data error\nread data error\nread data error\nread data error\nread data error\nread data error\nread data error\nread data error\nread data error\nread data error\nread data error\nread data error\nread data error\nread data error\nread data error\nread data error\nread data error\nread data error\nread data error\nread data error\nread data error\nread data error\nread data error\nread data error\nread data error\nread data error\nread data error\nread data error\nread data error\nread data error\nread data error\nread data error\nread data error\nread data error\nread data error\nread data error\nread data error\nread data error\nread data error\nread data error\nread data error\nread data error\nread data error\nread data error\nread data error\nread data error\nread data error\nread data error\nread data error\nread data error\nread data error\nread data error\nread data error\nread data error\nread data error\nread data error\nread data error\nread data error\nread data error\nread data error\nread data error\nread data error\nread data error\nread data error\nread data error\nread data error\nread data error\nread data error\nread data error\nread data error\nread data error\nread data error\nread data error\nread data error\nread data error\nread data error\nread data error\nread data error\nread data error\nread data error\nread data error\nread data error\nread data error\nread data error\nread data error\nread data error\nread data error\nread data error\nread data error\nread data error\nread data error\nread data error\nread data error\nread data error\nread data error\nread data error\nread data error\nread data error\nread data error\nread data error\nread data error\nread data error\nread data error\nread data error\nread data error\nread data error\nread data error\nread data error\nread data error\nread data error\nread data error\nread data error\nread data error\nread data error\nread data error\nread data error\nread data error\nread data error\nread data error\nread data error\nread data error\nread data error\nread data error\nread data error\nread data error\nread data error\nread data error\nread data error\nread data error\nread data error\nread data error\nread data error\nread data error\nread data error\nread data error\nread data error\nread data error\nread data error\nread data error\nread data error\nread data error\nread data error\nread data error\nread data error\nread data error\nread data error\nread data error\nread data error\nread data error\nread data error\nread data error\nread data error\nread data error\nread data error\nread data error\nread data error\nread data error\nread data error\nread data error\nread data error\nread data error\nread data error\nread data error\nread data error\nread data error\nread data error\nread data error\nread data error\nread data error\nread data error\nread data error\nread data error\nread data error\nread data error\nread data error\nread data error\nread data error\nread data error\nread data error\nread data error\nread data error\nread data error\nread data error\nread data error\nread data error\nread data error\nread data error\nread data error\nread data error\nread data error\nread data error\nread data error\nread data error\nread data error\nread data error\nread data error\nread data error\nread data error\nread data error\nread data error\nread data error\nread data error\nread data error\nread data error\nread data error\nread data error\nread data error\nread data error\nread data error\nread data error\nread data error\nread data error\nread data error\nread data error\nread data error\nread data error\nread data error\nread data error\nread data error\nread data error\nread data error\nread data error\nread data error\nread data error\nread data error\nread data error\nread data error\nread data error\nread data error\nread data error\nread data error\nread data error\nread data error\nread data error\nread data error\nread data error\nread data error\nread data error\nread data error\nread data error\nread data error\nread data error\nread data error\nread data error\nread data error\nread data error\nread data error\nread data error\nread data error\nread data error\nread data error\nread data error\nread data error\nread data error\nread data error\nread data error\nread data error\nread data error\nread data error\nread data error\nread data error\nread data error\nread data error\nread data error\nread data error\nread data error\nread data error\nread data error\nread data error\nread data error\nread data error\nread data error\nread data error\nread data error\nread data error\nread data error\nread data error\nread data error\nread data error\nread data error\nread data error\nread data error\nread data error\nread data error\nread data error\nread data error\nread data error\nread data error\nread data error\nread data error\nread data error\nread data error\nread data error\nread data error\nread data error\nread data error\nread data error\nread data error\nread data error\nread data error\nread data error\nread data error\nread data error\nread data error\nread data error\nread data error\nread data error\nread data error\nread data error\nread data error\nread data error\nread data error\nread data error\nread data error\nread data error\nread data error\nread data error\nread data error\nread data error\nread data error\nread data error\nread data error\nread data error\nread data error\nread data error\nread data error\nread data error\nread data error\nread data error\nread data error\nread data error\nread data error\nread data error\nread data error\nread data error\nread data error\nread data error\nread data error\nread data error\nread data error\nread data error\nread data error\nread data error\nread data error\nread data error\nread data error\nread data error\nread data error\nread data error\nread data error\nread data error\nread data error\nread data error\nread data error\nread data error\nread data error\nread data error\nread data error\nread data error\nread data error\nread data error\nread data error\nread data error\nread data error\nread data error\nread data error\nread data error\nread data error\nread data error\nread data error\nread data error\nread data error\nread data error\nread data error\nread data error\nread data error\nread data error\nread data error\nread data error\nread data error\nread data error\nread data error\nread data error\nread data error\nread data error\nread data error\nread data error\nread data error\nread data error\nread data error\nread data error\nread data error\nread data error\nread data error\nread data error\nread data error\nread data error\nread data error\nread data error\nread data error\nread data error\nread data error\nread data error\nread data error\nread data error\nread data error\nread data error\nread data error\nread data error\nread data error\nread data error\nread data error\nread data error\nread data error\nread data error\nread data error\nread data error\nread data error\nread data error\nread data error\nread data error\nread data error\nread data error\nread data error\nread data error\nread data error\nread data error\nread data error\nread data error\nread data error\nread data error\nread data error\nread data error\nread data error\nread data error\nread data error\nread data error\nread data error\nread data error\nread data error\nread data error\n"
    }
   ],
   "source": [
    "for epoch in range(epochs):\n",
    "    min_batch = 0\n",
    "    for i in range(len(train_data)):\n",
    "        label, target_cate, target_brand, cms_segid, cms_group, gender, age, pvalue, shopping, occupation, user_class_level, hist_brand_behavior_clk, hist_cate_behavior_clk, hist_brand_behavior_show, hist_cate_behavior_show, min_batch= get_batch_data(train_data, min_batch)\n",
    "        train_one_step(target_cate, target_brand, hist_cate_behavior_clk, hist_brand_behavior_clk, cms_segid, cms_group, gender, age, pvalue, shopping, occupation, user_class_level, label)"
   ]
  },
  {
   "cell_type": "code",
   "execution_count": null,
   "metadata": {},
   "outputs": [],
   "source": [
    "----------------"
   ]
  },
  {
   "cell_type": "code",
   "execution_count": null,
   "metadata": {},
   "outputs": [],
   "source": [
    "train_data"
   ]
  },
  {
   "cell_type": "code",
   "execution_count": null,
   "metadata": {},
   "outputs": [],
   "source": [
    "aux_loss"
   ]
  },
  {
   "cell_type": "code",
   "execution_count": null,
   "metadata": {},
   "outputs": [],
   "source": [
    "expand_target_item = tf.tile(tf.expand_dims(target_item_emb, axis=1), multiples=[1,hist_gru_emb.numpy().shape[1],1])\n",
    "tf.concat([hist_gru_emb, expand_target_item], axis=-1)\n"
   ]
  },
  {
   "cell_type": "code",
   "execution_count": null,
   "metadata": {},
   "outputs": [],
   "source": [
    "target_item_emb"
   ]
  },
  {
   "cell_type": "code",
   "execution_count": null,
   "metadata": {},
   "outputs": [],
   "source": [
    "a = tf.expand_dims(target_item_emb, axis=1)\n",
    "a"
   ]
  },
  {
   "cell_type": "code",
   "execution_count": null,
   "metadata": {},
   "outputs": [],
   "source": [
    "b = tf.tile(a, multiples=[1,190,1])\n",
    "b"
   ]
  },
  {
   "cell_type": "code",
   "execution_count": null,
   "metadata": {},
   "outputs": [],
   "source": [
    "tf.concat([hist_gru_emb, b], axis=-1)"
   ]
  },
  {
   "cell_type": "code",
   "execution_count": null,
   "metadata": {},
   "outputs": [],
   "source": [
    "hist_gru_emb.numpy().shape[1]"
   ]
  },
  {
   "cell_type": "code",
   "execution_count": null,
   "metadata": {},
   "outputs": [],
   "source": [
    "tf.keras.activations.softmax(tf.convert_to_tensor([1,2,3]), axis=-1)"
   ]
  },
  {
   "cell_type": "code",
   "execution_count": null,
   "metadata": {},
   "outputs": [],
   "source": []
  },
  {
   "cell_type": "code",
   "execution_count": null,
   "metadata": {},
   "outputs": [],
   "source": [
    "gender_dim"
   ]
  },
  {
   "cell_type": "code",
   "execution_count": null,
   "metadata": {},
   "outputs": [],
   "source": [
    "tf.concat([tf.convert_to_tensor([1,2,3]), tf.convert_to_tensor([[2,4],[1,3],[3,4]])], -1)"
   ]
  },
  {
   "cell_type": "code",
   "execution_count": null,
   "metadata": {},
   "outputs": [],
   "source": [
    "epochs = 10\n",
    "best_loss = 0.\n",
    "best_auc = 0.\n",
    "start_time = time.time()\n",
    "for epoch in range(epochs):\n",
    "    for "
   ]
  },
  {
   "cell_type": "code",
   "execution_count": null,
   "metadata": {},
   "outputs": [],
   "source": [
    "model.layers"
   ]
  },
  {
   "cell_type": "code",
   "execution_count": null,
   "metadata": {},
   "outputs": [],
   "source": [
    "filename = os.listdir(\"/nfs/project/boweihan_2/DIEN/dien_tf2/self_data/\")\n",
    "filelist = [os.path.join(\"/nfs/project/boweihan_2/DIEN/dien_tf2/self_data/\",file) for file in filename]\n",
    "example_batch,label_batch = csvread(filelist)"
   ]
  },
  {
   "cell_type": "code",
   "execution_count": null,
   "metadata": {},
   "outputs": [],
   "source": [
    "filename = os.listdir(\"/nfs/project/boweihan_2/DIEN/dien_tf2/self_data/\")\n",
    "[os.path.join('/nfs/project/boweihan_2/DIEN/dien_tf2/self_data/',file) for file in filename]"
   ]
  },
  {
   "cell_type": "code",
   "execution_count": null,
   "metadata": {
    "tags": []
   },
   "outputs": [],
   "source": [
    "for i in enumerate(train_data, start = 1):\n",
    "    print(i)"
   ]
  },
  {
   "cell_type": "code",
   "execution_count": null,
   "metadata": {},
   "outputs": [],
   "source": [
    "train_data.values"
   ]
  },
  {
   "cell_type": "code",
   "execution_count": null,
   "metadata": {},
   "outputs": [],
   "source": [
    "dataset.take(2)"
   ]
  },
  {
   "cell_type": "markdown",
   "metadata": {},
   "source": [
    "## b. 使用hdfs全量数据训练"
   ]
  },
  {
   "cell_type": "code",
   "execution_count": null,
   "metadata": {
    "tags": []
   },
   "outputs": [],
   "source": [
    "!head {\"/nfs/project/boweihan_2/DIEN/dien_tf2/taobao_data/raw_sample.csv\"}"
   ]
  },
  {
   "cell_type": "code",
   "execution_count": null,
   "metadata": {},
   "outputs": [],
   "source": [
    "LABEL_COLUMN = 'clk'\n",
    "LABELS = [0, 1]"
   ]
  },
  {
   "cell_type": "code",
   "execution_count": null,
   "metadata": {},
   "outputs": [],
   "source": [
    "def get_dataset(file_path):\n",
    "    dataset = tf.data.experimental.make_csv_dataset(\n",
    "    file_path,\n",
    "    batch_size=10, # 为了示例更容易展示，手动设置较小的值\n",
    "    label_name=LABEL_COLUMN,\n",
    "    na_value=\"\",\n",
    "    num_epochs=1,\n",
    "    ignore_errors=False)\n",
    "    return dataset"
   ]
  },
  {
   "cell_type": "code",
   "execution_count": null,
   "metadata": {
    "tags": []
   },
   "outputs": [],
   "source": [
    "train_data = get_dataset(\"/nfs/project/boweihan_2/DIEN/dien_tf2/taobao_data/raw_sample.csv\")\n",
    "train_data"
   ]
  },
  {
   "cell_type": "code",
   "execution_count": null,
   "metadata": {},
   "outputs": [],
   "source": [
    "dataset = tf.data.experimental.CsvDataset([\"/nfs/project/boweihan_2/DIEN/dien_tf2/taobao_data/raw_sample.csv\"])\n",
    "dataset"
   ]
  },
  {
   "cell_type": "code",
   "execution_count": null,
   "metadata": {},
   "outputs": [],
   "source": [
    "1"
   ]
  },
  {
   "cell_type": "code",
   "execution_count": null,
   "metadata": {},
   "outputs": [],
   "source": [
    "record_default = [[0.0]] * 12\n",
    "ds = tf.data.experimental.CsvDataset(\"/nfs/project/boweihan_2/DIEN/dien_tf2/taobao_data/raw_sample.csv\", record_default, header=True)\n",
    "ds = ds.map(lambda *items: tf.stack(items))\n",
    "for val in ds.take(1):\n",
    "    print(val)\n"
   ]
  },
  {
   "cell_type": "code",
   "execution_count": null,
   "metadata": {
    "tags": []
   },
   "outputs": [],
   "source": [
    "dataset = (tf.data.Dataset.from_tensor_slices(\"/nfs/project/boweihan_2/DIEN/dien_tf2/taobao_data/raw_sample.csv\").interleave(lambda x:TextLineDataset(x).map(parse_fn, num_parallel_calls=1),cycle_length=4, block_length=16))"
   ]
  },
  {
   "cell_type": "code",
   "execution_count": null,
   "metadata": {
    "tags": []
   },
   "outputs": [],
   "source": [
    "!pwd"
   ]
  },
  {
   "cell_type": "code",
   "execution_count": null,
   "metadata": {
    "tags": []
   },
   "outputs": [],
   "source": []
  },
  {
   "cell_type": "code",
   "execution_count": null,
   "metadata": {},
   "outputs": [],
   "source": [
    "dataset = dataset.flat_map(lambda x: tf.data.Dataset.from_tensor_slices(x))"
   ]
  },
  {
   "cell_type": "code",
   "execution_count": null,
   "metadata": {
    "tags": []
   },
   "outputs": [],
   "source": [
    "!pwd"
   ]
  },
  {
   "cell_type": "code",
   "execution_count": null,
   "metadata": {},
   "outputs": [],
   "source": [
    "tensor = tf.constant([[[1, 2, 3], [4, 5, 6], [2, 3, 5]]])\n",
    "tensor[:, :, 0]"
   ]
  },
  {
   "cell_type": "code",
   "execution_count": null,
   "metadata": {},
   "outputs": [],
   "source": [
    "x = tf.constant([[1, 2, 3], [4, 5, 6]])\n",
    "tf.transpose(x) "
   ]
  },
  {
   "cell_type": "code",
   "execution_count": null,
   "metadata": {},
   "outputs": [],
   "source": [
    "x"
   ]
  },
  {
   "cell_type": "code",
   "execution_count": null,
   "metadata": {},
   "outputs": [],
   "source": [
    "tf.transpose(x, perm=[1, 0])"
   ]
  },
  {
   "cell_type": "code",
   "execution_count": null,
   "metadata": {},
   "outputs": [],
   "source": [
    "x = tf.constant([])"
   ]
  },
  {
   "cell_type": "code",
   "execution_count": null,
   "metadata": {},
   "outputs": [],
   "source": [
    "layers.PReLU"
   ]
  },
  {
   "cell_type": "code",
   "execution_count": null,
   "metadata": {},
   "outputs": [],
   "source": [
    "tf.reduce_mean(tf.constant([1,2,3,4]))"
   ]
  },
  {
   "cell_type": "code",
   "execution_count": null,
   "metadata": {
    "tags": []
   },
   "outputs": [],
   "source": [
    "!pwd"
   ]
  },
  {
   "cell_type": "code",
   "execution_count": null,
   "metadata": {
    "tags": []
   },
   "outputs": [],
   "source": [
    "import tensorflow as tf\n",
    "import numpy as np\n",
    "model = tf.keras.Sequential()\n",
    "model.add(tf.keras.layers.Embedding(1000, 64, input_length=10))\n",
    "# The model will take as input an integer matrix of size (batch,\n",
    "# input_length), and the largest integer (i.e. word index) in the input\n",
    "# should be no larger than 999 (vocabulary size).\n",
    "# Now model.output_shape is (None, 10, 64), where `None` is the batch\n",
    "# dimension.\n",
    "input_array = np.random.randint(9, size=(32, 10))\n",
    "model.compile('rmsprop', 'mse')\n",
    "output_array = model.predict(input_array)\n",
    "print(output_array.shape)"
   ]
  },
  {
   "cell_type": "code",
   "execution_count": null,
   "metadata": {},
   "outputs": [],
   "source": [
    "input_array"
   ]
  },
  {
   "cell_type": "code",
   "execution_count": null,
   "metadata": {},
   "outputs": [],
   "source": [
    "output_array"
   ]
  },
  {
   "cell_type": "code",
   "execution_count": null,
   "metadata": {
    "tags": []
   },
   "outputs": [],
   "source": [
    "!ls"
   ]
  },
  {
   "cell_type": "code",
   "execution_count": null,
   "metadata": {},
   "outputs": [],
   "source": [
    "tensor = tf.constant([[[1, 2, 3], [4, 5, 6], [2, 3, 5]]])"
   ]
  },
  {
   "cell_type": "code",
   "execution_count": null,
   "metadata": {},
   "outputs": [],
   "source": [
    "tensor"
   ]
  },
  {
   "cell_type": "code",
   "execution_count": null,
   "metadata": {},
   "outputs": [],
   "source": [
    "tensor[:, 3]"
   ]
  },
  {
   "cell_type": "code",
   "execution_count": null,
   "metadata": {},
   "outputs": [],
   "source": []
  }
 ],
 "metadata": {
  "kernelspec": {
   "display_name": "Python 3.7.6 64-bit ('tensorflow_gpuenv': conda)",
   "language": "python",
   "name": "python37664bittensorflowgpuenvconda5d44b392e164457f964ae5cdabe5cb3a"
  },
  "language_info": {
   "codemirror_mode": {
    "name": "ipython",
    "version": 3
   },
   "file_extension": ".py",
   "mimetype": "text/x-python",
   "name": "python",
   "nbconvert_exporter": "python",
   "pygments_lexer": "ipython3",
   "version": "3.7.6-final"
  }
 },
 "nbformat": 4,
 "nbformat_minor": 2
}